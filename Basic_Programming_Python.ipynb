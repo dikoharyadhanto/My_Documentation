{
  "nbformat": 4,
  "nbformat_minor": 0,
  "metadata": {
    "colab": {
      "name": "Basic Programming Python.ipynb",
      "provenance": [],
      "collapsed_sections": [],
      "authorship_tag": "ABX9TyNHyXsze1ZyEIQ+rqZ4/HFp",
      "include_colab_link": true
    },
    "kernelspec": {
      "name": "python3",
      "display_name": "Python 3"
    },
    "language_info": {
      "name": "python"
    }
  },
  "cells": [
    {
      "cell_type": "markdown",
      "metadata": {
        "id": "view-in-github",
        "colab_type": "text"
      },
      "source": [
        "<a href=\"https://colab.research.google.com/github/dikoharyadhanto/Python_Basic_Documentation/blob/main/Basic_Programming_Python.ipynb\" target=\"_parent\"><img src=\"https://colab.research.google.com/assets/colab-badge.svg\" alt=\"Open In Colab\"/></a>"
      ]
    },
    {
      "cell_type": "markdown",
      "metadata": {
        "id": "YYRgbLUg-DrO"
      },
      "source": [
        "# **Pengenalan**"
      ]
    },
    {
      "cell_type": "code",
      "metadata": {
        "colab": {
          "base_uri": "https://localhost:8080/"
        },
        "id": "UFrAadcy90nq",
        "outputId": "90de72ba-1cbc-498c-a8fb-07b59fc4ecd8"
      },
      "source": [
        "print (\"Haloo Dunia\")\n",
        "print (\"Apa Kabar\")\n",
        "print (\"Haloo Dunia, Apa Kabar?\")"
      ],
      "execution_count": null,
      "outputs": [
        {
          "output_type": "stream",
          "text": [
            "Haloo Dunia\n",
            "Apa Kabar\n",
            "Haloo Dunia, Apa Kabar?\n"
          ],
          "name": "stdout"
        }
      ]
    },
    {
      "cell_type": "markdown",
      "metadata": {
        "id": "voyEH4g__G3b"
      },
      "source": [
        "Kita bisa mengcompile python kedalam bentuk yang namanya bytecode.\n",
        "\n",
        "Cara mengcompile:\n",
        "- Buka terminal\n",
        "- Tuliskan `python -m py._compile (nama file).py`"
      ]
    },
    {
      "cell_type": "markdown",
      "metadata": {
        "id": "D5Xht7qS-5ja"
      },
      "source": [
        "## **Comment**"
      ]
    },
    {
      "cell_type": "code",
      "metadata": {
        "colab": {
          "base_uri": "https://localhost:8080/"
        },
        "id": "tVe_A-Bk-2jm",
        "outputId": "9dada3cd-34cd-42a7-e371-cb863332fe14"
      },
      "source": [
        "# ini adalah comment\n",
        "\n",
        "a = 10 # ini adalah comment juga\n",
        "\n",
        "'''\n",
        "ini adalah comment \n",
        "kamu bisa menuliskan keterangan apapun disini\n",
        "karena tidak akan mempengaruhi hasil\n",
        "'''\n",
        "\n",
        "print (a)"
      ],
      "execution_count": null,
      "outputs": [
        {
          "output_type": "stream",
          "text": [
            "10\n"
          ],
          "name": "stdout"
        }
      ]
    },
    {
      "cell_type": "markdown",
      "metadata": {
        "id": "PcPxDwgY_e0k"
      },
      "source": [
        "## **Variables & Literals**"
      ]
    },
    {
      "cell_type": "code",
      "metadata": {
        "id": "9wSoPoZm_cIG"
      },
      "source": [
        "# Variables & Literals\n",
        "bilangan1 = 5\n",
        "bilangan2 = 10\n",
        "kalimat1 = \"Belajar Bahasa Python\""
      ],
      "execution_count": null,
      "outputs": []
    },
    {
      "cell_type": "code",
      "metadata": {
        "id": "KnS7_AJ3B8ei"
      },
      "source": [
        "a = 10, # a adalah variabel dengan nilai literals 10"
      ],
      "execution_count": null,
      "outputs": []
    },
    {
      "cell_type": "code",
      "metadata": {
        "colab": {
          "base_uri": "https://localhost:8080/"
        },
        "id": "yIqUeydXA2RX",
        "outputId": "822ca126-5a8e-4884-cf65-7924e38c817a"
      },
      "source": [
        "bil1, bil2 = 3, 4\n",
        "salam, penutup = \"Selamat Pagi\", \"Salam Sejahtera\"\n",
        "\n",
        "print(bil1)\n",
        "print(penutup)"
      ],
      "execution_count": null,
      "outputs": [
        {
          "output_type": "stream",
          "text": [
            "3\n",
            "Salam Sejahtera\n"
          ],
          "name": "stdout"
        }
      ]
    },
    {
      "cell_type": "markdown",
      "metadata": {
        "id": "umVCL5kl_1Z5"
      },
      "source": [
        "## **Statement**"
      ]
    },
    {
      "cell_type": "code",
      "metadata": {
        "colab": {
          "base_uri": "https://localhost:8080/"
        },
        "id": "nvQAgNB4_026",
        "outputId": "7a4f2b4e-0c0b-48e5-95d1-ccbe1eeffe3c"
      },
      "source": [
        "# Statement\n",
        "print(\"Belajar Python menyenangkan\") \n",
        "print(\"Halo Dunia\")\n",
        "print(\"Hello World!\")"
      ],
      "execution_count": null,
      "outputs": [
        {
          "output_type": "stream",
          "text": [
            "Belajar Python menyenangkan\n",
            "Halo Dunia\n",
            "Hello World!\n"
          ],
          "name": "stdout"
        }
      ]
    },
    {
      "cell_type": "code",
      "metadata": {
        "colab": {
          "base_uri": "https://localhost:8080/"
        },
        "id": "66i2pcdK_m-z",
        "outputId": "5390192d-d667-4f6b-ac0a-652698e52977"
      },
      "source": [
        "#Pencetakan (statements)\n",
        "print(\"angka dari bilangan1 adalah \", bilangan1)\n",
        "print(\"angka dari bilangan2 adalah \", bilangan2)\n",
        "\n",
        "print(\"Riset Bahasa Python\")"
      ],
      "execution_count": null,
      "outputs": [
        {
          "output_type": "stream",
          "text": [
            "angka dari bilangan1 adalah  5\n",
            "angka dari bilangan2 adalah  10\n",
            "Riset Bahasa Python\n"
          ],
          "name": "stdout"
        }
      ]
    },
    {
      "cell_type": "markdown",
      "metadata": {
        "id": "Yt_PNRBuAY-k"
      },
      "source": [
        "# **Struktur Program**"
      ]
    },
    {
      "cell_type": "code",
      "metadata": {
        "colab": {
          "base_uri": "https://localhost:8080/"
        },
        "id": "TiEA_9HaAble",
        "outputId": "b351367f-9a87-43f1-a7bc-66f608451613"
      },
      "source": [
        "bilangan1 = 20\n",
        "bilangan2 = 10\n",
        "hasil     = bilangan1 - bilangan2\n",
        "print(hasil)"
      ],
      "execution_count": null,
      "outputs": [
        {
          "output_type": "stream",
          "text": [
            "10\n"
          ],
          "name": "stdout"
        }
      ]
    },
    {
      "cell_type": "code",
      "metadata": {
        "colab": {
          "base_uri": "https://localhost:8080/"
        },
        "id": "bmut8ds2AeyU",
        "outputId": "e1f012e8-7945-4c25-8bc8-a8311e73c1ba"
      },
      "source": [
        "bilangan1 = 20\n",
        "bilangan2 = 10\n",
        "print(bilangan1 - bilangan2)"
      ],
      "execution_count": null,
      "outputs": [
        {
          "output_type": "stream",
          "text": [
            "10\n"
          ],
          "name": "stdout"
        }
      ]
    },
    {
      "cell_type": "code",
      "metadata": {
        "colab": {
          "base_uri": "https://localhost:8080/"
        },
        "id": "lIxOqoKvAgAe",
        "outputId": "869519a4-7cd5-4b0a-b431-28588d755a3a"
      },
      "source": [
        "harga_asli = 20000\n",
        "potongan = 2000\n",
        "harga_setelah_potongan = harga_asli - potongan\n",
        "harga_final = harga_setelah_potongan*1.1\n",
        "\n",
        "#Pencetakkan\n",
        "print(\"Harga Setelah Potongan = \", harga_setelah_potongan)\n",
        "print(\"Harga Total = \", harga_final)"
      ],
      "execution_count": null,
      "outputs": [
        {
          "output_type": "stream",
          "text": [
            "Harga Setelah Potongan =  18000\n",
            "Harga Total =  19800.0\n"
          ],
          "name": "stdout"
        }
      ]
    },
    {
      "cell_type": "markdown",
      "metadata": {
        "id": "kXB-oI0HBeeH"
      },
      "source": [
        "# **Tipe Data**"
      ]
    },
    {
      "cell_type": "markdown",
      "metadata": {
        "id": "1SDcfT2WCEP4"
      },
      "source": [
        "## **Integer**"
      ]
    },
    {
      "cell_type": "code",
      "metadata": {
        "colab": {
          "base_uri": "https://localhost:8080/"
        },
        "id": "oSHIZpyECDnV",
        "outputId": "ea5f1ebc-fe85-4d86-cd24-0728ab516f6c"
      },
      "source": [
        "# tipe data : Angka Satuan (Integer)\n",
        "data_integer = 1\n",
        "print(\"data_integer = \",data_integer, \", type = \", type(data_integer))"
      ],
      "execution_count": null,
      "outputs": [
        {
          "output_type": "stream",
          "text": [
            "data_integer =  1 , type =  <class 'int'>\n"
          ],
          "name": "stdout"
        }
      ]
    },
    {
      "cell_type": "markdown",
      "metadata": {
        "id": "XdKWBhHfCJuX"
      },
      "source": [
        "## **Float**"
      ]
    },
    {
      "cell_type": "code",
      "metadata": {
        "colab": {
          "base_uri": "https://localhost:8080/"
        },
        "id": "nkhMTz0oCJJI",
        "outputId": "d3f3e940-b33b-4c0e-aff8-3cb12bb22255"
      },
      "source": [
        "# tipe data : Angka desimal (Float)\n",
        "data_float = 1.5\n",
        "print(\"data_float = \",data_float, \", type = \", type(data_float))"
      ],
      "execution_count": null,
      "outputs": [
        {
          "output_type": "stream",
          "text": [
            "data_float =  1.5 , type =  <class 'float'>\n"
          ],
          "name": "stdout"
        }
      ]
    },
    {
      "cell_type": "markdown",
      "metadata": {
        "id": "ATKsRStfCOV8"
      },
      "source": [
        "## **String**"
      ]
    },
    {
      "cell_type": "code",
      "metadata": {
        "colab": {
          "base_uri": "https://localhost:8080/"
        },
        "id": "JHuUIE_VCN7Z",
        "outputId": "60da2525-ca3c-4dbf-bbe5-04bd07b2c5eb"
      },
      "source": [
        "# tipe data : kumpulan karakter (string)\n",
        "data_string = \"Diko Hary Adhanto\"\n",
        "print(\"data_string = \",data_string, \", type = \", type(data_string))\n",
        "data_string = 1.5\n",
        "print(\"data_string = \",data_string, \", type = \", type(str(data_string)))"
      ],
      "execution_count": null,
      "outputs": [
        {
          "output_type": "stream",
          "text": [
            "data_string =  Diko Hary Adhanto , type =  <class 'str'>\n",
            "data_string =  1.5 , type =  <class 'str'>\n"
          ],
          "name": "stdout"
        }
      ]
    },
    {
      "cell_type": "markdown",
      "metadata": {
        "id": "yZ5ahZLRCSMa"
      },
      "source": [
        "## **Boolean**"
      ]
    },
    {
      "cell_type": "code",
      "metadata": {
        "colab": {
          "base_uri": "https://localhost:8080/"
        },
        "id": "a3hV3GtjCRp6",
        "outputId": "1a02ec49-f074-4ac3-8eff-b199eeca93f2"
      },
      "source": [
        "# tipe data : biner true/false (boolean)\n",
        "data_boolean = True\n",
        "print(\"data_boolean = \",data_boolean, \", type = \", type(data_boolean))\n",
        "data_boolean = False\n",
        "print(\"data_boolean = \",data_boolean, \", type = \", type(data_boolean))"
      ],
      "execution_count": null,
      "outputs": [
        {
          "output_type": "stream",
          "text": [
            "data_boolean =  True , type =  <class 'bool'>\n",
            "data_boolean =  False , type =  <class 'bool'>\n"
          ],
          "name": "stdout"
        }
      ]
    },
    {
      "cell_type": "markdown",
      "metadata": {
        "id": "qk6vU1RnCXMJ"
      },
      "source": [
        "## **Tipe Data Khusus**"
      ]
    },
    {
      "cell_type": "markdown",
      "metadata": {
        "id": "dSdUhSBQCciY"
      },
      "source": [
        "### **Bilangan Kompleks**"
      ]
    },
    {
      "cell_type": "code",
      "metadata": {
        "colab": {
          "base_uri": "https://localhost:8080/"
        },
        "id": "j7OZ578CBgqX",
        "outputId": "de2e2fee-92f2-45ef-9d00-4a1685ef3ba3"
      },
      "source": [
        "# bilangan kompleks\n",
        "data_complex = complex(5,6)\n",
        "print(\"data_complex = \",data_complex, \", type = \", type(data_complex))"
      ],
      "execution_count": null,
      "outputs": [
        {
          "output_type": "stream",
          "text": [
            "data_complex =  (5+6j) , type =  <class 'complex'>\n"
          ],
          "name": "stdout"
        }
      ]
    },
    {
      "cell_type": "markdown",
      "metadata": {
        "id": "YImWhOG-CitE"
      },
      "source": [
        "### **Tipe Data dari Bahasa C**"
      ]
    },
    {
      "cell_type": "code",
      "metadata": {
        "id": "q_96CmgMCh1v"
      },
      "source": [
        "# tipe data dari bahasa C\n",
        "from ctypes import c_double"
      ],
      "execution_count": null,
      "outputs": []
    },
    {
      "cell_type": "markdown",
      "metadata": {
        "id": "XhPuPd87Cmes"
      },
      "source": [
        "Kita import dulu dari Bahasa C dengan menggunakan `from ctypes`. \n",
        "\n",
        "`c_double`yang lebih panjang dari `float`"
      ]
    },
    {
      "cell_type": "code",
      "metadata": {
        "colab": {
          "base_uri": "https://localhost:8080/"
        },
        "id": "LqHzw1P6Clz-",
        "outputId": "a848f757-35c3-4b1c-ecd7-a2bcf4163c42"
      },
      "source": [
        "data_c_double = c_double(10.5)\n",
        "print(\"data_c_double = \", data_c_double, \", type = \", type(data_c_double))"
      ],
      "execution_count": null,
      "outputs": [
        {
          "output_type": "stream",
          "text": [
            "data_c_double =  c_double(10.5) , type =  <class 'ctypes.c_double'>\n"
          ],
          "name": "stdout"
        }
      ]
    },
    {
      "cell_type": "markdown",
      "metadata": {
        "id": "wRsba3vODKbX"
      },
      "source": [
        "# **Melakukan Casting Tipe Data**"
      ]
    },
    {
      "cell_type": "markdown",
      "metadata": {
        "id": "sRgdoQkxDVB8"
      },
      "source": [
        "Maksudnya mengubah dari satu tipe data ke tipe data lainnya."
      ]
    },
    {
      "cell_type": "markdown",
      "metadata": {
        "id": "bmGpk21YDbq0"
      },
      "source": [
        "## **Integer**"
      ]
    },
    {
      "cell_type": "code",
      "metadata": {
        "colab": {
          "base_uri": "https://localhost:8080/"
        },
        "id": "H362tem7DiTm",
        "outputId": "587ba4de-cb0e-42d0-bc7d-e84c77d65618"
      },
      "source": [
        "#INTEGER\n",
        "data_int = 9;\n",
        "print(\"data = \", data_int, \", type data = \", type(data_int))"
      ],
      "execution_count": null,
      "outputs": [
        {
          "output_type": "stream",
          "text": [
            "data =  9 , type data =  <class 'int'>\n"
          ],
          "name": "stdout"
        }
      ]
    },
    {
      "cell_type": "code",
      "metadata": {
        "colab": {
          "base_uri": "https://localhost:8080/"
        },
        "id": "6y-JVlYFDmss",
        "outputId": "3243a920-e4e2-4e8b-9c57-08d7cf8932ad"
      },
      "source": [
        "#Integer ==> Float\n",
        "data_float = float(data_int)\n",
        "print(\"data = \", data_float, \", type data = \", type(data_float))"
      ],
      "execution_count": null,
      "outputs": [
        {
          "output_type": "stream",
          "text": [
            "data =  9.0 , type data =  <class 'float'>\n"
          ],
          "name": "stdout"
        }
      ]
    },
    {
      "cell_type": "code",
      "metadata": {
        "colab": {
          "base_uri": "https://localhost:8080/"
        },
        "id": "f97lIaiCDu14",
        "outputId": "03c8e312-0d64-4729-ccf5-d8136a3432f4"
      },
      "source": [
        "#Integer ==> String\n",
        "data_str = str(data_int)\n",
        "print(\"data = \", data_str, \", type data = \", type(data_str))"
      ],
      "execution_count": null,
      "outputs": [
        {
          "output_type": "stream",
          "text": [
            "data =  9 , type data =  <class 'str'>\n"
          ],
          "name": "stdout"
        }
      ]
    },
    {
      "cell_type": "code",
      "metadata": {
        "colab": {
          "base_uri": "https://localhost:8080/"
        },
        "id": "4IcPNq3zD22a",
        "outputId": "a5509475-f8bf-4fa9-b4f6-be295717ee4c"
      },
      "source": [
        "#Integer ==> Boolean\n",
        "data_bool = bool(data_int)\n",
        "print(\"data = \", data_bool, \", type data = \", type(data_bool)) #Nilai selain dari 0 akan menjadi True"
      ],
      "execution_count": null,
      "outputs": [
        {
          "output_type": "stream",
          "text": [
            "data =  True , type data =  <class 'bool'>\n"
          ],
          "name": "stdout"
        }
      ]
    },
    {
      "cell_type": "markdown",
      "metadata": {
        "id": "CQqbzkvYEDzA"
      },
      "source": [
        "## **Float**"
      ]
    },
    {
      "cell_type": "code",
      "metadata": {
        "colab": {
          "base_uri": "https://localhost:8080/"
        },
        "id": "FyYtP75oELP7",
        "outputId": "3c4d7564-2a5b-46ae-9cb7-9d86b9713be7"
      },
      "source": [
        "#FLOAT\n",
        "data_float = 9.6;\n",
        "print(\"data = \", data_float, \", type data = \", type(data_float))"
      ],
      "execution_count": null,
      "outputs": [
        {
          "output_type": "stream",
          "text": [
            "data =  9.6 , type data =  <class 'float'>\n"
          ],
          "name": "stdout"
        }
      ]
    },
    {
      "cell_type": "code",
      "metadata": {
        "colab": {
          "base_uri": "https://localhost:8080/"
        },
        "id": "v5CCDictENxR",
        "outputId": "f2528323-cd4c-4f39-c704-d09bd3b0c8b6"
      },
      "source": [
        "#Float ==> Integer\n",
        "data_int = int(data_float)\n",
        "print(\"data = \", data_int, \", type data = \", type(data_int)) #akan dibulatkan ke bawah"
      ],
      "execution_count": null,
      "outputs": [
        {
          "output_type": "stream",
          "text": [
            "data =  9 , type data =  <class 'int'>\n"
          ],
          "name": "stdout"
        }
      ]
    },
    {
      "cell_type": "code",
      "metadata": {
        "colab": {
          "base_uri": "https://localhost:8080/"
        },
        "id": "t_LxKCxYEdVf",
        "outputId": "987892fa-8484-4e75-fb10-939d4d02ee16"
      },
      "source": [
        "#Float ==> String\n",
        "data_str = str(data_float)\n",
        "print(\"data = \", data_str, \", type data = \", type(data_str))"
      ],
      "execution_count": null,
      "outputs": [
        {
          "output_type": "stream",
          "text": [
            "data =  9.6 , type data =  <class 'str'>\n"
          ],
          "name": "stdout"
        }
      ]
    },
    {
      "cell_type": "code",
      "metadata": {
        "colab": {
          "base_uri": "https://localhost:8080/"
        },
        "id": "cnmp5Ua8EfFm",
        "outputId": "fe0167fe-e750-4bd5-cfb2-4b107ccac6a9"
      },
      "source": [
        "#Float ==> Boolean\n",
        "data_bool = bool(data_float)\n",
        "print(\"data = \", data_bool, \", type data = \", type(data_bool)) #Nilai selain dari 0 akan menjadi True"
      ],
      "execution_count": null,
      "outputs": [
        {
          "output_type": "stream",
          "text": [
            "data =  True , type data =  <class 'bool'>\n"
          ],
          "name": "stdout"
        }
      ]
    },
    {
      "cell_type": "markdown",
      "metadata": {
        "id": "qLeKwD1gE03O"
      },
      "source": [
        "## **Boolean**"
      ]
    },
    {
      "cell_type": "code",
      "metadata": {
        "colab": {
          "base_uri": "https://localhost:8080/"
        },
        "id": "d8gQ5jjGE3eJ",
        "outputId": "93be96ac-c6f9-4fe6-c965-9f078fe992ef"
      },
      "source": [
        "#BOOLEAN\n",
        "data_bool = True;\n",
        "print(\"data = \", data_bool, \", type data = \", type(data_bool))"
      ],
      "execution_count": null,
      "outputs": [
        {
          "output_type": "stream",
          "text": [
            "data =  True , type data =  <class 'bool'>\n"
          ],
          "name": "stdout"
        }
      ]
    },
    {
      "cell_type": "code",
      "metadata": {
        "colab": {
          "base_uri": "https://localhost:8080/"
        },
        "id": "0B8KFaoAFAEP",
        "outputId": "a7709737-be97-4113-fc21-cccad3ffc527"
      },
      "source": [
        "#Boolean ==> Integer\n",
        "data_int = int(data_bool)\n",
        "print(\"data = \", data_int, \", type data = \", type(data_int)) #akan dibulatkan ke bawah"
      ],
      "execution_count": null,
      "outputs": [
        {
          "output_type": "stream",
          "text": [
            "data =  1 , type data =  <class 'int'>\n"
          ],
          "name": "stdout"
        }
      ]
    },
    {
      "cell_type": "code",
      "metadata": {
        "colab": {
          "base_uri": "https://localhost:8080/"
        },
        "id": "VfQkwyrPFNVb",
        "outputId": "32aee8f4-3304-4aa6-f748-891b79390adf"
      },
      "source": [
        "#Boolean ==> String\n",
        "data_str = str(data_bool)\n",
        "print(\"data = \", data_str, \", type data = \", type(data_str))"
      ],
      "execution_count": null,
      "outputs": [
        {
          "output_type": "stream",
          "text": [
            "data =  True , type data =  <class 'str'>\n"
          ],
          "name": "stdout"
        }
      ]
    },
    {
      "cell_type": "code",
      "metadata": {
        "colab": {
          "base_uri": "https://localhost:8080/"
        },
        "id": "QnzrPapEFRGe",
        "outputId": "6a2493af-d770-4e76-ce75-2d92996a8126"
      },
      "source": [
        "#Boolean ==> Float\n",
        "data_float = float(data_bool)\n",
        "print(\"data = \", data_float, \", type data = \", type(data_float)) #Nilai selain dari 0 akan menjadi True"
      ],
      "execution_count": null,
      "outputs": [
        {
          "output_type": "stream",
          "text": [
            "data =  1.0 , type data =  <class 'float'>\n"
          ],
          "name": "stdout"
        }
      ]
    },
    {
      "cell_type": "markdown",
      "metadata": {
        "id": "3xNK7yJ1Fciu"
      },
      "source": [
        "## **String**"
      ]
    },
    {
      "cell_type": "code",
      "metadata": {
        "colab": {
          "base_uri": "https://localhost:8080/"
        },
        "id": "dBu5zsgUFi3g",
        "outputId": "3f4aa5a2-44e9-4f2d-85a6-268e9c8c7d3d"
      },
      "source": [
        "#STRING\n",
        "data_str = \"10\";\n",
        "print(\"data = \", data_str, \", type data = \", type(data_str))"
      ],
      "execution_count": null,
      "outputs": [
        {
          "output_type": "stream",
          "text": [
            "data =  10 , type data =  <class 'str'>\n"
          ],
          "name": "stdout"
        }
      ]
    },
    {
      "cell_type": "code",
      "metadata": {
        "colab": {
          "base_uri": "https://localhost:8080/"
        },
        "id": "U4AKd-n7FrCK",
        "outputId": "e590bf74-9f11-4046-e883-f906a3d297d1"
      },
      "source": [
        "#String ==> Integer\n",
        "data_int = int(data_str)\n",
        "print(\"data = \", data_int, \", type data = \", type(data_int)) #akan dibulatkan ke bawah"
      ],
      "execution_count": null,
      "outputs": [
        {
          "output_type": "stream",
          "text": [
            "data =  10 , type data =  <class 'int'>\n"
          ],
          "name": "stdout"
        }
      ]
    },
    {
      "cell_type": "code",
      "metadata": {
        "colab": {
          "base_uri": "https://localhost:8080/"
        },
        "id": "sepM0gsYDFNE",
        "outputId": "b10dbc1e-915c-43e1-b2d3-13cf02082568"
      },
      "source": [
        "#String ==> Boolean\n",
        "data_bool = bool(data_str)\n",
        "print(\"data = \", data_bool, \", type data = \", type(data_bool))"
      ],
      "execution_count": null,
      "outputs": [
        {
          "output_type": "stream",
          "text": [
            "data =  True , type data =  <class 'bool'>\n"
          ],
          "name": "stdout"
        }
      ]
    },
    {
      "cell_type": "code",
      "metadata": {
        "colab": {
          "base_uri": "https://localhost:8080/"
        },
        "id": "p_e-SCOgFxJN",
        "outputId": "a70bb247-0b68-4a97-886a-68804f08eaae"
      },
      "source": [
        "#String ==> Float\n",
        "data_float = float(data_str)\n",
        "print(\"data = \", data_float, \", type data = \", type(data_float)) #Nilai selain dari 0 akan menjadi True"
      ],
      "execution_count": null,
      "outputs": [
        {
          "output_type": "stream",
          "text": [
            "data =  10.0 , type data =  <class 'float'>\n"
          ],
          "name": "stdout"
        }
      ]
    },
    {
      "cell_type": "markdown",
      "metadata": {
        "id": "ASMHovc9GDHX"
      },
      "source": [
        "# **Input Data**"
      ]
    },
    {
      "cell_type": "markdown",
      "metadata": {
        "id": "d9Vws1qHGMh-"
      },
      "source": [
        "Dalam Input Data, data yang ingin kita masukkan pasti akan dalam bentuk `string` tipe datanya"
      ]
    },
    {
      "cell_type": "code",
      "metadata": {
        "colab": {
          "base_uri": "https://localhost:8080/"
        },
        "id": "7i79Q70lGWtG",
        "outputId": "9c3f021f-091b-41c4-bab4-9982211e8653"
      },
      "source": [
        "# Data yang dimasukkan pasti string\n",
        "data = input(\"Masukkan data: \")\n",
        "print(\"Data yang kamu masukkan adalah \", data, \", type = \", type(data))"
      ],
      "execution_count": null,
      "outputs": [
        {
          "output_type": "stream",
          "text": [
            "Masukkan data: 12\n",
            "Data yang kamu masukkan adalah  12 , type =  <class 'str'>\n"
          ],
          "name": "stdout"
        }
      ]
    },
    {
      "cell_type": "markdown",
      "metadata": {
        "id": "0ZxcrBBFGbMr"
      },
      "source": [
        "Jika kita ingin mengambil data `float`, misalnya, maka:"
      ]
    },
    {
      "cell_type": "code",
      "metadata": {
        "colab": {
          "base_uri": "https://localhost:8080/"
        },
        "id": "bYxyGrMLGFhF",
        "outputId": "237cfbe2-d221-4dec-a0e6-a1694d1d698c"
      },
      "source": [
        "angka = float(input(\"Masukkan angka: \"))\n",
        "print(\"Angka yang kamu masukkan adalah \", angka, \", type = \", type(angka))"
      ],
      "execution_count": null,
      "outputs": [
        {
          "output_type": "stream",
          "text": [
            "Masukkan angka: 12\n",
            "Angka yang kamu masukkan adalah  12.0 , type =  <class 'float'>\n"
          ],
          "name": "stdout"
        }
      ]
    },
    {
      "cell_type": "markdown",
      "metadata": {
        "id": "a6-YULavGv6x"
      },
      "source": [
        "atau dengan data `int`, maka:"
      ]
    },
    {
      "cell_type": "code",
      "metadata": {
        "colab": {
          "base_uri": "https://localhost:8080/"
        },
        "id": "IqqZAkWUGvhz",
        "outputId": "2ca7390a-e31c-4acb-9513-4c871af3ee45"
      },
      "source": [
        "angka = int(input(\"Masukkan angka: \"))\n",
        "print(\"Angka yang kamu masukkan adalah \", angka, \", type = \", type(angka))"
      ],
      "execution_count": null,
      "outputs": [
        {
          "output_type": "stream",
          "text": [
            "Masukkan angka: 12\n",
            "Angka yang kamu masukkan adalah  12 , type =  <class 'int'>\n"
          ],
          "name": "stdout"
        }
      ]
    },
    {
      "cell_type": "markdown",
      "metadata": {
        "id": "Eoe3F7WnGnIC"
      },
      "source": [
        "Bagaimana dengan `Bool`?"
      ]
    },
    {
      "cell_type": "code",
      "metadata": {
        "colab": {
          "base_uri": "https://localhost:8080/"
        },
        "id": "WFTwS0yGGmSr",
        "outputId": "d9f77288-4aeb-4cf8-da3a-3888aaf357fb"
      },
      "source": [
        "biner = bool(input(\"Masukkan nilai: \"))\n",
        "print(\"Nilai yang kamu masukkan adalah \", biner, \", type = \", type(biner))"
      ],
      "execution_count": null,
      "outputs": [
        {
          "output_type": "stream",
          "text": [
            "Masukkan nilai: 12\n",
            "Nilai yang kamu masukkan adalah  True , type =  <class 'bool'>\n"
          ],
          "name": "stdout"
        }
      ]
    },
    {
      "cell_type": "markdown",
      "metadata": {
        "id": "dNvGpDmEHXBw"
      },
      "source": [
        "# **Operasi Matematika**"
      ]
    },
    {
      "cell_type": "markdown",
      "metadata": {
        "id": "B1xHxig5KW-M"
      },
      "source": [
        "## **Operator**"
      ]
    },
    {
      "cell_type": "code",
      "metadata": {
        "id": "wS2eGVaYKEt5"
      },
      "source": [
        "a = 10\n",
        "b = 3"
      ],
      "execution_count": null,
      "outputs": []
    },
    {
      "cell_type": "markdown",
      "metadata": {
        "id": "jtjzbtTpKNcN"
      },
      "source": [
        "### **Operasi Tambah (+)**"
      ]
    },
    {
      "cell_type": "code",
      "metadata": {
        "colab": {
          "base_uri": "https://localhost:8080/"
        },
        "id": "cngs4hCMKH81",
        "outputId": "bbf63934-2200-490e-a518-bb311a58d6f8"
      },
      "source": [
        "# operasi tambah +\n",
        "hasil = a + b\n",
        "print(a, '+', b, '=', hasil)"
      ],
      "execution_count": null,
      "outputs": [
        {
          "output_type": "stream",
          "text": [
            "10 + 3 = 13\n"
          ],
          "name": "stdout"
        }
      ]
    },
    {
      "cell_type": "markdown",
      "metadata": {
        "id": "vKetlT3KKlrL"
      },
      "source": [
        "### **Operasi Kurang (-)**"
      ]
    },
    {
      "cell_type": "code",
      "metadata": {
        "colab": {
          "base_uri": "https://localhost:8080/"
        },
        "id": "YoYA5AvBKkCO",
        "outputId": "0ed5c53a-1142-4430-e017-491650aee18e"
      },
      "source": [
        "# operasi kurang -\n",
        "hasil = a - b\n",
        "print(a, '-', b, '=', hasil)"
      ],
      "execution_count": null,
      "outputs": [
        {
          "output_type": "stream",
          "text": [
            "10 - 3 = 7\n"
          ],
          "name": "stdout"
        }
      ]
    },
    {
      "cell_type": "markdown",
      "metadata": {
        "id": "qRSST7viKwnP"
      },
      "source": [
        "### **Operasi Perkalian (*)**"
      ]
    },
    {
      "cell_type": "code",
      "metadata": {
        "colab": {
          "base_uri": "https://localhost:8080/"
        },
        "id": "f9B8_hTmKrCl",
        "outputId": "25760976-c73b-44f7-a742-ee0b6ec3454e"
      },
      "source": [
        "# operasi perkaiian *\n",
        "hasil = a * b\n",
        "print(a, '*', b, '=', hasil)"
      ],
      "execution_count": null,
      "outputs": [
        {
          "output_type": "stream",
          "text": [
            "10 * 3 = 30\n"
          ],
          "name": "stdout"
        }
      ]
    },
    {
      "cell_type": "markdown",
      "metadata": {
        "id": "X54OS6tKK5RL"
      },
      "source": [
        "### **Operasi Pembagian (/)**"
      ]
    },
    {
      "cell_type": "code",
      "metadata": {
        "colab": {
          "base_uri": "https://localhost:8080/"
        },
        "id": "uu0cTZzHK6G1",
        "outputId": "f530610e-8414-438d-a2c7-c19ee813811c"
      },
      "source": [
        "# operasi pembagian /\n",
        "hasil = a / b\n",
        "print(a, '/', b, '=', hasil)"
      ],
      "execution_count": null,
      "outputs": [
        {
          "output_type": "stream",
          "text": [
            "10 / 3 = 3.3333333333333335\n"
          ],
          "name": "stdout"
        }
      ]
    },
    {
      "cell_type": "markdown",
      "metadata": {
        "id": "5dQMcA40LCUS"
      },
      "source": [
        "### **Operasi Eksponen (* *)**"
      ]
    },
    {
      "cell_type": "code",
      "metadata": {
        "colab": {
          "base_uri": "https://localhost:8080/"
        },
        "id": "Lpbzg4LtLBrH",
        "outputId": "edb0afaa-bedc-4576-b9f8-f1b4f1fcb216"
      },
      "source": [
        "# operasi eksponen (pangkat) **\n",
        "hasil = a ** b\n",
        "print(a, '**', b, '=', hasil)"
      ],
      "execution_count": null,
      "outputs": [
        {
          "output_type": "stream",
          "text": [
            "10 ** 3 = 1000\n"
          ],
          "name": "stdout"
        }
      ]
    },
    {
      "cell_type": "markdown",
      "metadata": {
        "id": "_c1dttDkLQR4"
      },
      "source": [
        "### **Operasi Modulus (%)**"
      ]
    },
    {
      "cell_type": "code",
      "metadata": {
        "colab": {
          "base_uri": "https://localhost:8080/"
        },
        "id": "1-6sWJjnLPxi",
        "outputId": "6c670a85-7ddc-4684-ea12-be8f15b70910"
      },
      "source": [
        "# operasi modulus %\n",
        "hasil = a / b\n",
        "print(a, '%', b, '=', hasil)"
      ],
      "execution_count": null,
      "outputs": [
        {
          "output_type": "stream",
          "text": [
            "10 % 3 = 3.3333333333333335\n"
          ],
          "name": "stdout"
        }
      ]
    },
    {
      "cell_type": "markdown",
      "metadata": {
        "id": "ldTs9fpqLXwF"
      },
      "source": [
        "### **Operasi Floor Division (//)**"
      ]
    },
    {
      "cell_type": "code",
      "metadata": {
        "colab": {
          "base_uri": "https://localhost:8080/"
        },
        "id": "U2c2Q4xCLYRq",
        "outputId": "9b328055-d2e6-4df6-ea1c-0238a91db225"
      },
      "source": [
        "# operasi floor division //\n",
        "hasil = a // b\n",
        "print(a, '//', b, '=', hasil)"
      ],
      "execution_count": null,
      "outputs": [
        {
          "output_type": "stream",
          "text": [
            "10 // 3 = 3\n"
          ],
          "name": "stdout"
        }
      ]
    },
    {
      "cell_type": "markdown",
      "metadata": {
        "id": "_uu93C9BLg4X"
      },
      "source": [
        "Prioritas Operasi (Operational Precedence):\n",
        "1. Operasi dengan tanda kurung\n",
        "2. Eksponen\n",
        "3. Perkalian, Pembagian, Modulus, Floor Division\n",
        "4. Pertambahan dan Pengurangan"
      ]
    },
    {
      "cell_type": "code",
      "metadata": {
        "id": "oY0XfDhMKAxj"
      },
      "source": [
        "x = 3\n",
        "y = 2\n",
        "z = 4"
      ],
      "execution_count": null,
      "outputs": []
    },
    {
      "cell_type": "code",
      "metadata": {
        "colab": {
          "base_uri": "https://localhost:8080/"
        },
        "id": "R3YzszGlMEQU",
        "outputId": "87653891-5d0e-44b0-f7ae-0884b7661f21"
      },
      "source": [
        "hasil = x ** y * z + x / y - y % z // x\n",
        "print(x, '**', y, '*', z, '+', x, '/', y, '-', y, '%', z, '//', x, '=', hasil)"
      ],
      "execution_count": null,
      "outputs": [
        {
          "output_type": "stream",
          "text": [
            "3 ** 2 * 4 + 3 / 2 - 2 % 4 // 3 = 37.5\n"
          ],
          "name": "stdout"
        }
      ]
    },
    {
      "cell_type": "code",
      "metadata": {
        "colab": {
          "base_uri": "https://localhost:8080/"
        },
        "id": "2__bURYZMFrx",
        "outputId": "2d3dab6e-20c0-4437-af0f-2ada5d163d51"
      },
      "source": [
        "hasil = x + y * z\n",
        "print(x, '+', y, '*', z, '=', hasil)"
      ],
      "execution_count": null,
      "outputs": [
        {
          "output_type": "stream",
          "text": [
            "3 + 2 * 4 = 11\n"
          ],
          "name": "stdout"
        }
      ]
    },
    {
      "cell_type": "code",
      "metadata": {
        "colab": {
          "base_uri": "https://localhost:8080/"
        },
        "id": "NPP-UItMMHNc",
        "outputId": "6e7e8c5e-93bd-43ce-c3fd-b5c25066b9aa"
      },
      "source": [
        "#kurung akan mengambil langkah pertama\n",
        "hasil = (x + y) * z\n",
        "print('(', x, '+', y,')', '*', z, '=', hasil)"
      ],
      "execution_count": null,
      "outputs": [
        {
          "output_type": "stream",
          "text": [
            "( 3 + 2 ) * 4 = 20\n"
          ],
          "name": "stdout"
        }
      ]
    },
    {
      "cell_type": "markdown",
      "metadata": {
        "id": "CwOsHsoZMbgO"
      },
      "source": [
        "## **Operasi Komparasi**"
      ]
    },
    {
      "cell_type": "markdown",
      "metadata": {
        "id": "oSA7ENIZMiWG"
      },
      "source": [
        "Setiap hasil dari operasi komparasi adalah Boolean"
      ]
    },
    {
      "cell_type": "code",
      "metadata": {
        "id": "N9Kj1UXUMsql"
      },
      "source": [
        "a = 4\n",
        "b = 2"
      ],
      "execution_count": null,
      "outputs": []
    },
    {
      "cell_type": "markdown",
      "metadata": {
        "id": "x97DzZpbMt4r"
      },
      "source": [
        "### **Lebih Besar dari (>)**"
      ]
    },
    {
      "cell_type": "code",
      "metadata": {
        "colab": {
          "base_uri": "https://localhost:8080/"
        },
        "id": "0xat3eQQM1Ie",
        "outputId": "96985cec-d658-48d4-cb77-f1801f4f9a6a"
      },
      "source": [
        "# lebih besar dari >\n",
        "hasil = a > 3\n",
        "print (a, \">\", 3, \"=\", hasil)\n",
        "hasil = b > 3\n",
        "print (b, \">\", 3, \"=\", hasil)\n",
        "hasil = b > 2\n",
        "print (b, \">\", 2, \"=\", hasil)"
      ],
      "execution_count": null,
      "outputs": [
        {
          "output_type": "stream",
          "text": [
            "4 > 3 = True\n",
            "2 > 3 = False\n",
            "2 > 2 = False\n"
          ],
          "name": "stdout"
        }
      ]
    },
    {
      "cell_type": "markdown",
      "metadata": {
        "id": "mfCeOkOiM63V"
      },
      "source": [
        "### **Kurang Dari (<)**"
      ]
    },
    {
      "cell_type": "code",
      "metadata": {
        "colab": {
          "base_uri": "https://localhost:8080/"
        },
        "id": "318-sChENAhR",
        "outputId": "550aedc1-101b-4ec8-84fc-904ae2b5625b"
      },
      "source": [
        "# kurang dari <\n",
        "hasil = a < 3\n",
        "print (a, \"<\", 3, \"=\", hasil)\n",
        "hasil = b < 3\n",
        "print (b, \"<\", 3, \"=\", hasil)\n",
        "hasil = b < 2\n",
        "print (b, \"<\", 2, \"=\", hasil)"
      ],
      "execution_count": null,
      "outputs": [
        {
          "output_type": "stream",
          "text": [
            "4 < 3 = False\n",
            "2 < 3 = True\n",
            "2 < 2 = False\n"
          ],
          "name": "stdout"
        }
      ]
    },
    {
      "cell_type": "markdown",
      "metadata": {
        "id": "LE-XfrKJNIl1"
      },
      "source": [
        "### **Lebih Dari Sama Dengan (>=)**"
      ]
    },
    {
      "cell_type": "code",
      "metadata": {
        "colab": {
          "base_uri": "https://localhost:8080/"
        },
        "id": "-yQZr8ZWNI8p",
        "outputId": "f68abfec-685c-4fa6-9a54-40f05b6c48fb"
      },
      "source": [
        "# lebih dari sama dengan >=\n",
        "hasil = a >= 3\n",
        "print (a, \">=\", 3, \"=\", hasil)\n",
        "hasil = b >= 3\n",
        "print (b, \">=\", 3, \"=\", hasil)\n",
        "hasil = b >= 2\n",
        "print (b, \">=\", 2, \"=\", hasil)"
      ],
      "execution_count": null,
      "outputs": [
        {
          "output_type": "stream",
          "text": [
            "4 >= 3 = True\n",
            "2 >= 3 = False\n",
            "2 >= 2 = True\n"
          ],
          "name": "stdout"
        }
      ]
    },
    {
      "cell_type": "markdown",
      "metadata": {
        "id": "QqZV3rHSNYL2"
      },
      "source": [
        "### **Kurang Dari Sama Dengan (<=)**"
      ]
    },
    {
      "cell_type": "code",
      "metadata": {
        "colab": {
          "base_uri": "https://localhost:8080/"
        },
        "id": "Ex3QRQRWNWr5",
        "outputId": "ebd37a05-549a-4086-d5f5-34edc1e7fba3"
      },
      "source": [
        "# kurang dari sama dengan <=\n",
        "hasil = a <= 3\n",
        "print (a, \"<=\", 3, \"=\", hasil)\n",
        "hasil = b <= 3\n",
        "print (b, \"<=\", 3, \"=\", hasil)\n",
        "hasil = b <= 2\n",
        "print (b, \"<=\", 2, \"=\", hasil)"
      ],
      "execution_count": null,
      "outputs": [
        {
          "output_type": "stream",
          "text": [
            "4 <= 3 = False\n",
            "2 <= 3 = True\n",
            "2 <= 2 = True\n"
          ],
          "name": "stdout"
        }
      ]
    },
    {
      "cell_type": "markdown",
      "metadata": {
        "id": "4hfPzvjKNpJY"
      },
      "source": [
        "### **Sama Dengan (=)**"
      ]
    },
    {
      "cell_type": "code",
      "metadata": {
        "colab": {
          "base_uri": "https://localhost:8080/"
        },
        "id": "v9ha60pUNr9s",
        "outputId": "6219ff26-9601-4cec-fb06-2d9372f1a8e7"
      },
      "source": [
        "# sama dengan ==\n",
        "hasil = a == 3\n",
        "print (a, \"==\", 3, \"=\", hasil)\n",
        "hasil = b == 3\n",
        "print (b, \"==\", 3, \"=\", hasil)\n",
        "hasil = b == 2\n",
        "print (b, \"==\", 2, \"=\", hasil)"
      ],
      "execution_count": null,
      "outputs": [
        {
          "output_type": "stream",
          "text": [
            "4 == 3 = False\n",
            "2 == 3 = False\n",
            "2 == 2 = True\n"
          ],
          "name": "stdout"
        }
      ]
    },
    {
      "cell_type": "markdown",
      "metadata": {
        "id": "640WnrbyNwIq"
      },
      "source": [
        "### **Tidak Sama Dengan (!=)**"
      ]
    },
    {
      "cell_type": "code",
      "metadata": {
        "colab": {
          "base_uri": "https://localhost:8080/"
        },
        "id": "mar0Mvv4N1xL",
        "outputId": "8381dc56-88a1-4cc6-d6fb-61a6426429a5"
      },
      "source": [
        "# Tidak sama dengan !=\n",
        "hasil = a != 3\n",
        "print (a, \"!=\", 3, \"=\", hasil)\n",
        "hasil = b != 3\n",
        "print (b, \"!=\", 3, \"=\", hasil)\n",
        "hasil = b != 2\n",
        "print (b, \"!=\", 2, \"=\", hasil)"
      ],
      "execution_count": null,
      "outputs": [
        {
          "output_type": "stream",
          "text": [
            "4 != 3 = True\n",
            "2 != 3 = True\n",
            "2 != 2 = False\n"
          ],
          "name": "stdout"
        }
      ]
    },
    {
      "cell_type": "markdown",
      "metadata": {
        "id": "V2MMHj-2N87n"
      },
      "source": [
        "### **is**"
      ]
    },
    {
      "cell_type": "code",
      "metadata": {
        "colab": {
          "base_uri": "https://localhost:8080/"
        },
        "id": "7JqL56QzOF5E",
        "outputId": "cd6b2185-d786-4c49-de9b-49647662031a"
      },
      "source": [
        "# is \n",
        "hasil = a is b\n",
        "print (a, \"is\", 3, \"=\", hasil)"
      ],
      "execution_count": null,
      "outputs": [
        {
          "output_type": "stream",
          "text": [
            "4 is 3 = False\n"
          ],
          "name": "stdout"
        }
      ]
    },
    {
      "cell_type": "markdown",
      "metadata": {
        "id": "1Chy2-MUON72"
      },
      "source": [
        "### **is not**"
      ]
    },
    {
      "cell_type": "code",
      "metadata": {
        "colab": {
          "base_uri": "https://localhost:8080/"
        },
        "id": "D5rfigF5OLxk",
        "outputId": "b331699d-a91a-48e2-bf15-9fe7353c8983"
      },
      "source": [
        "# is not\n",
        "hasil = a is not b\n",
        "print (a, \"is not\", 3, \"=\", hasil)"
      ],
      "execution_count": null,
      "outputs": [
        {
          "output_type": "stream",
          "text": [
            "4 is not 3 = True\n"
          ],
          "name": "stdout"
        }
      ]
    },
    {
      "cell_type": "markdown",
      "metadata": {
        "id": "z4uVcR6nORu-"
      },
      "source": [
        "# **Latihan Konversi Satuan Suhu Dengan Penerapan Input Data dan Operasi Matematika**"
      ]
    },
    {
      "cell_type": "markdown",
      "metadata": {
        "id": "gne5EXF0OwQ6"
      },
      "source": [
        "## **Celcius ke Satuan lain**"
      ]
    },
    {
      "cell_type": "code",
      "metadata": {
        "colab": {
          "base_uri": "https://localhost:8080/"
        },
        "id": "s0jLdIr6Oc1S",
        "outputId": "345150dd-550d-4355-d472-49ce627164ec"
      },
      "source": [
        "C = float(input(\"Masukan nilai suhunya = \"))\n",
        "\n",
        "#Celcius\n",
        "print(\"Nilai suhu dalam celcius adalah = \", C, \"C\")\n",
        "\n",
        "#Fahrenheit\n",
        "F = ((9/5) * C) + 32\n",
        "print(\"Nilai suhu dalam fahrenheit adalah = \", F, \"F\")\n",
        "\n",
        "#Reamur\n",
        "R = ((4/5) * C)\n",
        "print(\"Nilai suhu dalam Reamur adalah = \", R, \"R\")\n",
        "\n",
        "#Kelvin\n",
        "K = C + 273\n",
        "print(\"Nilai suhu dalam Kelvin adalah = \", K, \"K\")"
      ],
      "execution_count": null,
      "outputs": [
        {
          "output_type": "stream",
          "text": [
            "Masukan nilai suhunya = 12\n",
            "Nilai suhu dalam celcius adalah =  12.0 C\n",
            "Nilai suhu dalam fahrenheit adalah =  53.6 F\n",
            "Nilai suhu dalam Reamur adalah =  9.600000000000001 R\n",
            "Nilai suhu dalam Kelvin adalah =  285.0 K\n"
          ],
          "name": "stdout"
        }
      ]
    },
    {
      "cell_type": "markdown",
      "metadata": {
        "id": "AYfDFNYuPcWj"
      },
      "source": [
        "## **Fahrenheit ke Satuan lain**"
      ]
    },
    {
      "cell_type": "code",
      "metadata": {
        "colab": {
          "base_uri": "https://localhost:8080/"
        },
        "id": "0YIKZYPKPHSk",
        "outputId": "1c234d6d-ae21-449e-d420-1839184d4c90"
      },
      "source": [
        "F = float(input(\"Masukan nilai suhunya = \"))\n",
        "\n",
        "#Fahrenheit\n",
        "print(\"Nilai suhu dalam fahrenheit adalah = \", F, \"F\")\n",
        "\n",
        "#Celcius\n",
        "C = (5/9) * (F - 32)\n",
        "print(\"Nilai suhu dalam Celcius adalah = \", C, \"C\")\n",
        "\n",
        "#Reamur\n",
        "R = (4/9) * (F-32)\n",
        "print(\"Nilai suhu dalam Reamur adalah = \", R, \"R\")\n",
        "\n",
        "#Kelvin\n",
        "K = ((5/9) * (F - 32)) + 273 \n",
        "print(\"Nilai suhu dalam Kelvin adalah = \", K, \"K\")"
      ],
      "execution_count": null,
      "outputs": [
        {
          "output_type": "stream",
          "text": [
            "Masukan nilai suhunya = 12\n",
            "Nilai suhu dalam fahrenheit adalah =  12.0 F\n",
            "Nilai suhu dalam Celcius adalah =  -11.11111111111111 C\n",
            "Nilai suhu dalam Reamur adalah =  -8.88888888888889 R\n",
            "Nilai suhu dalam Kelvin adalah =  261.8888888888889 K\n"
          ],
          "name": "stdout"
        }
      ]
    },
    {
      "cell_type": "markdown",
      "metadata": {
        "id": "uRZJTlDlPhxY"
      },
      "source": [
        "## **Kelvin ke Satuan Lain**"
      ]
    },
    {
      "cell_type": "code",
      "metadata": {
        "colab": {
          "base_uri": "https://localhost:8080/"
        },
        "id": "GHtciWyqPS_o",
        "outputId": "927f3968-f90e-40ad-e76e-50b3c69bb662"
      },
      "source": [
        "K = float(input(\"Masukan nilai suhunya = \"))\n",
        "\n",
        "#Kelvin\n",
        "print(\"Nilai suhu dalam Kelvin adalah = \", K, \"K\")\n",
        "\n",
        "#Celcius\n",
        "C = K - 273\n",
        "print(\"Nilai suhu dalam Celcius adalah = \", C, \"C\")\n",
        "\n",
        "#Reamur\n",
        "R = (4/5) * (K - 273)\n",
        "print(\"Nilai suhu dalam Reamur adalah = \", R, \"R\")\n",
        "\n",
        "#Fahrenheit\n",
        "F = ((9/5) * (K-273)) + 32\n",
        "print(\"Nilai suhu dalam Fahrenheit adalah = \", F, \"F\")"
      ],
      "execution_count": null,
      "outputs": [
        {
          "output_type": "stream",
          "text": [
            "Masukan nilai suhunya = 276\n",
            "Nilai suhu dalam Kelvin adalah =  276.0 K\n",
            "Nilai suhu dalam Celcius adalah =  3.0 C\n",
            "Nilai suhu dalam Reamur adalah =  2.4000000000000004 R\n",
            "Nilai suhu dalam Fahrenheit adalah =  37.4 F\n"
          ],
          "name": "stdout"
        }
      ]
    },
    {
      "cell_type": "markdown",
      "metadata": {
        "id": "zHnpiA1LP9S5"
      },
      "source": [
        "# **Operasi Logika**"
      ]
    },
    {
      "cell_type": "markdown",
      "metadata": {
        "id": "E-mnGtcoQN4C"
      },
      "source": [
        "## **NOT**"
      ]
    },
    {
      "cell_type": "code",
      "metadata": {
        "colab": {
          "base_uri": "https://localhost:8080/"
        },
        "id": "bq-le9VRQNcO",
        "outputId": "0b3a5efc-2af2-487f-cfc0-14d3d062ef24"
      },
      "source": [
        "# NOT\n",
        "a = False\n",
        "c = not a\n",
        "print(\"jika nilai a = False, maka data a = \", a)\n",
        "print(\"jika nilai a = False, maka data not a = \", c)"
      ],
      "execution_count": null,
      "outputs": [
        {
          "output_type": "stream",
          "text": [
            "jika nilai a = False, maka data a =  False\n",
            "jika nilai a = False, maka data not a =  True\n"
          ],
          "name": "stdout"
        }
      ]
    },
    {
      "cell_type": "markdown",
      "metadata": {
        "id": "2li1IDFyQVID"
      },
      "source": [
        "## **OR**"
      ]
    },
    {
      "cell_type": "code",
      "metadata": {
        "colab": {
          "base_uri": "https://localhost:8080/"
        },
        "id": "LTk7kjC9Qfkk",
        "outputId": "175bf415-2ba8-4ca1-dbe1-a4a7c9bc6775"
      },
      "source": [
        "# OR\n",
        "a = True\n",
        "c = True\n",
        "hasil = a or c\n",
        "print(a, \"OR\", c, \"= \", hasil)\n",
        "\n",
        "a = True\n",
        "c = False\n",
        "hasil = a or c\n",
        "print(a, \"OR\", c, \"= \", hasil)\n",
        "\n",
        "a = False\n",
        "c = True\n",
        "hasil = a or c\n",
        "print(a, \"OR\", c, \"= \", hasil)\n",
        "\n",
        "a = False\n",
        "c = False\n",
        "hasil = a or c\n",
        "print(a, \"OR\", c, \"= \", hasil)"
      ],
      "execution_count": null,
      "outputs": [
        {
          "output_type": "stream",
          "text": [
            "True OR True =  True\n",
            "True OR False =  True\n",
            "False OR True =  True\n",
            "False OR False =  False\n"
          ],
          "name": "stdout"
        }
      ]
    },
    {
      "cell_type": "markdown",
      "metadata": {
        "id": "89IF2WRBQixO"
      },
      "source": [
        "## **AND**"
      ]
    },
    {
      "cell_type": "code",
      "metadata": {
        "colab": {
          "base_uri": "https://localhost:8080/"
        },
        "id": "IKiBxR7tQGDh",
        "outputId": "f70ca001-5052-4e40-e4a3-6415c5178c1c"
      },
      "source": [
        "# AND\n",
        "a = True\n",
        "c = True\n",
        "hasil = a and c\n",
        "print(a, \"AND\", c, \"= \", hasil)\n",
        "\n",
        "a = True\n",
        "c = False\n",
        "hasil = a and c\n",
        "print(a, \"AND\", c, \"= \", hasil)\n",
        "\n",
        "a = False\n",
        "c = True\n",
        "hasil = a and c\n",
        "print(a, \"AND\", c, \"= \", hasil)\n",
        "\n",
        "a = False\n",
        "c = False\n",
        "hasil = a and c\n",
        "print(a, \"AND\", c, \"= \", hasil)"
      ],
      "execution_count": null,
      "outputs": [
        {
          "output_type": "stream",
          "text": [
            "True AND True =  True\n",
            "True AND False =  False\n",
            "False AND True =  False\n",
            "False AND False =  False\n"
          ],
          "name": "stdout"
        }
      ]
    },
    {
      "cell_type": "markdown",
      "metadata": {
        "id": "Q600k-wCQozQ"
      },
      "source": [
        "## **XOR**"
      ]
    },
    {
      "cell_type": "code",
      "metadata": {
        "colab": {
          "base_uri": "https://localhost:8080/"
        },
        "id": "shAeuis0Qqlv",
        "outputId": "b2a95c46-6ae8-4287-c98f-b7ac0d986400"
      },
      "source": [
        "# XOR\n",
        "a = True\n",
        "c = True\n",
        "hasil = a ^ c\n",
        "print(a, \"XOR\", c, \"= \", hasil)\n",
        "\n",
        "a = True\n",
        "c = False\n",
        "hasil = a ^ c\n",
        "print(a, \"XOR\", c, \"= \", hasil)\n",
        "\n",
        "a = False\n",
        "c = True\n",
        "hasil = a ^ c\n",
        "print(a, \"XOR\", c, \"= \", hasil)\n",
        "\n",
        "a = False\n",
        "c = False\n",
        "hasil = a ^ c\n",
        "print(a, \"XOR\", c, \"= \", hasil)"
      ],
      "execution_count": null,
      "outputs": [
        {
          "output_type": "stream",
          "text": [
            "True XOR True =  False\n",
            "True XOR False =  True\n",
            "False XOR True =  True\n",
            "False XOR False =  False\n"
          ],
          "name": "stdout"
        }
      ]
    },
    {
      "cell_type": "markdown",
      "metadata": {
        "id": "Pq8UgLdsQ-d7"
      },
      "source": [
        "# **Latihan Logika dan Komparasi: Membuat Gabungan Area Rentang Dari Angka**"
      ]
    },
    {
      "cell_type": "markdown",
      "metadata": {
        "id": "u_EFfYTpRs3N"
      },
      "source": [
        "## **Kurang dari 3 ATAU Lebih dari 10**"
      ]
    },
    {
      "cell_type": "code",
      "metadata": {
        "colab": {
          "base_uri": "https://localhost:8080/"
        },
        "id": "KeGDDcZPRdh1",
        "outputId": "1cd3f8a8-4257-410e-9522-28ed53fb20d7"
      },
      "source": [
        "# +++++ 3 ----- 10 +++++\n",
        "\n",
        "InputUser = float(input(\"Masukkan angka \\nkurang dari 3 \\natau \\nlebih dari 10 \\n= \"))\n",
        "\n",
        "a = InputUser < 3\n",
        "print(InputUser, \"<\", 3, \"= \", a)\n",
        "\n",
        "b = InputUser > 10\n",
        "print(InputUser, \">\", 10, \"= \", b)\n",
        "\n",
        "Hasil = a or b\n",
        "print(\"Nilai\", InputUser, \"dengan syarat kurang dari 3 lebih dari 10 adalah\", Hasil)"
      ],
      "execution_count": null,
      "outputs": [
        {
          "output_type": "stream",
          "text": [
            "Masukkan angka \n",
            "kurang dari 3 \n",
            "atau \n",
            "lebih dari 10 \n",
            "= 12\n",
            "12.0 < 3 =  False\n",
            "12.0 > 10 =  True\n",
            "Nilai 12.0 dengan syarat kurang dari 3 lebih dari 10 adalah True\n"
          ],
          "name": "stdout"
        }
      ]
    },
    {
      "cell_type": "markdown",
      "metadata": {
        "id": "fLPGinPSR3we"
      },
      "source": [
        "## **Lebih Dari 3 DAN Kurang Dari 10**"
      ]
    },
    {
      "cell_type": "code",
      "metadata": {
        "colab": {
          "base_uri": "https://localhost:8080/"
        },
        "id": "e3e5BG2iRget",
        "outputId": "94631c48-f0d9-487d-c91f-52e8ff93b35c"
      },
      "source": [
        "# ----- 3 +++++ 10 -----\n",
        "InputUser = float(input(\"Masukkan angka \\nlebih dari 3 \\ndan \\nkurang dari 10 \\n= \"))\n",
        "\n",
        "a = InputUser > 3\n",
        "print(InputUser, \">\", 3, \"= \", a)\n",
        "\n",
        "b = InputUser < 10\n",
        "print(InputUser, \"<\", 10, \"= \", b)\n",
        "\n",
        "Hasil = a and b\n",
        "print(\"Nilai\", InputUser, \"dengan syarat antara 3 dan 10 adalah\", Hasil)"
      ],
      "execution_count": null,
      "outputs": [
        {
          "output_type": "stream",
          "text": [
            "Masukkan angka \n",
            "lebih dari 3 \n",
            "dan \n",
            "kurang dari 10 \n",
            "= 14\n",
            "14.0 > 3 =  True\n",
            "14.0 < 10 =  False\n",
            "Nilai 14.0 dengan syarat antara 3 dan 10 adalah False\n"
          ],
          "name": "stdout"
        }
      ]
    },
    {
      "cell_type": "markdown",
      "metadata": {
        "id": "mX8n9jPcSHbF"
      },
      "source": [
        "## **Lebih dari 0 DAN Kurang Dari 5 ATAU Lebih dari 8 DAN Kurang Dari 11**"
      ]
    },
    {
      "cell_type": "code",
      "metadata": {
        "colab": {
          "base_uri": "https://localhost:8080/"
        },
        "id": "PehQh7OyRi0I",
        "outputId": "d0faedf9-3309-438c-c40d-30349b6c4fb8"
      },
      "source": [
        "# ----- 0 +++++ 5 ----- 8 +++++ 11 -----\n",
        "InputUser = float(input(\"Masukkan angka \\nlebih dari 0 dan kurang dari 5 \\natau \\nlebih dari 8 dan kurang dari 11 \\n= \"))\n",
        "a = InputUser > 0\n",
        "b = InputUser < 5\n",
        "hasil1 = a and b\n",
        "c = InputUser > 8\n",
        "d = InputUser < 11\n",
        "hasil2 = c and b\n",
        "hasil = hasil1 or hasil2\n",
        "print(\"Nilai dari \", InputUser, \"\\nsyarat: \\n- lebih dari 0 dan kurang dari 5 \\natau \\n- lebih dari 8 dan kurang dari 11 \\nadalah \", hasil)"
      ],
      "execution_count": null,
      "outputs": [
        {
          "output_type": "stream",
          "text": [
            "Masukkan angka \n",
            "lebih dari 0 dan kurang dari 5 \n",
            "atau \n",
            "lebih dari 8 dan kurang dari 11 \n",
            "= 12\n",
            "Nilai dari  12.0 \n",
            "syarat: \n",
            "- lebih dari 0 dan kurang dari 5 \n",
            "atau \n",
            "- lebih dari 8 dan kurang dari 11 \n",
            "adalah  False\n"
          ],
          "name": "stdout"
        }
      ]
    },
    {
      "cell_type": "markdown",
      "metadata": {
        "id": "hHTORWdZSSd1"
      },
      "source": [
        "## **Kurang dari 0 ATAU Lebih dari 5 DAN Kurang Dari 8 ATAU Lebih Dari 11**"
      ]
    },
    {
      "cell_type": "code",
      "metadata": {
        "colab": {
          "base_uri": "https://localhost:8080/"
        },
        "id": "tQxnKP-QRm4j",
        "outputId": "a24cb6c5-0f5b-422c-f25d-b729b2a04391"
      },
      "source": [
        "# +++++ 0 ----- 5 +++++ 8 ----- 11 +++++\n",
        "InputUser = float(input(\"Masukkan angka \\nkurang dari 0 \\natau \\nlebih dari 5 dan kurang dari 8 \\natau \\nlebihdari 11 \\n= \"))\n",
        "a = InputUser < 0\n",
        "hasil1 = a\n",
        "b = InputUser > 5\n",
        "c = InputUser < 8\n",
        "hasil2 = b and c\n",
        "d = InputUser > 11\n",
        "hasil3 = d\n",
        "hasil = hasil1 or hasil2 or hasil3\n",
        "print(\"Nilai dari \", InputUser, \"\\nsyarat: \\n- kurang dari 0 \\natau \\n- lebih dari 5 dan kurang dari 8 \\natau \\n- lebih dari 11 \\nadalah \", hasil)"
      ],
      "execution_count": null,
      "outputs": [
        {
          "output_type": "stream",
          "text": [
            "Masukkan angka \n",
            "kurang dari 0 \n",
            "atau \n",
            "lebih dari 5 dan kurang dari 8 \n",
            "atau \n",
            "lebihdari 11 \n",
            "= 12\n",
            "Nilai dari  12.0 \n",
            "syarat: \n",
            "- kurang dari 0 \n",
            "atau \n",
            "- lebih dari 5 dan kurang dari 8 \n",
            "atau \n",
            "- lebih dari 11 \n",
            "adalah  True\n"
          ],
          "name": "stdout"
        }
      ]
    },
    {
      "cell_type": "markdown",
      "metadata": {
        "id": "mzin5OQqTaHn"
      },
      "source": [
        "# **Operasi Assignment**"
      ]
    },
    {
      "cell_type": "markdown",
      "metadata": {
        "id": "2Xyh4TpaUZus"
      },
      "source": [
        "## **Tambah**"
      ]
    },
    {
      "cell_type": "code",
      "metadata": {
        "colab": {
          "base_uri": "https://localhost:8080/"
        },
        "id": "Zuvk16mMTnhD",
        "outputId": "a50d0bf9-815c-4f7d-c453-a15da145db44"
      },
      "source": [
        "a = 5 # adalah assignment\n",
        "\n",
        "# Tambah\n",
        "a += 1 #maksudnya adalah a = a + 1\n",
        "print(\"nilai a += 1, nilai a menjadi \", a)"
      ],
      "execution_count": null,
      "outputs": [
        {
          "output_type": "stream",
          "text": [
            "nilai a += 1, nilai a menjadi  6\n"
          ],
          "name": "stdout"
        }
      ]
    },
    {
      "cell_type": "markdown",
      "metadata": {
        "id": "gwxTp7JoUb-2"
      },
      "source": [
        "## **Kurang**"
      ]
    },
    {
      "cell_type": "code",
      "metadata": {
        "colab": {
          "base_uri": "https://localhost:8080/"
        },
        "id": "aLEfrqT2TrDy",
        "outputId": "c40fddb6-487a-4d39-d4e1-c49fc1303a6c"
      },
      "source": [
        "# Kurang\n",
        "a -= 1 #maksudnya adalah a = a - 1\n",
        "print(\"nilai a -= 1, nilai a menjadi \", a)"
      ],
      "execution_count": null,
      "outputs": [
        {
          "output_type": "stream",
          "text": [
            "nilai a -= 1, nilai a menjadi  5\n"
          ],
          "name": "stdout"
        }
      ]
    },
    {
      "cell_type": "markdown",
      "metadata": {
        "id": "H7Urd6vTUeeG"
      },
      "source": [
        "## **Kurang**"
      ]
    },
    {
      "cell_type": "code",
      "metadata": {
        "colab": {
          "base_uri": "https://localhost:8080/"
        },
        "id": "tswrPeAeTs9W",
        "outputId": "f4a850a1-89e4-4d89-9d62-21cb6f8a6b56"
      },
      "source": [
        "# Kali\n",
        "a *= 1 #maksudnya adalah a = a * 1\n",
        "print(\"nilai a *= 1, nilai a menjadi \", a)"
      ],
      "execution_count": null,
      "outputs": [
        {
          "output_type": "stream",
          "text": [
            "nilai a *= 1, nilai a menjadi  5\n"
          ],
          "name": "stdout"
        }
      ]
    },
    {
      "cell_type": "markdown",
      "metadata": {
        "id": "zYJGI40-Ug0E"
      },
      "source": [
        "## **Bagi**"
      ]
    },
    {
      "cell_type": "code",
      "metadata": {
        "colab": {
          "base_uri": "https://localhost:8080/"
        },
        "id": "qmL5zmQPTux2",
        "outputId": "6cca677f-47a2-46f1-d371-2ca749ce80cd"
      },
      "source": [
        "# Bagi\n",
        "a /= 1 #maksudnya adalah a = a / 1\n",
        "print(\"nilai a /= 1, nilai a menjadi \", a)"
      ],
      "execution_count": null,
      "outputs": [
        {
          "output_type": "stream",
          "text": [
            "nilai a /= 1, nilai a menjadi  5.0\n"
          ],
          "name": "stdout"
        }
      ]
    },
    {
      "cell_type": "markdown",
      "metadata": {
        "id": "Y9n6vdTXUk_E"
      },
      "source": [
        "## **Modulus**"
      ]
    },
    {
      "cell_type": "code",
      "metadata": {
        "colab": {
          "base_uri": "https://localhost:8080/"
        },
        "id": "cuzj52fgTwu9",
        "outputId": "8cb534ff-ba41-4c40-880e-3ed5b18dff2e"
      },
      "source": [
        "b = 10\n",
        "print(\"\\nnilai b adalah \", b)\n",
        "\n",
        "# Modulus\n",
        "b %= 3 #maksudnya adalah b = b % 1\n",
        "print(\"nilai b %= 3 adalah \", b)"
      ],
      "execution_count": null,
      "outputs": [
        {
          "output_type": "stream",
          "text": [
            "\n",
            "nilai b adalah  10\n",
            "nilai b %= 3 adalah  1\n"
          ],
          "name": "stdout"
        }
      ]
    },
    {
      "cell_type": "markdown",
      "metadata": {
        "id": "On-U_gjrUn3B"
      },
      "source": [
        "## **Floor Division**"
      ]
    },
    {
      "cell_type": "code",
      "metadata": {
        "colab": {
          "base_uri": "https://localhost:8080/"
        },
        "id": "VYtOd-U3T1Es",
        "outputId": "3207a67c-5ac4-4b07-8666-aca832a263c4"
      },
      "source": [
        "b = 10\n",
        "print(\"\\nnilai b adalah \", b)\n",
        "\n",
        "# floor division\n",
        "b //= 3 #maksudnya adalah b = b // 1\n",
        "print(\"nilai b //= 3 adalah \", b)"
      ],
      "execution_count": null,
      "outputs": [
        {
          "output_type": "stream",
          "text": [
            "\n",
            "nilai b adalah  10\n",
            "nilai b //= 3 adalah  3\n"
          ],
          "name": "stdout"
        }
      ]
    },
    {
      "cell_type": "markdown",
      "metadata": {
        "id": "DMxcA-DPUqv2"
      },
      "source": [
        "## **Pangkat**"
      ]
    },
    {
      "cell_type": "code",
      "metadata": {
        "colab": {
          "base_uri": "https://localhost:8080/"
        },
        "id": "aYRxvq4ZT5NR",
        "outputId": "235df8e4-ce72-4c58-c73e-29aff13c6d30"
      },
      "source": [
        "a = 5\n",
        "print(\"\\nnilai a adalah \", a)\n",
        "\n",
        "# Pangkat\n",
        "a **= 3 #maksudnya adalah a = a ** 1\n",
        "print(\"nilai a **= 3 adalah \", a)"
      ],
      "execution_count": null,
      "outputs": [
        {
          "output_type": "stream",
          "text": [
            "\n",
            "nilai a adalah  5\n",
            "nilai a **= 3 adalah  125\n"
          ],
          "name": "stdout"
        }
      ]
    },
    {
      "cell_type": "markdown",
      "metadata": {
        "id": "3y0TcJHJUtpY"
      },
      "source": [
        "## **OR**"
      ]
    },
    {
      "cell_type": "code",
      "metadata": {
        "colab": {
          "base_uri": "https://localhost:8080/"
        },
        "id": "Osp1OVMOT7ht",
        "outputId": "a7777a74-e018-42fb-e434-649ff6c91f83"
      },
      "source": [
        "#Operasi bitwise\n",
        "c = True\n",
        "print(\"\\nnilai c adalah \", c)\n",
        "\n",
        "# OR\n",
        "c |= False #maksudnya adalah c = c or False\n",
        "print(\"nilai c |= False adalah \", c)"
      ],
      "execution_count": null,
      "outputs": [
        {
          "output_type": "stream",
          "text": [
            "\n",
            "nilai c adalah  True\n",
            "nilai c |= False adalah  True\n"
          ],
          "name": "stdout"
        }
      ]
    },
    {
      "cell_type": "markdown",
      "metadata": {
        "id": "sHtxOOG7Uwcz"
      },
      "source": [
        "## **AND**"
      ]
    },
    {
      "cell_type": "code",
      "metadata": {
        "colab": {
          "base_uri": "https://localhost:8080/"
        },
        "id": "vEFrz_YGUAjK",
        "outputId": "b19006cb-a283-4f81-adb9-5141aa02e481"
      },
      "source": [
        "c = True\n",
        "print(\"\\nnilai c adalah \", c)\n",
        "\n",
        "# AND\n",
        "c &= False #maksudnya adalah c = c AND False\n",
        "print(\"nilai c &= False adalah \", c)"
      ],
      "execution_count": null,
      "outputs": [
        {
          "output_type": "stream",
          "text": [
            "\n",
            "nilai c adalah  True\n",
            "nilai c &= False adalah  False\n"
          ],
          "name": "stdout"
        }
      ]
    },
    {
      "cell_type": "markdown",
      "metadata": {
        "id": "-JSI3h1_UzCA"
      },
      "source": [
        "## **XOR**"
      ]
    },
    {
      "cell_type": "code",
      "metadata": {
        "colab": {
          "base_uri": "https://localhost:8080/"
        },
        "id": "mvku7jvfTdlc",
        "outputId": "eaaf3532-ac21-4c83-9315-17952d0e3ab1"
      },
      "source": [
        "c = True\n",
        "print(\"\\nnilai c adalah \", c)\n",
        "\n",
        "# XOR\n",
        "c ^= False #maksudnya adalah c = c XOR False\n",
        "print(\"nilai c ^= False adalah \", c)"
      ],
      "execution_count": null,
      "outputs": [
        {
          "output_type": "stream",
          "text": [
            "\n",
            "nilai c adalah  True\n",
            "nilai c ^= False adalah  True\n"
          ],
          "name": "stdout"
        }
      ]
    },
    {
      "cell_type": "markdown",
      "metadata": {
        "id": "bpshDAkHU1hj"
      },
      "source": [
        "# **List**"
      ]
    },
    {
      "cell_type": "markdown",
      "metadata": {
        "id": "cRKFtp8NVO1i"
      },
      "source": [
        "## **Mengakses List**"
      ]
    },
    {
      "cell_type": "code",
      "metadata": {
        "colab": {
          "base_uri": "https://localhost:8080/"
        },
        "id": "2icgNeYMVJjW",
        "outputId": "6a38cc71-421d-42a0-e9aa-d22c1f9c6144"
      },
      "source": [
        "#Mengakses list\n",
        "contoh_list = [1,'dua',3,4.0,5]\n",
        "print('Data List urutan ke-0 = ', contoh_list[0])\n",
        "print('Data list urutan ke-3 = ', contoh_list[3])"
      ],
      "execution_count": null,
      "outputs": [
        {
          "output_type": "stream",
          "text": [
            "Data List urutan ke-0 =  1\n",
            "Data list urutan ke-3 =  4.0\n"
          ],
          "name": "stdout"
        }
      ]
    },
    {
      "cell_type": "code",
      "metadata": {
        "colab": {
          "base_uri": "https://localhost:8080/"
        },
        "id": "dKKiQi7bWsVJ",
        "outputId": "630b923f-7b33-4d1b-ff53-57ab61f7bf4b"
      },
      "source": [
        "Data = [24, 6, 89, 23, 45]\n",
        "Data2 = [1, 2, 3, 5, 7, 8, 9]\n",
        "print(\"Data = \", Data) \n",
        "\n",
        "# Mengakses List\n",
        "Subdata = Data[0] #Pada Python, angka pertama dimulai dengan urutan ke-0\n",
        "print(\"Data[0] = \", Subdata)\n",
        "Subdata2 = Data[-3] #Bakal hitung mundur ke belakang \n",
        "print(\"Data[-3] = \", Subdata2)"
      ],
      "execution_count": null,
      "outputs": [
        {
          "output_type": "stream",
          "text": [
            "Data =  [24, 6, 89, 23, 45]\n",
            "Data[0] =  24\n",
            "Data[-3] =  89\n"
          ],
          "name": "stdout"
        }
      ]
    },
    {
      "cell_type": "markdown",
      "metadata": {
        "id": "Sc4rnTFbVRUZ"
      },
      "source": [
        "## **Mengubah Data dalam List**"
      ]
    },
    {
      "cell_type": "code",
      "metadata": {
        "colab": {
          "base_uri": "https://localhost:8080/"
        },
        "id": "eXHdKPNBVVm9",
        "outputId": "1a2c82ab-d4aa-41fb-ce9e-e541c7571426"
      },
      "source": [
        "#Mengubah data dalam list\n",
        "contoh_list = [1,'dua',3,4.0,5]\n",
        "print('Data urutan ke-3 sebelum diubah = ', contoh_list[3])\n",
        "print('list sebelum diubah = ', contoh_list)\n",
        "contoh_list[3] = 'empat' # data diubah dari awalnya 4.0 menjadi 'empat\n",
        "print('Data urutan ke-3 setelah diubah = ', contoh_list[3])\n",
        "print('list setelah diubah = ', contoh_list)"
      ],
      "execution_count": null,
      "outputs": [
        {
          "output_type": "stream",
          "text": [
            "Data urutan ke-3 sebelum diubah =  4.0\n",
            "list sebelum diubah =  [1, 'dua', 3, 4.0, 5]\n",
            "Data urutan ke-3 setelah diubah =  empat\n",
            "list setelah diubah =  [1, 'dua', 3, 'empat', 5]\n"
          ],
          "name": "stdout"
        }
      ]
    },
    {
      "cell_type": "code",
      "metadata": {
        "colab": {
          "base_uri": "https://localhost:8080/"
        },
        "id": "5IhRNYqbX65y",
        "outputId": "408c5649-8498-4de3-d11c-bcd2cff7539a"
      },
      "source": [
        "# Mengubah Data dalam list\n",
        "Data = [24, 6, 89, 23, 45]\n",
        "Data2 = [1, 2, 3, 5, 7, 8, 9]\n",
        "print(\"Data =\", Data)\n",
        "Data[1] = 56 #dia mengubah data ke-1 yang awalnya adalah 6 menjadi 56\n",
        "print(\"Data =\", Data)"
      ],
      "execution_count": null,
      "outputs": [
        {
          "output_type": "stream",
          "text": [
            "Data = [24, 6, 89, 23, 45]\n",
            "Data = [24, 56, 89, 23, 45]\n"
          ],
          "name": "stdout"
        }
      ]
    },
    {
      "cell_type": "markdown",
      "metadata": {
        "id": "huZeVxRGYQ2t"
      },
      "source": [
        "**HATI-HATI!! APABILA:**"
      ]
    },
    {
      "cell_type": "code",
      "metadata": {
        "colab": {
          "base_uri": "https://localhost:8080/"
        },
        "id": "J5wXwl0yYU5y",
        "outputId": "54d562df-b692-4576-ccd0-73d55d3ece45"
      },
      "source": [
        "Data = [24, 6, 89, 23, 45]\n",
        "a = Data\n",
        "print(\"a = \", a)\n",
        "a[2] = 56\n",
        "print(\"a[2] = \", a)\n",
        "print(\"Data = \", Data)"
      ],
      "execution_count": null,
      "outputs": [
        {
          "output_type": "stream",
          "text": [
            "a =  [24, 6, 89, 23, 45]\n",
            "a[2] =  [24, 6, 56, 23, 45]\n",
            "Data =  [24, 6, 56, 23, 45]\n"
          ],
          "name": "stdout"
        }
      ]
    },
    {
      "cell_type": "markdown",
      "metadata": {
        "id": "ECRzFZr3YZOl"
      },
      "source": [
        "Jika `a = Data`, maka ketika salah satu elemen dari list `a` diubah, maka juga akan berpengaruh pada list `Data`. Karena a didefinisikan sebagai Data, maka list a dengan Data saling terkait. Mereka sharing Content"
      ]
    },
    {
      "cell_type": "markdown",
      "metadata": {
        "id": "h5GGCfeqYyRJ"
      },
      "source": [
        "**Cara Mengatasinya:**"
      ]
    },
    {
      "cell_type": "code",
      "metadata": {
        "colab": {
          "base_uri": "https://localhost:8080/"
        },
        "id": "XpFCjuqXY-Q1",
        "outputId": "8c4851a5-0238-4101-8c15-cb3b62276bf4"
      },
      "source": [
        "Data = [24, 6, 89, 23, 45]\n",
        "a = Data[:] #Dengan menambahkan titik dua, sehingga ketika print Data, Data tidak akan berubah jika list a diubah\n",
        "print(\"a = \", a)\n",
        "a[2] = 56\n",
        "print(\"a[2] = \", a)\n",
        "print(\"Data = \", Data)"
      ],
      "execution_count": null,
      "outputs": [
        {
          "output_type": "stream",
          "text": [
            "a =  [24, 6, 89, 23, 45]\n",
            "a[2] =  [24, 6, 56, 23, 45]\n",
            "Data =  [24, 6, 89, 23, 45]\n"
          ],
          "name": "stdout"
        }
      ]
    },
    {
      "cell_type": "markdown",
      "metadata": {
        "id": "QUZxnWuNVYMQ"
      },
      "source": [
        "## **Memotong Urutan List**"
      ]
    },
    {
      "cell_type": "code",
      "metadata": {
        "colab": {
          "base_uri": "https://localhost:8080/"
        },
        "id": "vMnVFdr4VcrL",
        "outputId": "f6be897c-f4cb-4a9f-828a-68ae688eb2ca"
      },
      "source": [
        "#Memotong urutan list\n",
        "contoh_list = [1,'dua',3,4.0,5]\n",
        "print('list = ', contoh_list)\n",
        "contoh_list2 = contoh_list[0:3]\n",
        "print('list hanya urutan 0 - 3 = ', contoh_list2)"
      ],
      "execution_count": null,
      "outputs": [
        {
          "output_type": "stream",
          "text": [
            "list =  [1, 'dua', 3, 4.0, 5]\n",
            "list hanya urutan 0 - 3 =  [1, 'dua', 3]\n"
          ],
          "name": "stdout"
        }
      ]
    },
    {
      "cell_type": "code",
      "metadata": {
        "colab": {
          "base_uri": "https://localhost:8080/"
        },
        "id": "8MLhfko0W7Df",
        "outputId": "a8829c9d-adc4-4c0d-db7a-db24b9506cf4"
      },
      "source": [
        "Data = [24, 6, 89, 23, 45]\n",
        "Data2 = [1, 2, 3, 5, 7, 8, 9]\n",
        "print(\"Data = \", Data) \n",
        "\n",
        "# Memotong List\n",
        "Subdata3 = Data[0:3] #urutan 0 sampe sebelum 3, berarti sampe urutan ke-2 maksudnya\n",
        "print(\"Data[0:3] = \",Subdata3)\n",
        "Subdata4 = Data[:2] #dari pojok pertama sampe ke satu angka sebelum urutan ke-n\n",
        "print(\"Data[:2] = \",Subdata4)\n",
        "Subdata5 = Data[2:] #dari urutan ke-n sampe ke paling pojok terakhir\n",
        "print(\"Data[2:] = \",Subdata5)"
      ],
      "execution_count": null,
      "outputs": [
        {
          "output_type": "stream",
          "text": [
            "Data =  [24, 6, 89, 23, 45]\n",
            "Data[0:3] =  [24, 6, 89]\n",
            "Data[:2] =  [24, 6]\n",
            "Data[2:] =  [89, 23, 45]\n"
          ],
          "name": "stdout"
        }
      ]
    },
    {
      "cell_type": "markdown",
      "metadata": {
        "id": "qJ9hzf1WVdny"
      },
      "source": [
        "## **Menggabungkan Data Dalam List**"
      ]
    },
    {
      "cell_type": "code",
      "metadata": {
        "colab": {
          "base_uri": "https://localhost:8080/"
        },
        "id": "GIPg9F7zViVL",
        "outputId": "a19f8e2e-0473-471b-b636-7b0da1eec692"
      },
      "source": [
        "#Menggabungkan data dalam list\n",
        "Data1 = [1, 2, 3, 4, 5]\n",
        "print('Data 1 = ', Data1)\n",
        "Data2 = [10, 9, 8, 7, 6, 5]\n",
        "print('Data 2 = ', Data2)\n",
        "Data_Total = Data1 + Data2\n",
        "print(\"Data Total = \", Data_Total)"
      ],
      "execution_count": null,
      "outputs": [
        {
          "output_type": "stream",
          "text": [
            "Data 1 =  [1, 2, 3, 4, 5]\n",
            "Data 2 =  [10, 9, 8, 7, 6, 5]\n",
            "Data Total =  [1, 2, 3, 4, 5, 10, 9, 8, 7, 6, 5]\n"
          ],
          "name": "stdout"
        }
      ]
    },
    {
      "cell_type": "code",
      "metadata": {
        "colab": {
          "base_uri": "https://localhost:8080/"
        },
        "id": "rarvhkGTXYXi",
        "outputId": "b08e80ed-a83b-46d4-d203-d556e7b68b36"
      },
      "source": [
        "Data = [24, 6, 89, 23, 45]\n",
        "Data2 = [1, 2, 3, 5, 7, 8, 9]\n",
        "print(\"Data = \", Data) \n",
        "\n",
        "# Menambah List \n",
        "Data_total = Data + Data2 #akan menambahkan list Data dan Data2, tidak peduli urutan.\n",
        "print(\"\\nData Total:\\n\", Data_total)\n",
        "\n",
        "#Bisa juga pake method untuk menambahkan data\n",
        "Data.append(Data2)\n",
        "print(\"\\nData Total (Append):\\n\", Data)"
      ],
      "execution_count": null,
      "outputs": [
        {
          "output_type": "stream",
          "text": [
            "Data =  [24, 6, 89, 23, 45]\n",
            "\n",
            "Data Total:\n",
            " [24, 6, 89, 23, 45, 1, 2, 3, 5, 7, 8, 9]\n",
            "\n",
            "Data Total (Append):\n",
            " [24, 6, 89, 23, 45, [1, 2, 3, 5, 7, 8, 9]]\n"
          ],
          "name": "stdout"
        }
      ]
    },
    {
      "cell_type": "markdown",
      "metadata": {
        "id": "XW5fJ3-yVkUs"
      },
      "source": [
        "## **Menggunakan Append Method Untuk Menggabungkan Data**"
      ]
    },
    {
      "cell_type": "code",
      "metadata": {
        "colab": {
          "base_uri": "https://localhost:8080/"
        },
        "id": "A91SonPGVp6_",
        "outputId": "c71d3c46-5809-4265-948a-1fc2bb2be772"
      },
      "source": [
        "#Menggunakan append method untuk menggabungkan data\n",
        "Data1 = [1, 2, 3, 4, 5]\n",
        "print('Data 1 = ', Data1)\n",
        "Data2 = [10, 9, 8, 7, 6, 5]\n",
        "print('Data 2 = ', Data2)\n",
        "Data1.append(Data2)\n",
        "print(\"Data1 = \", Data1)"
      ],
      "execution_count": null,
      "outputs": [
        {
          "output_type": "stream",
          "text": [
            "Data 1 =  [1, 2, 3, 4, 5]\n",
            "Data 2 =  [10, 9, 8, 7, 6, 5]\n",
            "Data1 =  [1, 2, 3, 4, 5, [10, 9, 8, 7, 6, 5]]\n"
          ],
          "name": "stdout"
        }
      ]
    },
    {
      "cell_type": "markdown",
      "metadata": {
        "id": "3xX4Tb2xVvRY"
      },
      "source": [
        "## **Mengubah Lebih Dari Satu Data Dalam List**"
      ]
    },
    {
      "cell_type": "code",
      "metadata": {
        "colab": {
          "base_uri": "https://localhost:8080/"
        },
        "id": "D-o1dLEFVuL2",
        "outputId": "6a1f9770-4bf0-43c7-b409-527cbb6f2e08"
      },
      "source": [
        "#Mengubah lebih dari satu data dalam list\n",
        "contoh_list = [1,'dua',3,4.0,5]\n",
        "print('list sebelum diubah = ', contoh_list)\n",
        "contoh_list[3:4] = ['empat', 'nol'] # data urutan ke-3 dan ke-4 diubah secara bersamaan\n",
        "print('list setelah diubah = ', contoh_list)"
      ],
      "execution_count": null,
      "outputs": [
        {
          "output_type": "stream",
          "text": [
            "list sebelum diubah =  [1, 'dua', 3, 4.0, 5]\n",
            "list setelah diubah =  [1, 'dua', 3, 'empat', 'nol', 5]\n"
          ],
          "name": "stdout"
        }
      ]
    },
    {
      "cell_type": "code",
      "metadata": {
        "colab": {
          "base_uri": "https://localhost:8080/"
        },
        "id": "46FnuAsLZXx7",
        "outputId": "2210e7f4-eef1-4030-c175-63b0b873fa75"
      },
      "source": [
        "# Merubah Content List Dengan Metode Slicing\n",
        "Data = [24, 6, 89, 23, 45]\n",
        "print(\"Data sebelum = \", Data)\n",
        "Data[2:4] = [23,27]\n",
        "print(\"Data Sesudah = \", Data)"
      ],
      "execution_count": null,
      "outputs": [
        {
          "output_type": "stream",
          "text": [
            "Data sebelum =  [24, 6, 89, 23, 45]\n",
            "Data Sesudah =  [24, 6, 23, 27, 45]\n"
          ],
          "name": "stdout"
        }
      ]
    },
    {
      "cell_type": "markdown",
      "metadata": {
        "id": "CuIN95rNV2Xs"
      },
      "source": [
        "## **Menggabungkan Dua List dalam Satu List Gabungan**"
      ]
    },
    {
      "cell_type": "code",
      "metadata": {
        "colab": {
          "base_uri": "https://localhost:8080/"
        },
        "id": "la3Lm3tVV1yp",
        "outputId": "4f5ed728-fa78-40f5-ad2b-93100d74875c"
      },
      "source": [
        "#Menggabungkan dua list dalam satu list gabungan\n",
        "Data1 = [1, 2, 3, 4, 5]\n",
        "print('Data 1 = ', Data1)\n",
        "Data2 = [10, 9, 8, 7, 6, 5]\n",
        "print('Data 2 = ', Data2)\n",
        "List_Gabungan = [Data1, Data2] #multidimensional list \n",
        "print(\"List Gabungan = \", List_Gabungan)"
      ],
      "execution_count": null,
      "outputs": [
        {
          "output_type": "stream",
          "text": [
            "Data 1 =  [1, 2, 3, 4, 5]\n",
            "Data 2 =  [10, 9, 8, 7, 6, 5]\n",
            "List Gabungan =  [[1, 2, 3, 4, 5], [10, 9, 8, 7, 6, 5]]\n"
          ],
          "name": "stdout"
        }
      ]
    },
    {
      "cell_type": "markdown",
      "metadata": {
        "id": "mZSC8b_uWSzJ"
      },
      "source": [
        "Ada dua list, list Data merupakan urutan list ke 0, \n",
        "sedangkan list Data2 merupakan urutan list ke 1"
      ]
    },
    {
      "cell_type": "code",
      "metadata": {
        "colab": {
          "base_uri": "https://localhost:8080/"
        },
        "id": "i4rEz7NkZhP-",
        "outputId": "092c3181-d512-493d-daf4-cfa4041f1dea"
      },
      "source": [
        "# List Dalam List\n",
        "Data = [24, 6, 89, 23, 45]\n",
        "Data2 = [1, 2, 3, 5, 7, 8, 9]\n",
        "x = [Data, Data2] \n",
        "print(\"x = \", x)"
      ],
      "execution_count": null,
      "outputs": [
        {
          "output_type": "stream",
          "text": [
            "x =  [[24, 6, 89, 23, 45], [1, 2, 3, 5, 7, 8, 9]]\n"
          ],
          "name": "stdout"
        }
      ]
    },
    {
      "cell_type": "markdown",
      "metadata": {
        "id": "v3BXuG2OV9QT"
      },
      "source": [
        "## **Mengakses List Dalam Multidimensional List**"
      ]
    },
    {
      "cell_type": "code",
      "metadata": {
        "colab": {
          "base_uri": "https://localhost:8080/"
        },
        "id": "pKn-K9WzV9y1",
        "outputId": "5576c66f-208d-4f35-bc85-7b8026c0114d"
      },
      "source": [
        "Data1 = [1, 2, 3, 4, 5]\n",
        "print('Data 1 = ', Data1)\n",
        "Data2 = [10, 9, 8, 7, 6, 5]\n",
        "print('Data 2 = ', Data2)\n",
        "List_Gabungan = [Data1, Data2]\n",
        "\n",
        "#Mengakses list dalam mulitidimensional list\n",
        "Akses_Data = List_Gabungan [0][3]\n",
        "print(\"Nilai yang berada di list 0 (Data) urutan ke-3 adalah \", Akses_Data)"
      ],
      "execution_count": null,
      "outputs": [
        {
          "output_type": "stream",
          "text": [
            "Data 1 =  [1, 2, 3, 4, 5]\n",
            "Data 2 =  [10, 9, 8, 7, 6, 5]\n",
            "Nilai yang berada di list 0 (Data) urutan ke-3 adalah  4\n"
          ],
          "name": "stdout"
        }
      ]
    },
    {
      "cell_type": "code",
      "metadata": {
        "colab": {
          "base_uri": "https://localhost:8080/"
        },
        "id": "BrEiYtlBaLXJ",
        "outputId": "d9aec471-745f-45d1-8508-e6da2aa423c3"
      },
      "source": [
        "Data = [24, 6, 89, 23, 45]\n",
        "Data2 = [1, 2, 3, 5, 7, 8, 9]\n",
        "x = [Data, Data2] \n",
        "\n",
        "#Mengakses list dalam multidimensional list\n",
        "y = x[0][3]\n",
        "print(\"Nilai yang berada di list 0 (Data) urutan ke-3 adalah \", y)"
      ],
      "execution_count": null,
      "outputs": [
        {
          "output_type": "stream",
          "text": [
            "Nilai yang berada di list 0 (Data) urutan ke-3 adalah  23\n"
          ],
          "name": "stdout"
        }
      ]
    },
    {
      "cell_type": "markdown",
      "metadata": {
        "id": "O81ShxD5WDF0"
      },
      "source": [
        "## **Menghitung Panjang List**"
      ]
    },
    {
      "cell_type": "code",
      "metadata": {
        "colab": {
          "base_uri": "https://localhost:8080/"
        },
        "id": "FlylhK29VF4_",
        "outputId": "e7602465-0427-4f53-a23c-1fca337133f0"
      },
      "source": [
        "#Mengitung panjang list\n",
        "contoh_list = [1,'dua',3,4.0,5]\n",
        "print(\"List = \", contoh_list)\n",
        "panjang_list = len(contoh_list)\n",
        "print('Banyaknya data dalam list adalah = ', panjang_list)"
      ],
      "execution_count": null,
      "outputs": [
        {
          "output_type": "stream",
          "text": [
            "List =  [1, 'dua', 3, 4.0, 5]\n",
            "Banyaknya data dalam list adalah =  5\n"
          ],
          "name": "stdout"
        }
      ]
    },
    {
      "cell_type": "code",
      "metadata": {
        "colab": {
          "base_uri": "https://localhost:8080/"
        },
        "id": "YaVJmaz3ab46",
        "outputId": "eced8b5c-85cb-4a53-e835-e90f384e35e6"
      },
      "source": [
        "#Menghitung Panjang List\n",
        "Data = [24, 6, 89, 23, 45]\n",
        "panjang_list = len(Data)\n",
        "print(\"panjang list Data adalah \", panjang_list)"
      ],
      "execution_count": null,
      "outputs": [
        {
          "output_type": "stream",
          "text": [
            "panjang list Data adalah  5\n"
          ],
          "name": "stdout"
        }
      ]
    },
    {
      "cell_type": "markdown",
      "metadata": {
        "id": "4xMgRaG-a0tY"
      },
      "source": [
        "# **Manipulasi List**"
      ]
    },
    {
      "cell_type": "markdown",
      "metadata": {
        "id": "DC1b3cUwa_Ed"
      },
      "source": [
        "## **Fitur .append()**"
      ]
    },
    {
      "cell_type": "code",
      "metadata": {
        "colab": {
          "base_uri": "https://localhost:8080/"
        },
        "id": "Ju0JjCJ3a9RY",
        "outputId": "80c99110-8f13-4308-d566-5168fe10c241"
      },
      "source": [
        "# Fitur .append()\n",
        "print(\">>> Fitur .append()\")\n",
        "list_makanan = ['Gado-gado', 'Ayam Goreng', 'Rendang']\n",
        "print(\"List Sebelum: \", list_makanan)\n",
        "list_makanan.append('Ketoprak')\n",
        "print(\"List Sesudah: \", list_makanan)"
      ],
      "execution_count": null,
      "outputs": [
        {
          "output_type": "stream",
          "text": [
            ">>> Fitur .append()\n",
            "List Sebelum:  ['Gado-gado', 'Ayam Goreng', 'Rendang']\n",
            "List Sesudah:  ['Gado-gado', 'Ayam Goreng', 'Rendang', 'Ketoprak']\n"
          ],
          "name": "stdout"
        }
      ]
    },
    {
      "cell_type": "markdown",
      "metadata": {
        "id": "ijcAyZSxbIiK"
      },
      "source": [
        "## **Fitur .clear()**"
      ]
    },
    {
      "cell_type": "code",
      "metadata": {
        "colab": {
          "base_uri": "https://localhost:8080/"
        },
        "id": "RYhBuWW3bH9b",
        "outputId": "f87b4055-aa12-4d42-a9dd-2394c75c5d4f"
      },
      "source": [
        "# Fitur .clear()\n",
        "print(\">>> Fitur .clear()\")\n",
        "list_makanan = ['Gado-gado', 'Ayam Goreng', 'Rendang']\n",
        "print(\"List Sebelum: \", list_makanan)\n",
        "list_makanan.clear()\n",
        "print(\"List Sesudah: \", list_makanan)"
      ],
      "execution_count": null,
      "outputs": [
        {
          "output_type": "stream",
          "text": [
            ">>> Fitur .clear()\n",
            "List Sebelum:  ['Gado-gado', 'Ayam Goreng', 'Rendang']\n",
            "List Sesudah:  []\n"
          ],
          "name": "stdout"
        }
      ]
    },
    {
      "cell_type": "markdown",
      "metadata": {
        "id": "0pL3TpS4bQMF"
      },
      "source": [
        "## **Fitur .copy()**"
      ]
    },
    {
      "cell_type": "code",
      "metadata": {
        "id": "SMgeeLLEbPSb"
      },
      "source": [
        "#Fitur .copy()\n",
        "list_makanan1 = ['Gado-gado', 'Ayam Goreng', 'Rendang']"
      ],
      "execution_count": null,
      "outputs": []
    },
    {
      "cell_type": "code",
      "metadata": {
        "colab": {
          "base_uri": "https://localhost:8080/"
        },
        "id": "z9HlgqGwbXE8",
        "outputId": "ddd8f796-c40b-4bc1-d22c-f8aa985ca2a9"
      },
      "source": [
        "#Dengan copy\n",
        "list_makanan2 = list_makanan1.copy()\n",
        "list_makanan2.append('Opor')\n",
        "print(\"list_makanan2: \", list_makanan2)\n",
        "print(\"list_makanan1: \", list_makanan1)"
      ],
      "execution_count": null,
      "outputs": [
        {
          "output_type": "stream",
          "text": [
            "list_makanan2:  ['Gado-gado', 'Ayam Goreng', 'Rendang', 'Opor']\n",
            "list_makanan1:  ['Gado-gado', 'Ayam Goreng', 'Rendang']\n"
          ],
          "name": "stdout"
        }
      ]
    },
    {
      "cell_type": "code",
      "metadata": {
        "colab": {
          "base_uri": "https://localhost:8080/"
        },
        "id": "hdF9783_bimJ",
        "outputId": "f2beb875-dcb6-46a4-eddd-c6b49c636c25"
      },
      "source": [
        "#Tanpa Copy\n",
        "list_makanan3 = list_makanan1\n",
        "list_makanan3.append('Ketoprak')\n",
        "print(\"list_makanan3: \", list_makanan3)\n",
        "print(\"list_makanan1: \", list_makanan1)"
      ],
      "execution_count": null,
      "outputs": [
        {
          "output_type": "stream",
          "text": [
            "list_makanan3:  ['Gado-gado', 'Ayam Goreng', 'Rendang', 'Ketoprak']\n",
            "list_makanan1:  ['Gado-gado', 'Ayam Goreng', 'Rendang', 'Ketoprak']\n"
          ],
          "name": "stdout"
        }
      ]
    },
    {
      "cell_type": "markdown",
      "metadata": {
        "id": "k3p8_rqabynh"
      },
      "source": [
        "## **Fitur .count()**"
      ]
    },
    {
      "cell_type": "code",
      "metadata": {
        "colab": {
          "base_uri": "https://localhost:8080/"
        },
        "id": "-znn7WoIbv6Y",
        "outputId": "06c4889a-a900-4102-bc95-3aa6687b31a7"
      },
      "source": [
        "# Fitur .count()\n",
        "print(\">>> Fitur .count()\")\n",
        "list_score = ['Budi', 'Sud', 'Budi', 'Budi', 'Budi', 'Sud', 'Sud']\n",
        "print(list_score)\n",
        "score_budi = list_score.count('Budi')\n",
        "score_sud = list_score.count('Sud')\n",
        "print(\"Jumlah kemunculan kata 'Budi': \", score_budi) \n",
        "print(\"Jumlah kemunculan kata 'Sud': \", score_sud) "
      ],
      "execution_count": null,
      "outputs": [
        {
          "output_type": "stream",
          "text": [
            ">>> Fitur .count()\n",
            "['Budi', 'Sud', 'Budi', 'Budi', 'Budi', 'Sud', 'Sud']\n",
            "Jumlah kemunculan kata 'Budi':  4\n",
            "Jumlah kemunculan kata 'Sud':  3\n"
          ],
          "name": "stdout"
        }
      ]
    },
    {
      "cell_type": "markdown",
      "metadata": {
        "id": "ssKRb9jeb8b5"
      },
      "source": [
        "## **Fitur .extend()**"
      ]
    },
    {
      "cell_type": "code",
      "metadata": {
        "colab": {
          "base_uri": "https://localhost:8080/"
        },
        "id": "8hPxZvqSb6tg",
        "outputId": "46ab34ba-84cd-47f9-ad20-2111ae9f35b4"
      },
      "source": [
        "# Fitur .extend()\n",
        "print(\">>> Fitur .extend()\")\n",
        "list_menu = ['Gado-gado', 'Ayam Goreng', 'Rendang']\n",
        "print('list_menu: ', list_menu)\n",
        "list_minuman = ['Es Teh', 'Es Jeruk', 'Es Campur']\n",
        "print('list_minuman: ', list_minuman)\n",
        "list_menu.extend(list_minuman)\n",
        "print('list_gabungan: ', list_menu)"
      ],
      "execution_count": null,
      "outputs": [
        {
          "output_type": "stream",
          "text": [
            ">>> Fitur .extend()\n",
            "list_menu:  ['Gado-gado', 'Ayam Goreng', 'Rendang']\n",
            "list_minuman:  ['Es Teh', 'Es Jeruk', 'Es Campur']\n",
            "list_gabungan:  ['Gado-gado', 'Ayam Goreng', 'Rendang', 'Es Teh', 'Es Jeruk', 'Es Campur']\n"
          ],
          "name": "stdout"
        }
      ]
    },
    {
      "cell_type": "markdown",
      "metadata": {
        "id": "qyWgSvsgcBY1"
      },
      "source": [
        "## **Fitur .index()**"
      ]
    },
    {
      "cell_type": "code",
      "metadata": {
        "colab": {
          "base_uri": "https://localhost:8080/"
        },
        "id": "G8EJTQz_b_fj",
        "outputId": "03ef36d8-a643-4b7f-b8a8-fda8733d60bc"
      },
      "source": [
        "# Fitur .index()\n",
        "print(\">>> Fitur .index()\")\n",
        "list_score = ['Budi','Sud','Budi','Budi','Budi','Sud','Sud']\n",
        "score_pertama_sud = list_score.index('Sud') + 1\n",
        "print(score_pertama_sud)"
      ],
      "execution_count": null,
      "outputs": [
        {
          "output_type": "stream",
          "text": [
            ">>> Fitur .index()\n",
            "2\n"
          ],
          "name": "stdout"
        }
      ]
    },
    {
      "cell_type": "markdown",
      "metadata": {
        "id": "devAWMx_cK9A"
      },
      "source": [
        "## **Fitur .insert()**"
      ]
    },
    {
      "cell_type": "code",
      "metadata": {
        "colab": {
          "base_uri": "https://localhost:8080/"
        },
        "id": "YlV0yG4gcI8Y",
        "outputId": "5a558a3b-f9e1-4bab-a407-8286570c9011"
      },
      "source": [
        "# Fitur .insert()\n",
        "print(\">>> Fitur .insert()\")\n",
        "list_score = ['Budi','Sud','Budi','Budi','Sud']\n",
        "print('list_sebelum : ', list_score)\n",
        "list_score.insert(0, 'Sud')\n",
        "print('list_sesudah: ', list_score)"
      ],
      "execution_count": null,
      "outputs": [
        {
          "output_type": "stream",
          "text": [
            ">>> Fitur .insert()\n",
            "list_sebelum :  ['Budi', 'Sud', 'Budi', 'Budi', 'Sud']\n",
            "list_sesudah:  ['Sud', 'Budi', 'Sud', 'Budi', 'Budi', 'Sud']\n"
          ],
          "name": "stdout"
        }
      ]
    },
    {
      "cell_type": "markdown",
      "metadata": {
        "id": "lgIjt3y6cRp_"
      },
      "source": [
        "## **Fitur .pop()**"
      ]
    },
    {
      "cell_type": "code",
      "metadata": {
        "colab": {
          "base_uri": "https://localhost:8080/"
        },
        "id": "cWNXowBbcPm_",
        "outputId": "7b0a4eaf-2b28-4362-b60e-4fa3a96ab4cb"
      },
      "source": [
        "# Fitur .pop()\n",
        "print(\">>> Fitur .pop()\")\n",
        "list_menu = ['Gado-gado', 'Ayam Goreng', 'Rendang']\n",
        "list_menu.pop(1)\n",
        "print(list_menu)"
      ],
      "execution_count": null,
      "outputs": [
        {
          "output_type": "stream",
          "text": [
            ">>> Fitur .pop()\n",
            "['Gado-gado', 'Rendang']\n"
          ],
          "name": "stdout"
        }
      ]
    },
    {
      "cell_type": "markdown",
      "metadata": {
        "id": "oXZFq9llcZJZ"
      },
      "source": [
        "## **Fitur .remove()**"
      ]
    },
    {
      "cell_type": "code",
      "metadata": {
        "colab": {
          "base_uri": "https://localhost:8080/"
        },
        "id": "F5uWhzutcXdw",
        "outputId": "a258d2d8-82bc-4902-ee05-0fab011bbc92"
      },
      "source": [
        "# Fitur .remove()\n",
        "print(\">>> Fitur .remove()\")\n",
        "list_menu = ['Gado-gado', 'Ayam Goreng', 'Rendang', 'Ketoprak']\n",
        "print('list sebelum dihapus: ', list_menu)\n",
        "list_menu.remove('Rendang')\n",
        "print('list setelah dihapus: ', list_menu)"
      ],
      "execution_count": null,
      "outputs": [
        {
          "output_type": "stream",
          "text": [
            ">>> Fitur .remove()\n",
            "list sebelum dihapus:  ['Gado-gado', 'Ayam Goreng', 'Rendang', 'Ketoprak']\n",
            "list setelah dihapus:  ['Gado-gado', 'Ayam Goreng', 'Ketoprak']\n"
          ],
          "name": "stdout"
        }
      ]
    },
    {
      "cell_type": "markdown",
      "metadata": {
        "id": "gN7rwQj_cr_m"
      },
      "source": [
        "## **Fitur .reverse()**"
      ]
    },
    {
      "cell_type": "code",
      "metadata": {
        "colab": {
          "base_uri": "https://localhost:8080/"
        },
        "id": "J1Hl4gWKcp-m",
        "outputId": "e3c752b6-8ebc-42fb-c90d-b86dc0ebd54d"
      },
      "source": [
        "# Fitur .reverse()\n",
        "print(\">>> Fitur .reverse()\")\n",
        "list_menu = ['Gado-gado', 'Ayam Goreng', 'Rendang', 'Ketoprak']\n",
        "print('List Normal: ', list_menu)\n",
        "list_menu.reverse()\n",
        "print('List Reverse: ', list_menu)"
      ],
      "execution_count": null,
      "outputs": [
        {
          "output_type": "stream",
          "text": [
            ">>> Fitur .reverse()\n",
            "List Normal:  ['Gado-gado', 'Ayam Goreng', 'Rendang', 'Ketoprak']\n",
            "List Reverse:  ['Ketoprak', 'Rendang', 'Ayam Goreng', 'Gado-gado']\n"
          ],
          "name": "stdout"
        }
      ]
    },
    {
      "cell_type": "markdown",
      "metadata": {
        "id": "wW56OC5fcxin"
      },
      "source": [
        "## **Fitur .sort()**"
      ]
    },
    {
      "cell_type": "code",
      "metadata": {
        "colab": {
          "base_uri": "https://localhost:8080/"
        },
        "id": "Ve0Hfe6Pa3wV",
        "outputId": "1f37b639-e4d6-4728-f1a7-adda8999ddae"
      },
      "source": [
        "# Fitur .sort()\n",
        "print(\">>> Fitur .sort()\")\n",
        "list_menu = ['Gado-gado', 'Ayam Goreng', 'Rendang', 'Ketoprak']\n",
        "list_menu.sort() # Default: Ascending\n",
        "print('List Asc: ', list_menu) \n",
        "list_menu.sort(reverse=True)# Descending\n",
        "print('List Dsc: ', list_menu) "
      ],
      "execution_count": null,
      "outputs": [
        {
          "output_type": "stream",
          "text": [
            ">>> Fitur .sort()\n",
            "List Asc:  ['Ayam Goreng', 'Gado-gado', 'Ketoprak', 'Rendang']\n",
            "List Dsc:  ['Rendang', 'Ketoprak', 'Gado-gado', 'Ayam Goreng']\n"
          ],
          "name": "stdout"
        }
      ]
    },
    {
      "cell_type": "markdown",
      "metadata": {
        "id": "YflNqQZHnMHq"
      },
      "source": [
        "# **Stacking & Queueing**"
      ]
    },
    {
      "cell_type": "markdown",
      "metadata": {
        "id": "p-skAYNvnSrI"
      },
      "source": [
        "stack itu ibarat kalo kita numpuk buku\n",
        "pastii yang diambil yang gampang\n",
        "yang paling atas dulu"
      ]
    },
    {
      "cell_type": "markdown",
      "metadata": {
        "id": "4jaTT_fnnUU_"
      },
      "source": [
        "queue itu ibarat kalo kek antrian restoran\n",
        "jadi orang yg dateng pertama\n",
        "trus ada antrian baru\n",
        "nanti yang dapet barangnya pasti yg awal dateng\n",
        "bukan yang paling akhir"
      ]
    },
    {
      "cell_type": "markdown",
      "metadata": {
        "id": "5IeNU2Wancag"
      },
      "source": [
        "## **Stacking**"
      ]
    },
    {
      "cell_type": "code",
      "metadata": {
        "colab": {
          "base_uri": "https://localhost:8080/"
        },
        "id": "k3hNTVHUnEOe",
        "outputId": "57c2a3f4-ac0c-4f22-e659-4543bc43352b"
      },
      "source": [
        "tumpukan = [1, 2, 3, 4, 5, 6, 7]\n",
        "print(tumpukan)\n",
        "\n",
        "#memasukkan data baru\n",
        "tumpukan.append(8)\n",
        "print('data masuk:', 8)\n",
        "tumpukan.append(9)\n",
        "print('data masuk:', 9)\n",
        "print(tumpukan)\n",
        "tumpukan.pop() #dia akan menghilangkan data tumpukan paling belakang (stacking)\n",
        "print('data keluar:', 9)\n",
        "print(tumpukan)"
      ],
      "execution_count": null,
      "outputs": [
        {
          "output_type": "stream",
          "text": [
            "[1, 2, 3, 4, 5, 6, 7]\n",
            "data masuk: 8\n",
            "data masuk: 9\n",
            "[1, 2, 3, 4, 5, 6, 7, 8, 9]\n",
            "data keluar: 9\n",
            "[1, 2, 3, 4, 5, 6, 7, 8]\n"
          ],
          "name": "stdout"
        }
      ]
    },
    {
      "cell_type": "markdown",
      "metadata": {
        "id": "cpOcbbIrnxGQ"
      },
      "source": [
        "## **Queueing**"
      ]
    },
    {
      "cell_type": "markdown",
      "metadata": {
        "id": "oSEhnw4Fn2VG"
      },
      "source": [
        "Masalahnya di python build-in nya\n",
        "tidak ada yang digunakan untuk antrian\n",
        "tapi ada yang namanya module, mengimport\n",
        "function dari source code lain"
      ]
    },
    {
      "cell_type": "code",
      "metadata": {
        "colab": {
          "base_uri": "https://localhost:8080/"
        },
        "id": "VWwNyQDBnve2",
        "outputId": "576290a0-73a5-4ee5-d2e2-9757dcad80d4"
      },
      "source": [
        "#import module\n",
        "from collections import deque\n",
        "\n",
        "antrian = deque([1,2,3,4,5,6])\n",
        "print(antrian)\n",
        "\n",
        "#menambahkan data\n",
        "antrian.append(7)\n",
        "print('data masuk:', 7)\n",
        "print(antrian)\n",
        "\n",
        "antrian.append(8)\n",
        "print('data masuk:', 8)\n",
        "print(antrian)\n",
        "\n",
        "#mengurangi antrian\n",
        "out = antrian.popleft()\n",
        "print('data keluar:', out)\n",
        "print(antrian)\n",
        "\n",
        "out = antrian.popleft()\n",
        "print('data keluar:', out)\n",
        "print(antrian)\n",
        "\n",
        "out = antrian.popleft()\n",
        "print('data keluar:', out)\n",
        "print(antrian)\n",
        "\n",
        "antrian.append(9)\n",
        "print('data masuk:', 9)\n",
        "print(antrian)\n",
        "\n",
        "out = antrian.popleft()\n",
        "print('data keluar:', out)\n",
        "print(antrian)"
      ],
      "execution_count": null,
      "outputs": [
        {
          "output_type": "stream",
          "text": [
            "deque([1, 2, 3, 4, 5, 6])\n",
            "data masuk: 7\n",
            "deque([1, 2, 3, 4, 5, 6, 7])\n",
            "data masuk: 8\n",
            "deque([1, 2, 3, 4, 5, 6, 7, 8])\n",
            "data keluar: 1\n",
            "deque([2, 3, 4, 5, 6, 7, 8])\n",
            "data keluar: 2\n",
            "deque([3, 4, 5, 6, 7, 8])\n",
            "data keluar: 3\n",
            "deque([4, 5, 6, 7, 8])\n",
            "data masuk: 9\n",
            "deque([4, 5, 6, 7, 8, 9])\n",
            "data keluar: 4\n",
            "deque([5, 6, 7, 8, 9])\n"
          ],
          "name": "stdout"
        }
      ]
    },
    {
      "cell_type": "markdown",
      "metadata": {
        "id": "-B5vMe-BoUU4"
      },
      "source": [
        "# **Tuple**"
      ]
    },
    {
      "cell_type": "markdown",
      "metadata": {
        "id": "wot6AzmLoZi6"
      },
      "source": [
        "Tuple berguna kalo kita punya data yang udah fixed atau gak bisa diubah nilainya\n",
        "\n",
        "Kenapa? karena ternyata tuple lebih ringan untuk diproses dibandingkan tuple"
      ]
    },
    {
      "cell_type": "code",
      "metadata": {
        "colab": {
          "base_uri": "https://localhost:8080/"
        },
        "id": "V02RThFIoW0o",
        "outputId": "f707f74e-bc8f-41ab-e555-ab0cc26a141c"
      },
      "source": [
        "#List\n",
        "Ganjil = [1,3,5,7,9]\n",
        "print(Ganjil)\n",
        "Ganjil[2] = 99\n",
        "print(Ganjil)\n",
        "Ganjil.append(11)\n",
        "print(Ganjil)\n",
        "Ganjil.remove(11)\n",
        "print(Ganjil)"
      ],
      "execution_count": null,
      "outputs": [
        {
          "output_type": "stream",
          "text": [
            "[1, 3, 5, 7, 9]\n",
            "[1, 3, 99, 7, 9]\n",
            "[1, 3, 99, 7, 9, 11]\n",
            "[1, 3, 99, 7, 9]\n"
          ],
          "name": "stdout"
        }
      ]
    },
    {
      "cell_type": "code",
      "metadata": {
        "colab": {
          "base_uri": "https://localhost:8080/",
          "height": 248
        },
        "id": "U2u_cE_wokkE",
        "outputId": "f1a3d8f5-4a44-4d63-d94c-5c9d124702c4"
      },
      "source": [
        "#Tuple\n",
        "Genap = (2,4,6,8,10) #tidak bisa diubah dan ditambah nilainya\n",
        "print(Genap)\n",
        "Genap[2] = 99 #bakal error\n",
        "print(Genap)\n",
        "Genap.append(12) #error\n",
        "print(Genap)\n",
        "Genap.remove(11)\n",
        "print(Genap)"
      ],
      "execution_count": null,
      "outputs": [
        {
          "output_type": "stream",
          "text": [
            "(2, 4, 6, 8, 10)\n"
          ],
          "name": "stdout"
        },
        {
          "output_type": "error",
          "ename": "TypeError",
          "evalue": "ignored",
          "traceback": [
            "\u001b[0;31m---------------------------------------------------------------------------\u001b[0m",
            "\u001b[0;31mTypeError\u001b[0m                                 Traceback (most recent call last)",
            "\u001b[0;32m<ipython-input-276-13f7f6a29b70>\u001b[0m in \u001b[0;36m<module>\u001b[0;34m()\u001b[0m\n\u001b[1;32m      2\u001b[0m \u001b[0mGenap\u001b[0m \u001b[0;34m=\u001b[0m \u001b[0;34m(\u001b[0m\u001b[0;36m2\u001b[0m\u001b[0;34m,\u001b[0m\u001b[0;36m4\u001b[0m\u001b[0;34m,\u001b[0m\u001b[0;36m6\u001b[0m\u001b[0;34m,\u001b[0m\u001b[0;36m8\u001b[0m\u001b[0;34m,\u001b[0m\u001b[0;36m10\u001b[0m\u001b[0;34m)\u001b[0m \u001b[0;31m#tidak bisa diubah dan ditambah nilainya\u001b[0m\u001b[0;34m\u001b[0m\u001b[0;34m\u001b[0m\u001b[0m\n\u001b[1;32m      3\u001b[0m \u001b[0mprint\u001b[0m\u001b[0;34m(\u001b[0m\u001b[0mGenap\u001b[0m\u001b[0;34m)\u001b[0m\u001b[0;34m\u001b[0m\u001b[0;34m\u001b[0m\u001b[0m\n\u001b[0;32m----> 4\u001b[0;31m \u001b[0mGenap\u001b[0m\u001b[0;34m[\u001b[0m\u001b[0;36m2\u001b[0m\u001b[0;34m]\u001b[0m \u001b[0;34m=\u001b[0m \u001b[0;36m99\u001b[0m \u001b[0;31m#bakal error\u001b[0m\u001b[0;34m\u001b[0m\u001b[0;34m\u001b[0m\u001b[0m\n\u001b[0m\u001b[1;32m      5\u001b[0m \u001b[0mprint\u001b[0m\u001b[0;34m(\u001b[0m\u001b[0mGenap\u001b[0m\u001b[0;34m)\u001b[0m\u001b[0;34m\u001b[0m\u001b[0;34m\u001b[0m\u001b[0m\n\u001b[1;32m      6\u001b[0m \u001b[0mGenap\u001b[0m\u001b[0;34m.\u001b[0m\u001b[0mappend\u001b[0m\u001b[0;34m(\u001b[0m\u001b[0;36m12\u001b[0m\u001b[0;34m)\u001b[0m \u001b[0;31m#error\u001b[0m\u001b[0;34m\u001b[0m\u001b[0;34m\u001b[0m\u001b[0m\n",
            "\u001b[0;31mTypeError\u001b[0m: 'tuple' object does not support item assignment"
          ]
        }
      ]
    },
    {
      "cell_type": "code",
      "metadata": {
        "colab": {
          "base_uri": "https://localhost:8080/"
        },
        "id": "IFFMIrRiomvr",
        "outputId": "a07cdb1a-29ce-4137-9f24-cfd635a08e6b"
      },
      "source": [
        "#Cek Tipe Data\n",
        "print(type(Ganjil))\n",
        "print(type(Genap))"
      ],
      "execution_count": null,
      "outputs": [
        {
          "output_type": "stream",
          "text": [
            "<class 'list'>\n",
            "<class 'tuple'>\n"
          ],
          "name": "stdout"
        }
      ]
    },
    {
      "cell_type": "code",
      "metadata": {
        "colab": {
          "base_uri": "https://localhost:8080/"
        },
        "id": "ZKkZlUbnop7f",
        "outputId": "bf006c24-a1c9-40d2-d982-f9b768b43c79"
      },
      "source": [
        "#Buat tahu apa aja yang bisa dilakuin sama tipe data ini\n",
        "Genap = (2,4,6,8,10) #tidak bisa diubah dan ditambah nilainya\n",
        "print('Tuple = ', Genap)\n",
        "print('Tipe Data = ', type(Genap))\n",
        "print(dir(Genap))"
      ],
      "execution_count": null,
      "outputs": [
        {
          "output_type": "stream",
          "text": [
            "Tuple =  (2, 4, 6, 8, 10)\n",
            "Tipe Data =  <class 'tuple'>\n",
            "['__add__', '__class__', '__contains__', '__delattr__', '__dir__', '__doc__', '__eq__', '__format__', '__ge__', '__getattribute__', '__getitem__', '__getnewargs__', '__gt__', '__hash__', '__init__', '__init_subclass__', '__iter__', '__le__', '__len__', '__lt__', '__mul__', '__ne__', '__new__', '__reduce__', '__reduce_ex__', '__repr__', '__rmul__', '__setattr__', '__sizeof__', '__str__', '__subclasshook__', 'count', 'index']\n"
          ],
          "name": "stdout"
        }
      ]
    },
    {
      "cell_type": "markdown",
      "metadata": {
        "id": "s4XnotInpLau"
      },
      "source": [
        "Tuple hanya bisa menerapkan function `'count'`, dan `'index'` saja. Selain itu, tuple hanya bisa mengakses elemen saja dengan metode slicing. Tapi, tidak bisa menghapus, mengubah, atau menambahkan elemen."
      ]
    },
    {
      "cell_type": "code",
      "metadata": {
        "colab": {
          "base_uri": "https://localhost:8080/"
        },
        "id": "2OjxqXFvppGp",
        "outputId": "338f1392-f5a6-4388-c403-d3cd3a8dd2a8"
      },
      "source": [
        "#Mengakses elemen dalam mulitidimensional list dalam tuple\n",
        "contoh_tuple2 = ([1,3,5,7,9],[2,4,6,8,10])\n",
        "print(contoh_tuple2[0][3])"
      ],
      "execution_count": null,
      "outputs": [
        {
          "output_type": "stream",
          "text": [
            "7\n"
          ],
          "name": "stdout"
        }
      ]
    },
    {
      "cell_type": "markdown",
      "metadata": {
        "id": "ghwTEjusqRcW"
      },
      "source": [
        "## **Fitur .count()**"
      ]
    },
    {
      "cell_type": "code",
      "metadata": {
        "colab": {
          "base_uri": "https://localhost:8080/"
        },
        "id": "nbQNyyIiqPDa",
        "outputId": "cace25b3-1565-46ce-f1dd-36ba25caa39b"
      },
      "source": [
        "# Fitur .count()\n",
        "print(\">>> Fitur .count()\")\n",
        "tuple_score = ('Budi', 'Sud', 'Budi', 'Budi', 'Budi', 'Sud', 'Sud')\n",
        "score_budi = tuple_score.count('Budi')\n",
        "score_sud = tuple_score.count('Sud')\n",
        "print('Jumlah Kemunculan kata \"Budi\" = ', score_budi) \n",
        "print('Jumlah Kemunculan kata \"Sud\" = ', score_sud) "
      ],
      "execution_count": null,
      "outputs": [
        {
          "output_type": "stream",
          "text": [
            ">>> Fitur .count()\n",
            "Jumlah Kemunculan kata \"Budi\" =  4\n",
            "Jumlah Kemunculan kata \"Sud\" =  3\n"
          ],
          "name": "stdout"
        }
      ]
    },
    {
      "cell_type": "markdown",
      "metadata": {
        "id": "Vhx65R9nqWmF"
      },
      "source": [
        "## **Fitur .index()**"
      ]
    },
    {
      "cell_type": "code",
      "metadata": {
        "colab": {
          "base_uri": "https://localhost:8080/"
        },
        "id": "aqXkTh-Oo_Lw",
        "outputId": "0a10a0af-704d-41fd-878d-2ebc8b68f0d5"
      },
      "source": [
        "# Fitur .index()\n",
        "print(\">>> Fitur .index()\")\n",
        "tuple_score = ('Budi','Sud','Budi','Budi','Budi','Sud','Sud')\n",
        "score_pertama_sud = tuple_score.index('Sud')+1\n",
        "print(\"Kata 'Sud' berada di data ke-\", score_pertama_sud)\n",
        "\n",
        "barisan = [1,2,3,4,5]\n",
        "print(barisan[-2])"
      ],
      "execution_count": null,
      "outputs": [
        {
          "output_type": "stream",
          "text": [
            ">>> Fitur .index()\n",
            "Kata 'Sud' berada di data ke- 2\n",
            "4\n"
          ],
          "name": "stdout"
        }
      ]
    },
    {
      "cell_type": "markdown",
      "metadata": {
        "id": "HD_vEowXpx9H"
      },
      "source": [
        "# **Set**"
      ]
    },
    {
      "cell_type": "markdown",
      "metadata": {
        "id": "UYMzF20oq3e1"
      },
      "source": [
        "Set itu dalam matematika sama saja dengan konsep himpunan."
      ]
    },
    {
      "cell_type": "markdown",
      "metadata": {
        "id": "Rmai9nSpq-U4"
      },
      "source": [
        "Karakteristik himpunan:\n",
        "1. tidak punya urutan, urutannya random karena gak penting urutannya mau gimana juga\n",
        "2. data2 yang sama akan dianggep satu data"
      ]
    },
    {
      "cell_type": "code",
      "metadata": {
        "colab": {
          "base_uri": "https://localhost:8080/"
        },
        "id": "yQzB47Eor1QU",
        "outputId": "8fe90712-4b37-461b-89c6-c6c9ad4f66b2"
      },
      "source": [
        "contoh_list = ['Dewi', 'Budi', 'Cici', 'Linda', 'Cici']\n",
        "print(\"Contoh List = \", contoh_list)\n",
        "\n",
        "contoh_set = {'Dewi', 'Budi', 'Cici', 'Linda', 'Cici'}\n",
        "print(\"Contoh Set = \", contoh_set)\n",
        "\n",
        "contoh_frozen_set = ({'Dewi', 'Budi', 'Cici', 'Linda', 'Cici'})\n",
        "print('Contoh Frozenset = ', contoh_frozen_set)"
      ],
      "execution_count": null,
      "outputs": [
        {
          "output_type": "stream",
          "text": [
            "Contoh List =  ['Dewi', 'Budi', 'Cici', 'Linda', 'Cici']\n",
            "Contoh Set =  {'Dewi', 'Cici', 'Budi', 'Linda'}\n",
            "Contoh Frozenset =  {'Dewi', 'Cici', 'Budi', 'Linda'}\n"
          ],
          "name": "stdout"
        }
      ]
    },
    {
      "cell_type": "code",
      "metadata": {
        "colab": {
          "base_uri": "https://localhost:8080/"
        },
        "id": "5kgPl1vUrJTu",
        "outputId": "b726b923-5b1c-4612-cca4-1cb8b877a202"
      },
      "source": [
        "superhero = {'wiro sablenng',\n",
        "             'si buta dari gua hantu',\n",
        "             'saras 008', \n",
        "             'gundala',\n",
        "             'gatot kaca'}\n",
        "superhero.add('mak lampir')\n",
        "superhero.add('gundala') #gundala akan tetep satu jumlahnya\n",
        "\n",
        "print(superhero)"
      ],
      "execution_count": null,
      "outputs": [
        {
          "output_type": "stream",
          "text": [
            "{'saras 008', 'si buta dari gua hantu', 'gundala', 'gatot kaca', 'mak lampir', 'wiro sablenng'}\n"
          ],
          "name": "stdout"
        }
      ]
    },
    {
      "cell_type": "code",
      "metadata": {
        "colab": {
          "base_uri": "https://localhost:8080/"
        },
        "id": "CsQvj0XOrQLn",
        "outputId": "ccfe0fcc-2280-49e3-f887-75eccf0b1ecb"
      },
      "source": [
        "avenger = set()\n",
        "avenger.add('thor')\n",
        "avenger.add('hulk')\n",
        "avenger.add('hawkeye')\n",
        "avenger.add('black widow')\n",
        "avenger.add('ironman')\n",
        "avenger.add('captain america')\n",
        "\n",
        "print(avenger)"
      ],
      "execution_count": null,
      "outputs": [
        {
          "output_type": "stream",
          "text": [
            "{'hawkeye', 'hulk', 'ironman', 'black widow', 'captain america', 'thor'}\n"
          ],
          "name": "stdout"
        }
      ]
    },
    {
      "cell_type": "markdown",
      "metadata": {
        "id": "gUB6ovzQrVQ4"
      },
      "source": [
        "Kalau ingin diurutkan berdasarkan abjad"
      ]
    },
    {
      "cell_type": "code",
      "metadata": {
        "colab": {
          "base_uri": "https://localhost:8080/"
        },
        "id": "nouTF_XYrZrE",
        "outputId": "87722ab8-c5de-4873-872f-77951d29f9ff"
      },
      "source": [
        "print(sorted(avenger))"
      ],
      "execution_count": null,
      "outputs": [
        {
          "output_type": "stream",
          "text": [
            "['black widow', 'captain america', 'hawkeye', 'hulk', 'ironman', 'thor']\n"
          ],
          "name": "stdout"
        }
      ]
    },
    {
      "cell_type": "markdown",
      "metadata": {
        "id": "L1h2gm6brfMM"
      },
      "source": [
        "Set tidak bisa gunain index atau pengen tau data ke-n. karena urutan gak penting. dia bakal error"
      ]
    },
    {
      "cell_type": "code",
      "metadata": {
        "colab": {
          "base_uri": "https://localhost:8080/",
          "height": 180
        },
        "id": "81k5TC0_rk2M",
        "outputId": "41d13dff-5a27-4c7b-fe2b-f72a6130cbe4"
      },
      "source": [
        "print(avenger[2])\n",
        "print(avenger.index('black widow'))"
      ],
      "execution_count": null,
      "outputs": [
        {
          "output_type": "error",
          "ename": "TypeError",
          "evalue": "ignored",
          "traceback": [
            "\u001b[0;31m---------------------------------------------------------------------------\u001b[0m",
            "\u001b[0;31mTypeError\u001b[0m                                 Traceback (most recent call last)",
            "\u001b[0;32m<ipython-input-288-4d9c73d81189>\u001b[0m in \u001b[0;36m<module>\u001b[0;34m()\u001b[0m\n\u001b[0;32m----> 1\u001b[0;31m \u001b[0mprint\u001b[0m\u001b[0;34m(\u001b[0m\u001b[0mavenger\u001b[0m\u001b[0;34m[\u001b[0m\u001b[0;36m2\u001b[0m\u001b[0;34m]\u001b[0m\u001b[0;34m)\u001b[0m\u001b[0;34m\u001b[0m\u001b[0;34m\u001b[0m\u001b[0m\n\u001b[0m\u001b[1;32m      2\u001b[0m \u001b[0mprint\u001b[0m\u001b[0;34m(\u001b[0m\u001b[0mavenger\u001b[0m\u001b[0;34m.\u001b[0m\u001b[0mindex\u001b[0m\u001b[0;34m(\u001b[0m\u001b[0;34m'black widow'\u001b[0m\u001b[0;34m)\u001b[0m\u001b[0;34m)\u001b[0m\u001b[0;34m\u001b[0m\u001b[0;34m\u001b[0m\u001b[0m\n",
            "\u001b[0;31mTypeError\u001b[0m: 'set' object is not subscriptable"
          ]
        }
      ]
    },
    {
      "cell_type": "markdown",
      "metadata": {
        "id": "wdI2Y_RjrrVN"
      },
      "source": [
        "# **Manipulasi Set**"
      ]
    },
    {
      "cell_type": "markdown",
      "metadata": {
        "id": "RGYPe_GwruVZ"
      },
      "source": [
        "## **Fitur .add()**"
      ]
    },
    {
      "cell_type": "code",
      "metadata": {
        "colab": {
          "base_uri": "https://localhost:8080/"
        },
        "id": "lBQO4d3RsTz3",
        "outputId": "11a7787b-a3a6-4ca5-8ae5-528eb638ee00"
      },
      "source": [
        "# Fitur .add()\n",
        "print(\"\\n>>> Fitur .add()\")\n",
        "set_buah = {'Jeruk','Apel','Anggur'}\n",
        "set_buah.add('Melon')\n",
        "print(set_buah)"
      ],
      "execution_count": null,
      "outputs": [
        {
          "output_type": "stream",
          "text": [
            "\n",
            ">>> Fitur .add()\n",
            "{'Anggur', 'Apel', 'Melon', 'Jeruk'}\n"
          ],
          "name": "stdout"
        }
      ]
    },
    {
      "cell_type": "markdown",
      "metadata": {
        "id": "RT-oAqk3sZ8N"
      },
      "source": [
        "## **Fitur .clear()**"
      ]
    },
    {
      "cell_type": "code",
      "metadata": {
        "colab": {
          "base_uri": "https://localhost:8080/"
        },
        "id": "4FcpwDc-sXQ2",
        "outputId": "a6ecbbf0-552b-4d58-aaeb-b42b492e60de"
      },
      "source": [
        "# Fitur .clear()\n",
        "print(\"\\n>>> Fitur .clear()\")\n",
        "set_buah = {'Jeruk','Apel','Anggur'}\n",
        "set_buah.clear()\n",
        "print(set_buah)"
      ],
      "execution_count": null,
      "outputs": [
        {
          "output_type": "stream",
          "text": [
            "\n",
            ">>> Fitur .clear()\n",
            "set()\n"
          ],
          "name": "stdout"
        }
      ]
    },
    {
      "cell_type": "markdown",
      "metadata": {
        "id": "kr0yQY9RsiDT"
      },
      "source": [
        "## **Fitur .copy()**"
      ]
    },
    {
      "cell_type": "code",
      "metadata": {
        "colab": {
          "base_uri": "https://localhost:8080/"
        },
        "id": "Er4QXVtmshKi",
        "outputId": "05e04e6e-bc3f-4ba4-a70f-ae8b3db6a2a5"
      },
      "source": [
        "# Fitur .copy()\n",
        "#Tanpa copy\n",
        "print(\"\\n>>> Fitur .copy()\")\n",
        "set_buah1 = {'Jeruk','Apel','Anggur'}\n",
        "set_buah2 = set_buah1\n",
        "set_buah2.add('Melon')\n",
        "print('Buah2 = ', set_buah2)\n",
        "print('Buah1 = ', set_buah1)\n",
        "#Dengan copy\n",
        "set_buah1 = {'Jeruk','Apel','Anggur'}\n",
        "set_buah3 = set_buah1.copy()\n",
        "set_buah3.add('Kiwi')\n",
        "print('Buah3 = ', set_buah3)\n",
        "print('Buah1 = ', set_buah1)"
      ],
      "execution_count": null,
      "outputs": [
        {
          "output_type": "stream",
          "text": [
            "\n",
            ">>> Fitur .copy()\n",
            "Buah2 =  {'Anggur', 'Apel', 'Melon', 'Jeruk'}\n",
            "Buah1 =  {'Anggur', 'Apel', 'Melon', 'Jeruk'}\n",
            "Buah3 =  {'Anggur', 'Apel', 'Kiwi', 'Jeruk'}\n",
            "Buah1 =  {'Anggur', 'Apel', 'Jeruk'}\n"
          ],
          "name": "stdout"
        }
      ]
    },
    {
      "cell_type": "markdown",
      "metadata": {
        "id": "I-9HTgrxsqaN"
      },
      "source": [
        "## **Fitur .update()**"
      ]
    },
    {
      "cell_type": "code",
      "metadata": {
        "colab": {
          "base_uri": "https://localhost:8080/"
        },
        "id": "tj_g__kzss5Z",
        "outputId": "f121f1bb-574c-4e97-90e0-8a6ed276b175"
      },
      "source": [
        "#Fitur .update()\n",
        "print(\"\\n>>> Fitur .update()\")\n",
        "parcel1 = {'Anggur','Apel','Jeruk'}\n",
        "parcel2 = {'Apel','Kiwi','Melon'}\n",
        "parcel1.update(parcel2)\n",
        "print(parcel1)"
      ],
      "execution_count": null,
      "outputs": [
        {
          "output_type": "stream",
          "text": [
            "\n",
            ">>> Fitur .update()\n",
            "{'Anggur', 'Apel', 'Kiwi', 'Melon', 'Jeruk'}\n"
          ],
          "name": "stdout"
        }
      ]
    },
    {
      "cell_type": "markdown",
      "metadata": {
        "id": "L41hP3sVszyt"
      },
      "source": [
        "## **Fitur .pop()**"
      ]
    },
    {
      "cell_type": "code",
      "metadata": {
        "colab": {
          "base_uri": "https://localhost:8080/"
        },
        "id": "yVFhO7i9sxEN",
        "outputId": "539d0edc-2c55-407c-dbe1-232d52550f5e"
      },
      "source": [
        "# Fitur .pop()\n",
        "print(\"\\n>>> Fitur .pop()\")\n",
        "parcel = {'Anggur','Apel','Jeruk'}\n",
        "buah = parcel.pop()\n",
        "print('buah yang dihilangkan: ', buah)\n",
        "print('Parcel = ', parcel)"
      ],
      "execution_count": null,
      "outputs": [
        {
          "output_type": "stream",
          "text": [
            "\n",
            ">>> Fitur .pop()\n",
            "buah yang dihilangkan:  Anggur\n",
            "Parcel =  {'Apel', 'Jeruk'}\n"
          ],
          "name": "stdout"
        }
      ]
    },
    {
      "cell_type": "markdown",
      "metadata": {
        "id": "4JXllpubs5W2"
      },
      "source": [
        "## **Fitur .remove()**"
      ]
    },
    {
      "cell_type": "code",
      "metadata": {
        "colab": {
          "base_uri": "https://localhost:8080/"
        },
        "id": "fPTzD-A-s3q_",
        "outputId": "900da12e-c01d-44eb-b097-0db866d6412c"
      },
      "source": [
        "# Fitur .remove()\n",
        "print(\"\\n>>> Fitur .remove()\")\n",
        "parcel = {'Anggur','Apel','Jeruk'}\n",
        "print('Parcel Sebelum = ', parcel)\n",
        "parcel.remove('Apel')\n",
        "print('Parcel Sesudah = ', parcel)"
      ],
      "execution_count": null,
      "outputs": [
        {
          "output_type": "stream",
          "text": [
            "\n",
            ">>> Fitur .remove()\n",
            "Parcel Sebelum =  {'Anggur', 'Apel', 'Jeruk'}\n",
            "Parcel Sesudah =  {'Anggur', 'Jeruk'}\n"
          ],
          "name": "stdout"
        }
      ]
    },
    {
      "cell_type": "markdown",
      "metadata": {
        "id": "jizXrF19s-OB"
      },
      "source": [
        "## **Fitur .union()**"
      ]
    },
    {
      "cell_type": "code",
      "metadata": {
        "colab": {
          "base_uri": "https://localhost:8080/"
        },
        "id": "D-s6L82MtBhp",
        "outputId": "8b80dc0e-c690-4ede-a6cc-671464db3c54"
      },
      "source": [
        "# Fitur .union()\n",
        "print(\"\\n>>> Fitur .union()\")\n",
        "parcel1 = {'Anggur','Apel','Jeruk'}\n",
        "print(\"parcel1 = \", parcel1)\n",
        "parcel2 = {'Apel','Kiwi','Melon'}\n",
        "parcel3 = parcel1.union(parcel2)\n",
        "print(\"parcel3 = \", parcel3)\n",
        "print(\"parcel1 = \", parcel1)"
      ],
      "execution_count": null,
      "outputs": [
        {
          "output_type": "stream",
          "text": [
            "\n",
            ">>> Fitur .union()\n",
            "parcel1 =  {'Anggur', 'Apel', 'Jeruk'}\n",
            "parcel3 =  {'Anggur', 'Apel', 'Kiwi', 'Melon', 'Jeruk'}\n",
            "parcel1 =  {'Anggur', 'Apel', 'Jeruk'}\n"
          ],
          "name": "stdout"
        }
      ]
    },
    {
      "cell_type": "markdown",
      "metadata": {
        "id": "B5FrxbhNtNhN"
      },
      "source": [
        "## **Fitur .isdisjoint()**"
      ]
    },
    {
      "cell_type": "code",
      "metadata": {
        "colab": {
          "base_uri": "https://localhost:8080/"
        },
        "id": "wfqbHExXtQCx",
        "outputId": "8e2c1b44-10bd-42b0-c53c-9d77feb2f0ae"
      },
      "source": [
        "# Fitur .isdisjoint()\n",
        "print(\"\\n>>> Fitur .isdisjoint()\")\n",
        "parcel1 = {'Anggur','Apel','Jeruk'}\n",
        "parcel2 = {'Kiwi','Melon','Pisang'}\n",
        "parcel3 = {'Apel','Srikaya','Semangka'}\n",
        "parcel1_parcel2_disjoint = parcel1.isdisjoint(parcel2)\n",
        "print('is disjoint parcel 1 2 = ', parcel1_parcel2_disjoint)\n",
        "parcel1_parcel3_disjoint = parcel1.isdisjoint(parcel3)\n",
        "print('is disjoint parcel 1 3 = ', parcel1_parcel3_disjoint)"
      ],
      "execution_count": null,
      "outputs": [
        {
          "output_type": "stream",
          "text": [
            "\n",
            ">>> Fitur .isdisjoint()\n",
            "is disjoint parcel 1 2 =  True\n",
            "is disjoint parcel 1 3 =  False\n"
          ],
          "name": "stdout"
        }
      ]
    },
    {
      "cell_type": "markdown",
      "metadata": {
        "id": "rMpI9tn-tT1r"
      },
      "source": [
        "## **Fitur .issubset()**"
      ]
    },
    {
      "cell_type": "code",
      "metadata": {
        "colab": {
          "base_uri": "https://localhost:8080/"
        },
        "id": "SMoz9jqPtSok",
        "outputId": "d1184fe6-bd42-4867-ba12-791aadaede23"
      },
      "source": [
        "# Fitur .issubset()\n",
        "print(\"\\n>>> Fitur .issubset()\")\n",
        "parcel_A = {'Anggur', 'Apel'}\n",
        "parcel_B = {'Durian','Semangka','Apel'}\n",
        "parcel_C = {'Anggur', 'Kiwi', 'Apel', 'Jeruk', 'Melon'}\n",
        "parcel_A_dalam_C = parcel_A.issubset(parcel_C)\n",
        "parcel_B_dalam_C = parcel_B.issubset(parcel_C)\n",
        "print('Parcel A dalam C = ', parcel_A_dalam_C)\n",
        "print('Parcel B dalam C = ', parcel_B_dalam_C)"
      ],
      "execution_count": null,
      "outputs": [
        {
          "output_type": "stream",
          "text": [
            "\n",
            ">>> Fitur .issubset()\n",
            "Parcel A dalam C =  True\n",
            "Parcel B dalam C =  False\n"
          ],
          "name": "stdout"
        }
      ]
    },
    {
      "cell_type": "markdown",
      "metadata": {
        "id": "f7fTjdyQtcj7"
      },
      "source": [
        "## **Fitur .issuperset()**"
      ]
    },
    {
      "cell_type": "code",
      "metadata": {
        "colab": {
          "base_uri": "https://localhost:8080/"
        },
        "id": "SHHLXr9otafb",
        "outputId": "39718fbf-30bf-40ff-811d-9797edafe7f8"
      },
      "source": [
        "# Fitur .issuperset()\n",
        "print(\"\\n>>> Fitur .issuperset()\")\n",
        "parcel_A = {'Anggur', 'Apel'}\n",
        "parcel_B = {'Durian','Semangka','Apel'}\n",
        "parcel_C = {'Anggur', 'Kiwi', 'Apel', 'Jeruk', 'Melon'}\n",
        "parcel_C_mengandung_A = parcel_C.issuperset(parcel_A)\n",
        "parcel_C_mengandung_B = parcel_C.issuperset(parcel_B)\n",
        "print('Parcel C mengandung A =', parcel_C_mengandung_A)\n",
        "print('Parcel C mengandung B =', parcel_C_mengandung_B)"
      ],
      "execution_count": null,
      "outputs": [
        {
          "output_type": "stream",
          "text": [
            "\n",
            ">>> Fitur .issuperset()\n",
            "Parcel C mengandung A = True\n",
            "Parcel C mengandung B = False\n"
          ],
          "name": "stdout"
        }
      ]
    },
    {
      "cell_type": "markdown",
      "metadata": {
        "id": "IFlusvgZtidO"
      },
      "source": [
        "## **Fitur .union()**"
      ]
    },
    {
      "cell_type": "code",
      "metadata": {
        "colab": {
          "base_uri": "https://localhost:8080/"
        },
        "id": "w-_M289Ltgqh",
        "outputId": "5908cfe9-79da-4848-ccb8-0277f1e58252"
      },
      "source": [
        "# Fitur .union()\n",
        "print(\"\\n>>> Fitur .union()\")\n",
        "parcel1 = {'Anggur','Apel','Jeruk'}\n",
        "parcel2 = {'Apel','Kiwi','Melon'}\n",
        "parcel3 = parcel1.union(parcel2)\n",
        "print(\"Parcel 1 = \", parcel1)\n",
        "print(\"Parcel Hasil Gabungan 1 2 = \", parcel3)"
      ],
      "execution_count": null,
      "outputs": [
        {
          "output_type": "stream",
          "text": [
            "\n",
            ">>> Fitur .union()\n",
            "Parcel 1 =  {'Anggur', 'Apel', 'Jeruk'}\n",
            "Parcel Hasil Gabungan 1 2 =  {'Anggur', 'Apel', 'Kiwi', 'Melon', 'Jeruk'}\n"
          ],
          "name": "stdout"
        }
      ]
    },
    {
      "cell_type": "markdown",
      "metadata": {
        "id": "s9IbC6tbtxHT"
      },
      "source": [
        "## **Fitur .isdisjoint()**"
      ]
    },
    {
      "cell_type": "code",
      "metadata": {
        "colab": {
          "base_uri": "https://localhost:8080/"
        },
        "id": "uS8jur2NtuiC",
        "outputId": "38e3d997-e2f4-4df7-ef23-5fdfd7662efd"
      },
      "source": [
        "# Fitur .isdisjoint()\n",
        "print(\"\\n>>> Fitur .isdisjoint()\")\n",
        "parcel1 = {'Anggur','Apel','Jeruk'}\n",
        "parcel2 = {'Kiwi','Melon','Pisang'}\n",
        "parcel3 = {'Apel','Srikaya','Semangka'}\n",
        "parcel1_parcel2_disjoint = parcel1.isdisjoint(parcel2)\n",
        "print(\"Apakah Parcel 1 dan 2 tidak saaling berhubungan? \", parcel1_parcel2_disjoint)\n",
        "parcel1_parcel3_disjoint = parcel1.isdisjoint(parcel3)\n",
        "print(\"Apakah Parcel 1 dan 3 tidak saaling berhubungan? \", parcel1_parcel3_disjoint)"
      ],
      "execution_count": null,
      "outputs": [
        {
          "output_type": "stream",
          "text": [
            "\n",
            ">>> Fitur .isdisjoint()\n",
            "Apakah Parcel 1 dan 2 tidak saaling berhubungan?  True\n",
            "Apakah Parcel 1 dan 3 tidak saaling berhubungan?  False\n"
          ],
          "name": "stdout"
        }
      ]
    },
    {
      "cell_type": "markdown",
      "metadata": {
        "id": "Gs7_1-2-t00e"
      },
      "source": [
        "## **Fitur .issubset()**"
      ]
    },
    {
      "cell_type": "code",
      "metadata": {
        "colab": {
          "base_uri": "https://localhost:8080/"
        },
        "id": "F0l5LnjEt1hp",
        "outputId": "6526ec6f-43ec-46c2-887b-768c6589a483"
      },
      "source": [
        "# Fitur .issubset()\n",
        "print(\"\\n>>> Fitur .issubset()\")\n",
        "parcel_A = {'Anggur', 'Apel'}\n",
        "parcel_B = {'Durian','Semangka','Apel'}\n",
        "parcel_C = {'Anggur', 'Kiwi', 'Apel', 'Jeruk', 'Melon'}\n",
        "parcel_A_dalam_C = parcel_A.issubset(parcel_C)\n",
        "parcel_B_dalam_C = parcel_B.issubset(parcel_C)\n",
        "print(\"Apakah ada elemen Parcel A dalam Parcel C juga?\\n\", parcel_A_dalam_C)\n",
        "print(\"Apakah ada elemen Parcel B dalam Parcel C juga?\\n\", parcel_B_dalam_C)"
      ],
      "execution_count": null,
      "outputs": [
        {
          "output_type": "stream",
          "text": [
            "\n",
            ">>> Fitur .issubset()\n",
            "Apakah ada elemen Parcel A dalam Parcel C juga?\n",
            " True\n",
            "Apakah ada elemen Parcel B dalam Parcel C juga?\n",
            " False\n"
          ],
          "name": "stdout"
        }
      ]
    },
    {
      "cell_type": "markdown",
      "metadata": {
        "id": "Ziv4Cpjyt8_I"
      },
      "source": [
        "## **Fitur .issuperset()**"
      ]
    },
    {
      "cell_type": "code",
      "metadata": {
        "colab": {
          "base_uri": "https://localhost:8080/"
        },
        "id": "W216w3WHt7DJ",
        "outputId": "c2166e74-1626-4c88-f474-cb72fbac52c2"
      },
      "source": [
        "# Fitur .issuperset()\n",
        "print(\"\\n>>> Fitur .issuperset()\")\n",
        "parcel_A = {'Anggur', 'Apel'}\n",
        "parcel_B = {'Durian','Semangka','Apel'}\n",
        "parcel_C = {'Anggur', 'Kiwi', 'Apel', 'Jeruk', 'Melon'}\n",
        "parcel_C_mengandung_A = parcel_C.issuperset(parcel_A)\n",
        "parcel_C_mengandung_B = parcel_C.issuperset(parcel_B)\n",
        "print(\"Apakah seluruh Parcel A berada di Parcel C?\\n\", parcel_C_mengandung_A)\n",
        "print(\"Apakah seluruh Parcel B berada di Parcel C?\\n\", parcel_C_mengandung_B)"
      ],
      "execution_count": null,
      "outputs": [
        {
          "output_type": "stream",
          "text": [
            "\n",
            ">>> Fitur .issuperset()\n",
            "Apakah seluruh Parcel A berada di Parcel C?\n",
            " True\n",
            "Apakah seluruh Parcel B berada di Parcel C?\n",
            " False\n"
          ],
          "name": "stdout"
        }
      ]
    },
    {
      "cell_type": "markdown",
      "metadata": {
        "id": "VmyevUzBuD9F"
      },
      "source": [
        "## **Fitur .intersection()**"
      ]
    },
    {
      "cell_type": "code",
      "metadata": {
        "colab": {
          "base_uri": "https://localhost:8080/"
        },
        "id": "fp6fKMzKuChB",
        "outputId": "b63f7bac-fac8-47a4-f632-4afe34345a2e"
      },
      "source": [
        "# Fitur .intersection()\n",
        "print(\"\\n>>> Fitur .intersection()\")\n",
        "parcel_A = {'Anggur', 'Kiwi', 'Apel', 'Jeruk', 'Melon'}\n",
        "parcel_B = {'Apel', 'Jeruk', 'Semangka', 'Durian', 'Tomat'}\n",
        "parcel_C = parcel_A.intersection(parcel_B)\n",
        "print(\"Elemen yang juga ada di Parcel A dan B\\n\", parcel_C)"
      ],
      "execution_count": null,
      "outputs": [
        {
          "output_type": "stream",
          "text": [
            "\n",
            ">>> Fitur .intersection()\n",
            "Elemen yang juga ada di Parcel A dan B\n",
            " {'Apel', 'Jeruk'}\n"
          ],
          "name": "stdout"
        }
      ]
    },
    {
      "cell_type": "markdown",
      "metadata": {
        "id": "6gbk_XEouHwv"
      },
      "source": [
        "## **Fitur .difference()**"
      ]
    },
    {
      "cell_type": "code",
      "metadata": {
        "colab": {
          "base_uri": "https://localhost:8080/"
        },
        "id": "yPpNkAFsuHGI",
        "outputId": "190655ea-4bfd-416c-e4bb-7fedd3c83838"
      },
      "source": [
        "# Fitur .difference()\n",
        "print(\"\\n>>> Fitur .difference()\")\n",
        "parcel_A = {'Anggur', 'Kiwi', 'Apel', 'Jeruk', 'Melon'}\n",
        "parcel_B = {'Apel', 'Jeruk', 'Semangka', 'Durian', 'Tomat'}\n",
        "parcel_C = parcel_A.intersection(parcel_B)\n",
        "parcel_C = parcel_A.difference(parcel_B)\n",
        "print(\"Elemen yang tidak ada di Parcel A juga Parcel B\\n\", parcel_C)"
      ],
      "execution_count": null,
      "outputs": [
        {
          "output_type": "stream",
          "text": [
            "\n",
            ">>> Fitur .difference()\n",
            "Elemen yang tidak ada di Parcel A juga Parcel B\n",
            " {'Anggur', 'Melon', 'Kiwi'}\n"
          ],
          "name": "stdout"
        }
      ]
    },
    {
      "cell_type": "markdown",
      "metadata": {
        "id": "tsB4LfAeuRmD"
      },
      "source": [
        "## **Fitur .symmetric_difference()**"
      ]
    },
    {
      "cell_type": "code",
      "metadata": {
        "colab": {
          "base_uri": "https://localhost:8080/"
        },
        "id": "5FDM5YK8sM-j",
        "outputId": "16cc85ad-71d2-40cf-c95c-64385411e676"
      },
      "source": [
        "# Fitur .symmetric_difference()\n",
        "print(\"\\n>>> Fitur .symmetric_difference()\")\n",
        "parcel_A = {'Anggur', 'Apel', 'Jeruk', 'Melon'}\n",
        "parcel_B = {'Apel','Jeruk','Semangka','Leci'}\n",
        "parcel_C = parcel_A.symmetric_difference(parcel_B)\n",
        "print(\"Elemen dari Parcel A yang tidak ada di Parcel B\\ndigabung\\n Elemen dari Parcel B yang tidak ada di Parcel A\\n\", parcel_C)"
      ],
      "execution_count": null,
      "outputs": [
        {
          "output_type": "stream",
          "text": [
            "\n",
            ">>> Fitur .symmetric_difference()\n",
            "Elemen dari Parcel A yang tidak ada di Parcel B\n",
            "digabung\n",
            " Elemen dari Parcel B yang tidak ada di Parcel A\n",
            " {'Anggur', 'Melon', 'Leci', 'Semangka'}\n"
          ],
          "name": "stdout"
        }
      ]
    },
    {
      "cell_type": "markdown",
      "metadata": {
        "id": "qYn13itFurfs"
      },
      "source": [
        "# **Konversi Data dari List ke Tuple atau sebaliknya**"
      ]
    },
    {
      "cell_type": "code",
      "metadata": {
        "colab": {
          "base_uri": "https://localhost:8080/"
        },
        "id": "iA7QPilJuxTC",
        "outputId": "e31851fd-7086-4513-b9c0-3ecaeaf1157a"
      },
      "source": [
        "# Tuple\n",
        "print(\"\\n>>> Tuple\")\n",
        "tuple_menu = ('Gado-gado','Ayam Goreng','Rendang','Ketoprak')\n",
        "jumlah_menu = len(tuple_menu)\n",
        "print(\"Jumlah Elemen Data Tuple = \", jumlah_menu)\n",
        "\n",
        "# List\n",
        "print(\"\\n>>> List\")\n",
        "list_menu = ['Gado-gado','Ayam Goreng','Rendang','Ketoprak']\n",
        "jumlah_menu = len(list_menu)\n",
        "print(\"Jumlah Elemen Data List = \", jumlah_menu)"
      ],
      "execution_count": null,
      "outputs": [
        {
          "output_type": "stream",
          "text": [
            "\n",
            ">>> Tuple\n",
            "Jumlah Elemen Data Tuple =  4\n",
            "\n",
            ">>> List\n",
            "Jumlah Elemen Data List =  4\n"
          ],
          "name": "stdout"
        }
      ]
    },
    {
      "cell_type": "code",
      "metadata": {
        "colab": {
          "base_uri": "https://localhost:8080/"
        },
        "id": "9tt_yVY7vMgR",
        "outputId": "9f6d5b9b-9142-4433-ecc9-2c7cbaa23ba2"
      },
      "source": [
        "# Konversi tipe data\n",
        "list_buah = ['Apel', 'Apel', 'Jeruk', 'Markisa', 'Jeruk', 'Markisa', 'Apel']\n",
        "set_buah = set(list_buah)\n",
        "print(\"Konversi List ke Set:\\n\", set_buah)\n",
        "\n",
        "list_buah = list(set_buah)\n",
        "list_buah.sort()\n",
        "print(\"\\nKonversi Set ke List lalu diurutkan:\\n\", list_buah)"
      ],
      "execution_count": null,
      "outputs": [
        {
          "output_type": "stream",
          "text": [
            "Konversi List ke Set:\n",
            " {'Markisa', 'Apel', 'Jeruk'}\n",
            "\n",
            "Konversi Set ke List lalu diurutkan:\n",
            " ['Apel', 'Jeruk', 'Markisa']\n"
          ],
          "name": "stdout"
        }
      ]
    },
    {
      "cell_type": "markdown",
      "metadata": {
        "id": "4DSTfBWzvkt_"
      },
      "source": [
        "# **Dictionary**"
      ]
    },
    {
      "cell_type": "code",
      "metadata": {
        "id": "gPqf9_TUvlU9"
      },
      "source": [
        "person = {'nama' : 'Diko Hary Adhanto', 'pekerjaan' : 'Data Analyst'}\n",
        "print('Nama      : ', person['nama'])\n",
        "print('Pekerjaan : ', person['pekerjaan'])"
      ],
      "execution_count": null,
      "outputs": []
    },
    {
      "cell_type": "code",
      "metadata": {
        "colab": {
          "base_uri": "https://localhost:8080/"
        },
        "id": "Z8z45Ifqx4E5",
        "outputId": "be9eae5e-4087-4346-aff3-e3e83cbbea5a"
      },
      "source": [
        "member1 = {\n",
        "           'ID'        : '101',\n",
        "           'Nama'      : 'Diko Hary Adhanto',\n",
        "           'Pekerjaan' :'Mahasiswa',\n",
        "           'Status'    : 'Aktif'\n",
        "          }\n",
        "\n",
        "#Bikin Member List\n",
        "member2 = {\n",
        "           'ID'        : '102',\n",
        "           'Nama'      : 'Lailatul Qomariah',\n",
        "           'Pekerjaan' :'Mahasiswa',\n",
        "           'Status'    : 'Aktif'\n",
        "          }\n",
        "\n",
        "memberlist = {101:member1,102:member2}\n",
        "print(memberlist[101])"
      ],
      "execution_count": null,
      "outputs": [
        {
          "output_type": "stream",
          "text": [
            "{'ID': '101', 'Nama': 'Diko Hary Adhanto', 'Pekerjaan': 'Mahasiswa', 'Status': 'Aktif'}\n"
          ],
          "name": "stdout"
        }
      ]
    },
    {
      "cell_type": "markdown",
      "metadata": {
        "id": "RF6c7_4Hv250"
      },
      "source": [
        "## **Latihan**"
      ]
    },
    {
      "cell_type": "code",
      "metadata": {
        "colab": {
          "base_uri": "https://localhost:8080/"
        },
        "id": "gWiKgg9uv_9V",
        "outputId": "78369c40-e6cc-40b1-bc82-15b53974b138"
      },
      "source": [
        "#tipe data dic\n",
        "Sepatu = {\"Nama Barang\" : \"Sepatu Niko\", \"Harga\" : 150000, \"Diskon\" : 30000}\n",
        "Baju   = {\"Nama Barang\" : \"Baju Unikloh\", \"Harga\" : 80000, \"Diskon\" : 8000}\n",
        "Celana = {\"Nama Barang\" : \"Celana Lepis\", \"Harga\" : 200000, \"Diskon\" : 60000}\n",
        "\n",
        "#tipe data list\n",
        "Daftar_Belanja = [Sepatu, Baju, Celana]\n",
        "\n",
        "#harga masing-masing barang setelah dikurangi diskon\n",
        "Harga_Sepatu = Sepatu[\"Harga\"] - Sepatu[\"Diskon\"]\n",
        "Harga_Baju   = Baju[\"Harga\"] - Baju[\"Diskon\"]\n",
        "Harga_Celana = Celana[\"Harga\"] - Celana[\"Diskon\"] \n",
        "\n",
        "# Harga Total\n",
        "Harga_Total = Harga_Sepatu + Harga_Celana + Harga_Baju\n",
        "print(\"Total Biaya = \", Harga_Total)\n",
        "\n",
        "# Harga kena pajak\n",
        "Harga_Pajak = Harga_Total * 0.1\n",
        "print(\"Biaya Pajak = \", Harga_Pajak)\n",
        "\n",
        "#Harga Akhir\n",
        "Harga_Akhir = Harga_Total + Harga_Pajak\n",
        "print(\"Total Biaya (+Pajak) = \", Harga_Akhir)"
      ],
      "execution_count": null,
      "outputs": [
        {
          "output_type": "stream",
          "text": [
            "Total Biaya =  332000\n",
            "Biaya Pajak =  33200.0\n",
            "Total Biaya (+Pajak) =  365200.0\n"
          ],
          "name": "stdout"
        }
      ]
    },
    {
      "cell_type": "markdown",
      "metadata": {
        "id": "desVuhO3wr3p"
      },
      "source": [
        "# **Manipulasi Dictionary**"
      ]
    },
    {
      "cell_type": "markdown",
      "metadata": {
        "id": "wxQ5cgj6wywZ"
      },
      "source": [
        "## **Fitur .clear()**"
      ]
    },
    {
      "cell_type": "code",
      "metadata": {
        "colab": {
          "base_uri": "https://localhost:8080/"
        },
        "id": "5-CGdkDxw2gQ",
        "outputId": "6933215a-7e96-4721-953c-96ec07881080"
      },
      "source": [
        "# Fitur .clear()\n",
        "print(\"\\n>>> Fitur .clear()\")\n",
        "info_karyawan = {'nama' : 'Aksara',\n",
        "                 'nik' : '1211011',\n",
        "                 'pekerjaan' : 'Data Analyst'}\n",
        "info_karyawan.clear()\n",
        "print(\"Info Karyawan Clear = \", info_karyawan)"
      ],
      "execution_count": null,
      "outputs": [
        {
          "output_type": "stream",
          "text": [
            "\n",
            ">>> Fitur .clear()\n",
            "Info Karyawan Clear =  {}\n"
          ],
          "name": "stdout"
        }
      ]
    },
    {
      "cell_type": "markdown",
      "metadata": {
        "id": "IfN98rG_xCBt"
      },
      "source": [
        "## **Fitur .copy()**"
      ]
    },
    {
      "cell_type": "code",
      "metadata": {
        "colab": {
          "base_uri": "https://localhost:8080/"
        },
        "id": "hhJWW7RZxBNu",
        "outputId": "a88dbeef-0c96-4857-8c21-06adf637f8ab"
      },
      "source": [
        "# Fitur .copy()\n",
        "print(\"\\n>>> Fitur .copy()\")\n",
        "info_karyawan1 = {\n",
        "                  'nama'      : 'Aksara',\n",
        "                  'nik'       : '1211011',\n",
        "                  'pekerjaan' : 'Data Analyst'\n",
        "                 }\n",
        "info_karyawan2 = info_karyawan1.copy()\n",
        "info_karyawan2['nama'] = 'Senja'\n",
        "info_karyawan2['nik'] = '1211056'\n",
        "print(\"Info Karyawan 1:\\n\", info_karyawan1)\n",
        "print(\"Info Karyawan 2:\\n\", info_karyawan2)"
      ],
      "execution_count": null,
      "outputs": [
        {
          "output_type": "stream",
          "text": [
            "\n",
            ">>> Fitur .copy()\n",
            "Info Karyawan 1:\n",
            " {'nama': 'Aksara', 'nik': '1211011', 'pekerjaan': 'Data Analyst'}\n",
            "Info Karyawan 2:\n",
            " {'nama': 'Senja', 'nik': '1211056', 'pekerjaan': 'Data Analyst'}\n"
          ],
          "name": "stdout"
        }
      ]
    },
    {
      "cell_type": "markdown",
      "metadata": {
        "id": "OvH-tXgcxKa3"
      },
      "source": [
        "## **Fitur .keys()**"
      ]
    },
    {
      "cell_type": "code",
      "metadata": {
        "colab": {
          "base_uri": "https://localhost:8080/"
        },
        "id": "g7iDj9ZfxJbJ",
        "outputId": "0578a5ae-a32c-4cef-c12f-d1ebb7c5bf2d"
      },
      "source": [
        "# Fitur .keys()\n",
        "print(\"\\n>>> Fitur .keys()\")\n",
        "info_karyawan = {\n",
        "                 'nama'      : 'Aksara',\n",
        "                 'nik'       : '1211011',\n",
        "                 'pekerjaan' : 'Data Analyst'\n",
        "                }\n",
        "kunci_akses = list(info_karyawan.keys())\n",
        "print(\"Keys:\\n\", kunci_akses)"
      ],
      "execution_count": null,
      "outputs": [
        {
          "output_type": "stream",
          "text": [
            "\n",
            ">>> Fitur .keys()\n",
            "Keys:\n",
            " ['nama', 'nik', 'pekerjaan']\n"
          ],
          "name": "stdout"
        }
      ]
    },
    {
      "cell_type": "markdown",
      "metadata": {
        "id": "b-4Hgw4KxUAZ"
      },
      "source": [
        "## **Fitur .values()**"
      ]
    },
    {
      "cell_type": "code",
      "metadata": {
        "colab": {
          "base_uri": "https://localhost:8080/"
        },
        "id": "9gGest-HxTLi",
        "outputId": "eae1fd19-167b-480d-ab63-d37cdcc2c4c0"
      },
      "source": [
        "# Fitur .values()\n",
        "print(\"\\n>>> Fitur .values()\")\n",
        "info_karyawan = {\n",
        "                 'nama'      : 'Aksara',\n",
        "                 'nik'       : '1211011',\n",
        "                 'pekerjaan' : 'Data Analyst'\n",
        "                }\n",
        "value_dict = list(info_karyawan.values())\n",
        "print(\"Values:\\n\", value_dict)"
      ],
      "execution_count": null,
      "outputs": [
        {
          "output_type": "stream",
          "text": [
            "\n",
            ">>> Fitur .values()\n",
            "Values:\n",
            " ['Aksara', '1211011', 'Data Analyst']\n"
          ],
          "name": "stdout"
        }
      ]
    },
    {
      "cell_type": "markdown",
      "metadata": {
        "id": "zTH1hNc0xae3"
      },
      "source": [
        "## **Fitur .update()**"
      ]
    },
    {
      "cell_type": "code",
      "metadata": {
        "colab": {
          "base_uri": "https://localhost:8080/"
        },
        "id": "bbuTyKxIwwFt",
        "outputId": "b766b2ff-2f3c-46f1-fce7-9cbdeee35998"
      },
      "source": [
        "# Fitur .update()\n",
        "print(\"\\n>>> Fitur .update()\")\n",
        "info_karyawan = {\n",
        "                 'nama'      : 'Aksara',\n",
        "                 'nik'       : '1211011',\n",
        "                 'pekerjaan' : 'Data Analyst'\n",
        "                }\n",
        "info_karyawan.update({'skillset': ['Python', 'R']})\n",
        "print(\"Info Karyawan Update:\\n\", info_karyawan)"
      ],
      "execution_count": null,
      "outputs": [
        {
          "output_type": "stream",
          "text": [
            "\n",
            ">>> Fitur .update()\n",
            "Info Karyawan Update:\n",
            " {'nama': 'Aksara', 'nik': '1211011', 'pekerjaan': 'Data Analyst', 'skillset': ['Python', 'R']}\n"
          ],
          "name": "stdout"
        }
      ]
    },
    {
      "cell_type": "markdown",
      "metadata": {
        "id": "WpSOC5oCyf3q"
      },
      "source": [
        "## **Latihan Manipulasi Dictionary**"
      ]
    },
    {
      "cell_type": "code",
      "metadata": {
        "colab": {
          "base_uri": "https://localhost:8080/"
        },
        "id": "7M4RB3xSykhv",
        "outputId": "8d9c0081-94ee-4fb3-8849-b621ae778ce8"
      },
      "source": [
        "# Data keuangan\n",
        "keuangan = {\n",
        "'pengeluaran': [2, 2.5, 2.25, 2.5, 3.2, 2.5, 3.5, 4, 3],\n",
        "'pemasukan': [7.8, 7.5, 9, 7.6, 7.2, 7.5, 7, 10, 7.5]\n",
        "}\n",
        "# Perhitungan rata-rata pemasukan dan rata-rata pengeluaran\n",
        "total_pengeluaran = 0\n",
        "total_pemasukan = 0\n",
        "for biaya in keuangan['pengeluaran']:\n",
        "    total_pengeluaran += biaya\n",
        "for biaya in keuangan['pemasukan']: \n",
        "    total_pemasukan += biaya\n",
        "rata_rata_pengeluaran = total_pengeluaran/len(keuangan['pengeluaran']) \n",
        "rata_rata_pemasukan = total_pemasukan/len(keuangan['pemasukan'])\n",
        "print(\"Rata-Rata Pengeluaran = \", rata_rata_pengeluaran) \n",
        "print(\"Rata-Rata Pemasukan   = \", rata_rata_pemasukan)"
      ],
      "execution_count": null,
      "outputs": [
        {
          "output_type": "stream",
          "text": [
            "Rata-Rata Pengeluaran =  2.8277777777777775\n",
            "Rata-Rata Pemasukan   =  7.8999999999999995\n"
          ],
          "name": "stdout"
        }
      ]
    },
    {
      "cell_type": "markdown",
      "metadata": {
        "id": "YH5izA8tyzwF"
      },
      "source": [
        "# **Operator Identitas**"
      ]
    },
    {
      "cell_type": "code",
      "metadata": {
        "colab": {
          "base_uri": "https://localhost:8080/"
        },
        "id": "yH_JIPfJy2qW",
        "outputId": "145087c4-a16f-413f-a80d-673e75d85ec4"
      },
      "source": [
        "x = 10\n",
        "\n",
        "print(\"x = \", x, type(x))\n",
        "print(\"Apakah tipe data x adalah integer? \", type(x) is int)\n",
        "print(\"Apakah tipe data x adalah bukan integer? \", type(x) is not int)"
      ],
      "execution_count": null,
      "outputs": [
        {
          "output_type": "stream",
          "text": [
            "x =  10 <class 'int'>\n",
            "Apakah tipe data x adalah integer?  True\n",
            "Apakah tipe data x adalah bukan integer?  False\n"
          ],
          "name": "stdout"
        }
      ]
    },
    {
      "cell_type": "code",
      "metadata": {
        "colab": {
          "base_uri": "https://localhost:8080/"
        },
        "id": "hTmA9pp_zBaz",
        "outputId": "6c5c11bd-a1ba-4383-8212-e53046fa5a4a"
      },
      "source": [
        "Harga_Barang = 150000; Pajak = 0.1; Diskon = 0.3\n",
        "\n",
        "#Cara 1\n",
        "Harga_Bayar = 1 - Diskon\n",
        "Harga_Bayar *= Harga_Barang\n",
        "Harga_Bayar_Pajak = Harga_Bayar * Pajak\n",
        "Harga_Bayar += Harga_Bayar_Pajak\n",
        "print(\"Total Harga yang harus dibayar adalah Rp\", Harga_Bayar)"
      ],
      "execution_count": null,
      "outputs": [
        {
          "output_type": "stream",
          "text": [
            "Total Harga yang harus dibayar adalah Rp 115500.0\n"
          ],
          "name": "stdout"
        }
      ]
    },
    {
      "cell_type": "code",
      "metadata": {
        "colab": {
          "base_uri": "https://localhost:8080/"
        },
        "id": "Fkc1p9lpzF3R",
        "outputId": "37741f21-a607-4676-bde9-136aa89148a7"
      },
      "source": [
        "Harga_Barang = 150000; Pajak = 0.1; Diskon = 0.3\n",
        "\n",
        "#Cara 2 Alternatif\n",
        "Harga_Bayar = (1 - Diskon) * Harga_Barang\n",
        "Harga_Bayar += (Harga_Bayar * Pajak)\n",
        "print(\"Total Harga yang harus dibayar adalah Rp\", Harga_Bayar)"
      ],
      "execution_count": null,
      "outputs": [
        {
          "output_type": "stream",
          "text": [
            "Total Harga yang harus dibayar adalah Rp 115500.0\n"
          ],
          "name": "stdout"
        }
      ]
    },
    {
      "cell_type": "code",
      "metadata": {
        "colab": {
          "base_uri": "https://localhost:8080/"
        },
        "id": "2mdd74bYzUJS",
        "outputId": "1d2ae67d-6cd2-4061-ce6e-551a6b741db2"
      },
      "source": [
        "bilangan = (5 % 3 ** 2) + (3 + 2 * 2) * (4 - 2)\n",
        "print(\"Hasil nilai bilangan = \", bilangan)"
      ],
      "execution_count": null,
      "outputs": [
        {
          "output_type": "stream",
          "text": [
            "Hasil nilai bilangan =  19\n"
          ],
          "name": "stdout"
        }
      ]
    },
    {
      "cell_type": "markdown",
      "metadata": {
        "id": "4AAcA_XGzzeR"
      },
      "source": [
        "# **Conditioning**"
      ]
    },
    {
      "cell_type": "code",
      "metadata": {
        "colab": {
          "base_uri": "https://localhost:8080/"
        },
        "id": "z_O-xqyNz3fb",
        "outputId": "be45ca33-06e3-44a9-dfe5-6471be75564d"
      },
      "source": [
        "x = 4\n",
        "if x % 2 == 0: #jika sisa bagi x dengan 2 maka sama dengan 0\n",
        "    print(\"x % 2 = \", x % 2)\n",
        "    print(\"x habis dibagi 2\")"
      ],
      "execution_count": null,
      "outputs": [
        {
          "output_type": "stream",
          "text": [
            "x % 2 =  0\n",
            "x habis dibagi 2\n"
          ],
          "name": "stdout"
        }
      ]
    },
    {
      "cell_type": "code",
      "metadata": {
        "colab": {
          "base_uri": "https://localhost:8080/"
        },
        "id": "FsAbYsng0BDW",
        "outputId": "6f1daf46-f29d-45ab-99d2-1b3f99114b57"
      },
      "source": [
        "x = 7\n",
        "if x % 2 == 0: #jika sisa dibagi 2 maka nilai x sama dengan 0\n",
        "    print(\"x habis dibagi 2\")\n",
        "elif x % 3 == 0: #jika sisa dibagi 3 maka nilai x sama dengan 0\n",
        "    print(\"x habis dibagi 3\")\n",
        "elif x % 5 == 0: #jika sisa dibagi 5 maka nilai x sama dengan 0\n",
        "    print(\"x habis dibagi 5\")\n",
        "else:\n",
        "    print(\"x tidak habis dibagi 2, 3 dan 5\")"
      ],
      "execution_count": null,
      "outputs": [
        {
          "output_type": "stream",
          "text": [
            "x tidak habis dibagi 2, 3 dan 5\n"
          ],
          "name": "stdout"
        }
      ]
    },
    {
      "cell_type": "code",
      "metadata": {
        "colab": {
          "base_uri": "https://localhost:8080/"
        },
        "id": "tBKszklE01IR",
        "outputId": "2262b20d-d17b-4c68-af5d-9f4665812caf"
      },
      "source": [
        "IPK1 = 3.5\n",
        "\n",
        "if IPK1 >= 3.0:\n",
        "    print(\"IPK anda: \", IPK1, \"(Lulus)\") #Kalo nilai1 sesuai syarat if, maka dia akan mencetak\n",
        "    if IPK1 >= 3.5:\n",
        "        print(\"Anda Dinyatakan CumLaude\")"
      ],
      "execution_count": null,
      "outputs": [
        {
          "output_type": "stream",
          "text": [
            "IPK anda:  3.5 (Lulus)\n",
            "Anda Dinyatakan CumLaude\n"
          ],
          "name": "stdout"
        }
      ]
    },
    {
      "cell_type": "code",
      "metadata": {
        "id": "k9NBAVRt06D-"
      },
      "source": [
        "#Bisa juga pake is atau ==\n",
        "if IPK1 is 3.5: #equal\n",
        "    print(\"Nilai anda: \", IPK1)"
      ],
      "execution_count": null,
      "outputs": []
    },
    {
      "cell_type": "code",
      "metadata": {
        "colab": {
          "base_uri": "https://localhost:8080/"
        },
        "id": "h1esokbd1Anc",
        "outputId": "e2c4664e-8bca-4a00-8266-8ed75ca7a493"
      },
      "source": [
        "#Pake is not untuk menyatakan bukan\n",
        "Budi = \"Laki-Laki\"\n",
        "if Budi is not \"Perempuan\": #not equal\n",
        "    print(\"Budi adalah Laki-Laki\")"
      ],
      "execution_count": null,
      "outputs": [
        {
          "output_type": "stream",
          "text": [
            "Budi adalah Laki-Laki\n"
          ],
          "name": "stdout"
        }
      ]
    },
    {
      "cell_type": "code",
      "metadata": {
        "colab": {
          "base_uri": "https://localhost:8080/"
        },
        "id": "lG5fVU6i1KYG",
        "outputId": "6993f6ea-8d1e-4667-fcd9-da8fa2521d63"
      },
      "source": [
        "#IF elif else\n",
        "nilai = 34\n",
        "\n",
        "if nilai >= 85:\n",
        "    print(\"Nilai anda A\")\n",
        "elif 70 <= nilai < 85:\n",
        "    print(\"Nilai anda B\")\n",
        "elif 65 <= nilai < 70:\n",
        "    print(\"Nilai anda C\")\n",
        "elif 50 <= nilai < 65:\n",
        "    print(\"Nilai anda T, Silahkan melakukan perbaikan\")\n",
        "else:\n",
        "    print(\"Maaf, anda tidak lulus mata kuliah ini\")"
      ],
      "execution_count": null,
      "outputs": [
        {
          "output_type": "stream",
          "text": [
            "Maaf, anda tidak lulus mata kuliah ini\n"
          ],
          "name": "stdout"
        }
      ]
    },
    {
      "cell_type": "code",
      "metadata": {
        "colab": {
          "base_uri": "https://localhost:8080/"
        },
        "id": "6c-Xtr7j0Wdh",
        "outputId": "4c314ea3-3318-4c5a-85bb-8e2df17c584a"
      },
      "source": [
        "#Cara mengecek nilai dalam list ada apa engga dengan if\n",
        "print(\" \")\n",
        "Peserta_Lolos = [\"Dewi\", \"Diko\", \"Ilham\", \"Aldi\", \"Fira\"]\n",
        "Nama = \"Agiel\"\n",
        "\n",
        "if Nama in Peserta_Lolos:\n",
        "    print(Nama, \"dinyatakan lulus\")\n",
        "else:\n",
        "    print(Nama, \"dinyatakan tidak lulus\")"
      ],
      "execution_count": null,
      "outputs": [
        {
          "output_type": "stream",
          "text": [
            " \n",
            "Agiel dinyatakan tidak lulus\n"
          ],
          "name": "stdout"
        }
      ]
    },
    {
      "cell_type": "markdown",
      "metadata": {
        "id": "KEMcHENJ0bYv"
      },
      "source": [
        "## **Latihan Conditioning**"
      ]
    },
    {
      "cell_type": "code",
      "metadata": {
        "colab": {
          "base_uri": "https://localhost:8080/"
        },
        "id": "cYNHo8X5zvH4",
        "outputId": "6c589484-5cec-45ee-a87b-81bf42a4ad35"
      },
      "source": [
        "jam = 13\n",
        "if jam >= 5 and jam < 12: # selama jam di antara 5 s.d. 12\n",
        "    print(\"Selamat pagi!\")\n",
        "elif jam >= 12 and jam < 17: # selama jam di antara 12 s.d. 17\n",
        "    print(\"Selamat siang!\")\n",
        "elif jam >= 17 and jam < 19: # selama jam di antara 17 s.d. 19\n",
        "    print(\"Selamat sore!\")\n",
        "else: # selain kondisi di atas\n",
        "    print(\"Selamat malam!\")\n",
        "\n",
        "Tagihan_Ke      = 'Mr. Yoyo'\n",
        "Warehousing     = {'Harga_per_hari' : 1000000, 'Total_hari' : 15}\n",
        "Cleansing       = {'Harga_per_hari' : 1500000, 'Total_hari' : 10}\n",
        "Integration     = {'Harga_per_hari' : 2000000, 'Total_hari' : 15}\n",
        "Transformation  = {'Harga_per_hari' : 2500000, 'Total_hari' : 10}\n",
        "#Perhitungan sub Total\n",
        "sub_Warehousing    = Warehousing['Harga_per_hari'] * Warehousing['Total_hari']\n",
        "sub_Cleansing      = Cleansing['Harga_per_hari'] * Cleansing['Total_hari']\n",
        "sub_Integration    = Integration['Harga_per_hari'] * Integration['Total_hari']\n",
        "sub_Transformation = Transformation['Harga_per_hari'] * Transformation['Total_hari']\n",
        "#Perhitungan Total Tagihan\n",
        "Total_Tagihan = sub_Warehousing + sub_Cleansing + sub_Integration + sub_Transformation\n",
        "print(\"Kepada, \", Tagihan_Ke)\n",
        "\n",
        "Jam = 17\n",
        "if jam > 19:\n",
        "    print(\"Selamat malam, anda harus membayar tagihan sebesar: Rp\", Total_Tagihan)\n",
        "elif jam > 17:\n",
        "    print(\"Selamat sore, anda harus membayar tagihan sebesar: Rp\", Total_Tagihan)\n",
        "elif jam > 12:\n",
        "    print(\"Selamat siang, anda harus membayar tagihan sebesar: Rp\", Total_Tagihan)\n",
        "else:\n",
        "    print(\"Selamat pagi, anda harus membayar tagihan sebesar: Rp\", Total_Tagihan)"
      ],
      "execution_count": null,
      "outputs": [
        {
          "output_type": "stream",
          "text": [
            "Selamat siang!\n",
            "Kepada,  Mr. Yoyo\n",
            "Selamat siang, anda harus membayar tagihan sebesar: Rp 85000000\n"
          ],
          "name": "stdout"
        }
      ]
    },
    {
      "cell_type": "markdown",
      "metadata": {
        "id": "V1eMaY6Z3Qe1"
      },
      "source": [
        "# **Looping**"
      ]
    },
    {
      "cell_type": "markdown",
      "metadata": {
        "id": "P1wzhfIZ3TWO"
      },
      "source": [
        "Jika tidak menggunakan looping dalam pemrograman Python, maka akan kerepotan dalam menuliskan kode karena tidak otomatis dilakukan."
      ]
    },
    {
      "cell_type": "code",
      "metadata": {
        "colab": {
          "base_uri": "https://localhost:8080/"
        },
        "id": "IzRYP__J3nIF",
        "outputId": "d6fb85ae-046c-409c-efa1-c8015ed1a271"
      },
      "source": [
        "# Tagihan\n",
        "tagihan = [50000, 75000, 125000, 300000, 200000]\n",
        "\n",
        "## Tidak menggunakan looping\n",
        "total_tagihan = tagihan[0] + tagihan[1] + tagihan[2] + tagihan[3] + tagihan[4]\n",
        "print(\"Total Tagihan Pak Budi adalah Rp\", total_tagihan)"
      ],
      "execution_count": null,
      "outputs": [
        {
          "output_type": "stream",
          "text": [
            "Total Tagihan Pak Budi adalah Rp 750000\n"
          ],
          "name": "stdout"
        }
      ]
    },
    {
      "cell_type": "markdown",
      "metadata": {
        "id": "eKeUmHas3vVY"
      },
      "source": [
        "## **For Loop**"
      ]
    },
    {
      "cell_type": "code",
      "metadata": {
        "colab": {
          "base_uri": "https://localhost:8080/"
        },
        "id": "P6-2CudH30EL",
        "outputId": "f060296e-1988-4a2c-9d90-d2aabd4fcf8c"
      },
      "source": [
        "# menggunakan for_loop\n",
        "list_tagihan = [50000, 75000, 125000, 300000, 200000]\n",
        "for tagihan in list_tagihan:\n",
        "    print(tagihan)"
      ],
      "execution_count": null,
      "outputs": [
        {
          "output_type": "stream",
          "text": [
            "50000\n",
            "75000\n",
            "125000\n",
            "300000\n",
            "200000\n"
          ],
          "name": "stdout"
        }
      ]
    },
    {
      "cell_type": "markdown",
      "metadata": {
        "id": "T_G1ZWQ64njp"
      },
      "source": [
        "### **List Sebagai Iterable**"
      ]
    },
    {
      "cell_type": "code",
      "metadata": {
        "colab": {
          "base_uri": "https://localhost:8080/"
        },
        "id": "_tr5NaZA4tD-",
        "outputId": "d0316a06-94d2-4178-9f56-e7075eb637f0"
      },
      "source": [
        "# list sebagai iterable\n",
        "gorengan = ['bakwan', 'cireng', 'tahu isi', 'tahu goreng', 'pisang goreng', 'tempe goreng', 'ubi goreng', 'risol']\n",
        "for g in gorengan:\n",
        "    print('\\n', g)\n",
        "    print('panjang kata = ', len(g)) #masing-masing konten list bakal diukur berapa jumlah katanya"
      ],
      "execution_count": null,
      "outputs": [
        {
          "output_type": "stream",
          "text": [
            "\n",
            " bakwan\n",
            "panjang kata =  6\n",
            "\n",
            " cireng\n",
            "panjang kata =  6\n",
            "\n",
            " tahu isi\n",
            "panjang kata =  8\n",
            "\n",
            " tahu goreng\n",
            "panjang kata =  11\n",
            "\n",
            " pisang goreng\n",
            "panjang kata =  13\n",
            "\n",
            " tempe goreng\n",
            "panjang kata =  12\n",
            "\n",
            " ubi goreng\n",
            "panjang kata =  10\n",
            "\n",
            " risol\n",
            "panjang kata =  5\n"
          ],
          "name": "stdout"
        }
      ]
    },
    {
      "cell_type": "markdown",
      "metadata": {
        "id": "Krpcb84D43qd"
      },
      "source": [
        "### **String Sebagai Iterable**"
      ]
    },
    {
      "cell_type": "code",
      "metadata": {
        "colab": {
          "base_uri": "https://localhost:8080/"
        },
        "id": "Rfy0dE7g42xG",
        "outputId": "d5276871-9165-422c-dc65-683927e296f8"
      },
      "source": [
        "# string sebagai iterable\n",
        "gorengan = 'bakwan'\n",
        "for g in gorengan:\n",
        "    print(g)\n",
        "print('panjang kata = ', len(gorengan))"
      ],
      "execution_count": null,
      "outputs": [
        {
          "output_type": "stream",
          "text": [
            "b\n",
            "a\n",
            "k\n",
            "w\n",
            "a\n",
            "n\n",
            "panjang kata =  6\n"
          ],
          "name": "stdout"
        }
      ]
    },
    {
      "cell_type": "markdown",
      "metadata": {
        "id": "czFHec5e5Gnr"
      },
      "source": [
        "### **Nested Loop**"
      ]
    },
    {
      "cell_type": "code",
      "metadata": {
        "colab": {
          "base_uri": "https://localhost:8080/"
        },
        "id": "3I2Gig3y5KSh",
        "outputId": "0afe70fb-234e-446f-9da8-e635c726d072"
      },
      "source": [
        "# for di dalam for\n",
        "gorengan       = ['bakwan', 'cireng', 'tahu isi', 'tahu goreng', 'pisang goreng', 'tempe goreng', 'ubi goreng', 'risol']\n",
        "buah           = ['semangka', 'jeruk', 'apel', 'anggur', 'durian']\n",
        "sayuran        = ['kangkung', 'bayam', 'wortel', 'tomat', 'kentang']\n",
        "\n",
        "daftar_belanja = [gorengan, buah, sayuran]\n",
        "print(\"Daftar Belanja:\", daftar_belanja)\n",
        "\n",
        "for subdaftarbelanja in daftar_belanja:\n",
        "    print('\\n', subdaftarbelanja)\n",
        "    for komponen in subdaftarbelanja:\n",
        "        print(\"- \", komponen)"
      ],
      "execution_count": null,
      "outputs": [
        {
          "output_type": "stream",
          "text": [
            "Daftar Belanja: [['bakwan', 'cireng', 'tahu isi', 'tahu goreng', 'pisang goreng', 'tempe goreng', 'ubi goreng', 'risol'], ['semangka', 'jeruk', 'apel', 'anggur', 'durian'], ['kangkung', 'bayam', 'wortel', 'tomat', 'kentang']]\n",
            "\n",
            " ['bakwan', 'cireng', 'tahu isi', 'tahu goreng', 'pisang goreng', 'tempe goreng', 'ubi goreng', 'risol']\n",
            "-  bakwan\n",
            "-  cireng\n",
            "-  tahu isi\n",
            "-  tahu goreng\n",
            "-  pisang goreng\n",
            "-  tempe goreng\n",
            "-  ubi goreng\n",
            "-  risol\n",
            "\n",
            " ['semangka', 'jeruk', 'apel', 'anggur', 'durian']\n",
            "-  semangka\n",
            "-  jeruk\n",
            "-  apel\n",
            "-  anggur\n",
            "-  durian\n",
            "\n",
            " ['kangkung', 'bayam', 'wortel', 'tomat', 'kentang']\n",
            "-  kangkung\n",
            "-  bayam\n",
            "-  wortel\n",
            "-  tomat\n",
            "-  kentang\n"
          ],
          "name": "stdout"
        }
      ]
    },
    {
      "cell_type": "code",
      "metadata": {
        "colab": {
          "base_uri": "https://localhost:8080/"
        },
        "id": "DaJrqF_tosIx",
        "outputId": "db649388-272c-406a-ac50-0954e861b3c6"
      },
      "source": [
        "#Nested Loops\n",
        "list_daerah = ['Malang', 'Palembang', 'Medan']\n",
        "list_buah = ['Apel', 'Duku', 'Jeruk']\n",
        "for nama_daerah in list_daerah:\n",
        "    for nama_buah in list_buah:\n",
        "        print(nama_buah + \" \" + nama_daerah)"
      ],
      "execution_count": null,
      "outputs": [
        {
          "output_type": "stream",
          "text": [
            "Apel Malang\n",
            "Duku Malang\n",
            "Jeruk Malang\n",
            "Apel Palembang\n",
            "Duku Palembang\n",
            "Jeruk Palembang\n",
            "Apel Medan\n",
            "Duku Medan\n",
            "Jeruk Medan\n"
          ],
          "name": "stdout"
        }
      ]
    },
    {
      "cell_type": "markdown",
      "metadata": {
        "id": "2-fXU-pE6WV7"
      },
      "source": [
        "### **Range**"
      ]
    },
    {
      "cell_type": "code",
      "metadata": {
        "colab": {
          "base_uri": "https://localhost:8080/"
        },
        "id": "2DQvMcwo6bhh",
        "outputId": "8ea284e1-79f3-4609-9267-f013db3e6e7b"
      },
      "source": [
        "for i in range(1,11):\n",
        "    print(i)"
      ],
      "execution_count": null,
      "outputs": [
        {
          "output_type": "stream",
          "text": [
            "1\n",
            "2\n",
            "3\n",
            "4\n",
            "5\n",
            "6\n",
            "7\n",
            "8\n",
            "9\n",
            "10\n"
          ],
          "name": "stdout"
        }
      ]
    },
    {
      "cell_type": "code",
      "metadata": {
        "colab": {
          "base_uri": "https://localhost:8080/"
        },
        "id": "ZSAw5Ow66mPu",
        "outputId": "d8ddc06c-b8d9-4365-b6cc-8fb2224a1773"
      },
      "source": [
        "for i in range(5,55,5):\n",
        "    print(i)"
      ],
      "execution_count": null,
      "outputs": [
        {
          "output_type": "stream",
          "text": [
            "5\n",
            "10\n",
            "15\n",
            "20\n",
            "25\n",
            "30\n",
            "35\n",
            "40\n",
            "45\n",
            "50\n"
          ],
          "name": "stdout"
        }
      ]
    },
    {
      "cell_type": "markdown",
      "metadata": {
        "id": "ucepZaxx6wBh"
      },
      "source": [
        "### **Break**"
      ]
    },
    {
      "cell_type": "markdown",
      "metadata": {
        "id": "fsZjIJbf65_3"
      },
      "source": [
        "Misal ingin mencari angka 25, jika menyentuh 25, maka kita ingin ada pemberitahuan kalau angka 25 sudah ditemukan"
      ]
    },
    {
      "cell_type": "code",
      "metadata": {
        "colab": {
          "base_uri": "https://localhost:8080/"
        },
        "id": "5oWs1hRE7GcO",
        "outputId": "f1c059a4-1a22-4410-f74c-f171ee3178c4"
      },
      "source": [
        "for i in range (1,41):\n",
        "    print(i)\n",
        "    if i is 25: #nandain kalo angka yg dicari ketemu\n",
        "        print(i, \"==> angka ditemukan\")"
      ],
      "execution_count": null,
      "outputs": [
        {
          "output_type": "stream",
          "text": [
            "1\n",
            "2\n",
            "3\n",
            "4\n",
            "5\n",
            "6\n",
            "7\n",
            "8\n",
            "9\n",
            "10\n",
            "11\n",
            "12\n",
            "13\n",
            "14\n",
            "15\n",
            "16\n",
            "17\n",
            "18\n",
            "19\n",
            "20\n",
            "21\n",
            "22\n",
            "23\n",
            "24\n",
            "25\n",
            "25 ==> angka ditemukan\n",
            "26\n",
            "27\n",
            "28\n",
            "29\n",
            "30\n",
            "31\n",
            "32\n",
            "33\n",
            "34\n",
            "35\n",
            "36\n",
            "37\n",
            "38\n",
            "39\n",
            "40\n"
          ],
          "name": "stdout"
        }
      ]
    },
    {
      "cell_type": "markdown",
      "metadata": {
        "id": "7QO6C1yk7QkE"
      },
      "source": [
        "Namun, bagaimana jika kita inginnya ketika sudah mencapai angka 25 dan pemberitahuan angka ditemukan muncul, proses looping dihentikan. Maka kita bisa menggunakan `Break`"
      ]
    },
    {
      "cell_type": "code",
      "metadata": {
        "colab": {
          "base_uri": "https://localhost:8080/"
        },
        "id": "E325hqwd7kkj",
        "outputId": "30adb573-f509-439c-8fea-1d00c3abb8bd"
      },
      "source": [
        "for i in range (1,41):\n",
        "    print(i)\n",
        "    if i is 25: #nandain kalo angka yg dicari ketemu\n",
        "        print(i, \"==> angka ditemukan\")\n",
        "        break #beda sama yg sebelumnya, kalo angkanya dah ketemu. gak lanjut looping lagi"
      ],
      "execution_count": null,
      "outputs": [
        {
          "output_type": "stream",
          "text": [
            "1\n",
            "2\n",
            "3\n",
            "4\n",
            "5\n",
            "6\n",
            "7\n",
            "8\n",
            "9\n",
            "10\n",
            "11\n",
            "12\n",
            "13\n",
            "14\n",
            "15\n",
            "16\n",
            "17\n",
            "18\n",
            "19\n",
            "20\n",
            "21\n",
            "22\n",
            "23\n",
            "24\n",
            "25\n",
            "25 ==> angka ditemukan\n"
          ],
          "name": "stdout"
        }
      ]
    },
    {
      "cell_type": "code",
      "metadata": {
        "colab": {
          "base_uri": "https://localhost:8080/"
        },
        "id": "ZwMlWPIPoans",
        "outputId": "2e861d21-eb5e-475d-8dac-6831743e9e05"
      },
      "source": [
        "#Break\n",
        "list_tagihan = [50000, 75000, -150000, 125000, 300000, -50000, 200000]\n",
        "total_tagihan = 0\n",
        "for tagihan in list_tagihan:\n",
        "    if tagihan < 0:\n",
        "        print(\"terdapat angka minus dalam tagihan, perhitungan dihentikan!\")\n",
        "        break\n",
        "    total_tagihan += tagihan\n",
        "print(\"Total Tagihan anda adalah \", total_tagihan)"
      ],
      "execution_count": null,
      "outputs": [
        {
          "output_type": "stream",
          "text": [
            "terdapat angka minus dalam tagihan, perhitungan dihentikan!\n",
            "Total Tagihan anda adalah  125000\n"
          ],
          "name": "stdout"
        }
      ]
    },
    {
      "cell_type": "markdown",
      "metadata": {
        "id": "Wu4IlAUL7yli"
      },
      "source": [
        "### **Else**"
      ]
    },
    {
      "cell_type": "markdown",
      "metadata": {
        "id": "kdUy9U9U71om"
      },
      "source": [
        "Memakai contoh kasus sebelumnya, bagaimana jika kita inginnya proses loopingnya beres dulu baru dikasih keterangan kalo nilainya berhasil ditemukan. Kita bisa menambahkan `else` yang sejajar dengan `for` dalam identasinya"
      ]
    },
    {
      "cell_type": "code",
      "metadata": {
        "colab": {
          "base_uri": "https://localhost:8080/"
        },
        "id": "O5iLF2uy8Nc8",
        "outputId": "96f1f88f-569c-43ec-ef94-a2f4132e2bb7"
      },
      "source": [
        "for i in range (1,23):\n",
        "    print(i)\n",
        "    if i is 25:\n",
        "        print(i, \"==> angka ditemukan\")\n",
        "        break\n",
        "else: #ditaro sejajar dengan for biar klo kita pengen loopingnya beres dulu baru kasih keterangan kalo nilainya gak ketemu\n",
        "    print(\"angka tidak ditemukan\")"
      ],
      "execution_count": null,
      "outputs": [
        {
          "output_type": "stream",
          "text": [
            "1\n",
            "2\n",
            "3\n",
            "4\n",
            "5\n",
            "6\n",
            "7\n",
            "8\n",
            "9\n",
            "10\n",
            "11\n",
            "12\n",
            "13\n",
            "14\n",
            "15\n",
            "16\n",
            "17\n",
            "18\n",
            "19\n",
            "20\n",
            "21\n",
            "22\n",
            "angka tidak ditemukan\n"
          ],
          "name": "stdout"
        }
      ]
    },
    {
      "cell_type": "markdown",
      "metadata": {
        "id": "iEQAYE6_8wq0"
      },
      "source": [
        "### **Continue**"
      ]
    },
    {
      "cell_type": "markdown",
      "metadata": {
        "id": "3uOxbyq39HbC"
      },
      "source": [
        "Berbeda dengan Break, ketika angka berhasil ditemukan. Proses looping akan terus dilakukan hingga selesai"
      ]
    },
    {
      "cell_type": "code",
      "metadata": {
        "colab": {
          "base_uri": "https://localhost:8080/"
        },
        "id": "MgnYSEKP8znT",
        "outputId": "5b5772be-7ff7-4161-bfa6-a7ff02b4bc25"
      },
      "source": [
        "for i in range(1, 11):\n",
        "    print(\"nilai saat ini adalah \", i)\n",
        "    if i is 7:\n",
        "        print(\"nilainya adalah \", i)\n",
        "        continue #continue itu lebih ke naikin keatas loop setelah angkanya ketemu/melanjutkan looping\n",
        "        print(\"cekk woyy\") #bahkan perintah ini dilewat setelah continue\n",
        "else:\n",
        "    print('akhir dari loop')\n",
        "\n",
        "print('print diluar loop')"
      ],
      "execution_count": null,
      "outputs": [
        {
          "output_type": "stream",
          "text": [
            "nilai saat ini adalah  1\n",
            "nilai saat ini adalah  2\n",
            "nilai saat ini adalah  3\n",
            "nilai saat ini adalah  4\n",
            "nilai saat ini adalah  5\n",
            "nilai saat ini adalah  6\n",
            "nilai saat ini adalah  7\n",
            "nilainya adalah  7\n",
            "nilai saat ini adalah  8\n",
            "nilai saat ini adalah  9\n",
            "nilai saat ini adalah  10\n",
            "akhir dari loop\n",
            "print diluar loop\n"
          ],
          "name": "stdout"
        }
      ]
    },
    {
      "cell_type": "markdown",
      "metadata": {
        "id": "_te8E2Ac9Z9r"
      },
      "source": [
        "### **Pass**"
      ]
    },
    {
      "cell_type": "markdown",
      "metadata": {
        "id": "C3ih8EiM9dWc"
      },
      "source": [
        "`Pass` tidak memiliki fungsi apapun kecuali hanya sekedar sebagai kata kunci kosong untuk mengkonstruksi loop supaya dapat berjalan."
      ]
    },
    {
      "cell_type": "code",
      "metadata": {
        "colab": {
          "base_uri": "https://localhost:8080/"
        },
        "id": "pbSToZt-9TAS",
        "outputId": "9dcaeace-9da5-43e1-d7cf-03c5815f2421"
      },
      "source": [
        "## PASS\n",
        "for i in range(1, 11):\n",
        "    print(\"nilai saat ini adalah \", i)\n",
        "    if i is 7:\n",
        "        print(\"nilainya adalah \", i)\n",
        "        pass #tidak memiliki fungsi apapun. fungsinya cuman sebagai kata kunci kosong untuk mengkonstruksi loop\n",
        "        print(\"cekk woyy\")\n",
        "else:\n",
        "    print('akhir dari loop')\n",
        "\n",
        "print('print diluar loop')"
      ],
      "execution_count": null,
      "outputs": [
        {
          "output_type": "stream",
          "text": [
            "nilai saat ini adalah  1\n",
            "nilai saat ini adalah  2\n",
            "nilai saat ini adalah  3\n",
            "nilai saat ini adalah  4\n",
            "nilai saat ini adalah  5\n",
            "nilai saat ini adalah  6\n",
            "nilai saat ini adalah  7\n",
            "nilainya adalah  7\n",
            "cekk woyy\n",
            "nilai saat ini adalah  8\n",
            "nilai saat ini adalah  9\n",
            "nilai saat ini adalah  10\n",
            "akhir dari loop\n",
            "print diluar loop\n"
          ],
          "name": "stdout"
        }
      ]
    },
    {
      "cell_type": "markdown",
      "metadata": {
        "id": "jLpcArBU4H1z"
      },
      "source": [
        "## **Teknik Looping**"
      ]
    },
    {
      "cell_type": "code",
      "metadata": {
        "colab": {
          "base_uri": "https://localhost:8080/"
        },
        "id": "bFItZYAF-OG7",
        "outputId": "a88b812e-6196-47c5-cf3c-aa5cf01a2d0f"
      },
      "source": [
        "# teknik looping\n",
        "namaband      = [\n",
        "                 'payung teduh', \n",
        "                 'fourtwnty',\n",
        "                 'Dialog dini hari',\n",
        "                 'Mr. Sanjaya',\n",
        "                 'Parahyena'\n",
        "                ]\n",
        "\n",
        "kumpulan_lagu = [\n",
        "                 'Akad',\n",
        "                 'Zona Nyaman',\n",
        "                 'Rumah Kuning',\n",
        "                 'Sang Filsuf',\n",
        "                 'Sindoro'\n",
        "                ]\n",
        "\n",
        "iterasi = 0\n",
        "for band in namaband:\n",
        "    print('no.', iterasi,'.', band)\n",
        "    iterasi += 1 "
      ],
      "execution_count": null,
      "outputs": [
        {
          "output_type": "stream",
          "text": [
            "no. 0 . payung teduh\n",
            "no. 1 . fourtwnty\n",
            "no. 2 . Dialog dini hari\n",
            "no. 3 . Mr. Sanjaya\n",
            "no. 4 . Parahyena\n"
          ],
          "name": "stdout"
        }
      ]
    },
    {
      "cell_type": "markdown",
      "metadata": {
        "id": "hkPTGagM-PeT"
      },
      "source": [
        "Tapi sangat tidak berguna dengan cara diatas, karena klo kita punya banyak looping terus mau ambil nomornya masa bikin lagi terus\n"
      ]
    },
    {
      "cell_type": "markdown",
      "metadata": {
        "id": "ZBQ1xXSZ-hAy"
      },
      "source": [
        "### **Cara Alternatif: Menggunakan Enumerate**"
      ]
    },
    {
      "cell_type": "code",
      "metadata": {
        "colab": {
          "base_uri": "https://localhost:8080/"
        },
        "id": "CVwB7JCD-tlF",
        "outputId": "1c4de18a-f772-41b9-d9b5-59f0e1a0eebf"
      },
      "source": [
        "#alternatif: enumerate\n",
        "for i, band in enumerate(namaband):\n",
        "    print ('no.', i, '.', band) #enumerate akan mereturn dua nilai, indeksnya dan nilainya"
      ],
      "execution_count": null,
      "outputs": [
        {
          "output_type": "stream",
          "text": [
            "no. 0 . payung teduh\n",
            "no. 1 . fourtwnty\n",
            "no. 2 . Dialog dini hari\n",
            "no. 3 . Mr. Sanjaya\n",
            "no. 4 . Parahyena\n"
          ],
          "name": "stdout"
        }
      ]
    },
    {
      "cell_type": "markdown",
      "metadata": {
        "id": "oHS-Q0aT_PKe"
      },
      "source": [
        "### **ZIP**"
      ]
    },
    {
      "cell_type": "markdown",
      "metadata": {
        "id": "u0AWjNoT_Xn_"
      },
      "source": [
        "Dua list itu dipasang2in, korespondensinya satu2 dan harus linear, kalo beda jumlah datanya, yg gak berpasangan gak bakal ditampilin"
      ]
    },
    {
      "cell_type": "code",
      "metadata": {
        "colab": {
          "base_uri": "https://localhost:8080/"
        },
        "id": "97x4PXgi_GgH",
        "outputId": "12c0eaa3-72f7-4c1f-c3c5-5a5777bb76f7"
      },
      "source": [
        "# zip\n",
        "for band, lagu in zip(namaband, kumpulan_lagu): #\n",
        "    print(band, 'akan menyanyikan lagu yang berjudul', lagu) "
      ],
      "execution_count": null,
      "outputs": [
        {
          "output_type": "stream",
          "text": [
            "payung teduh akan menyanyikan lagu yang berjudul Akad\n",
            "fourtwnty akan menyanyikan lagu yang berjudul Zona Nyaman\n",
            "Dialog dini hari akan menyanyikan lagu yang berjudul Rumah Kuning\n",
            "Mr. Sanjaya akan menyanyikan lagu yang berjudul Sang Filsuf\n",
            "Parahyena akan menyanyikan lagu yang berjudul Sindoro\n"
          ],
          "name": "stdout"
        }
      ]
    },
    {
      "cell_type": "markdown",
      "metadata": {
        "id": "t2Hep47N_n2Y"
      },
      "source": [
        "### **Set**"
      ]
    },
    {
      "cell_type": "code",
      "metadata": {
        "colab": {
          "base_uri": "https://localhost:8080/"
        },
        "id": "9C1VvgTE_sfJ",
        "outputId": "8cd74038-8be4-4906-c8ba-d7b7f6911181"
      },
      "source": [
        "# set\n",
        "playlist = {\n",
        "            'baby-baby', \n",
        "            'ada apa dengan cinta', \n",
        "            'cenat-cenut', \n",
        "            'jaran goyang'\n",
        "           }\n",
        "\n",
        "for lagu in sorted(playlist):\n",
        "    print(lagu)"
      ],
      "execution_count": null,
      "outputs": [
        {
          "output_type": "stream",
          "text": [
            "ada apa dengan cinta\n",
            "baby-baby\n",
            "cenat-cenut\n",
            "jaran goyang\n"
          ],
          "name": "stdout"
        }
      ]
    },
    {
      "cell_type": "markdown",
      "metadata": {
        "id": "F-UeGAeK_4GF"
      },
      "source": [
        "### **Dictionary**"
      ]
    },
    {
      "cell_type": "code",
      "metadata": {
        "colab": {
          "base_uri": "https://localhost:8080/"
        },
        "id": "VvJx3w1i4Cor",
        "outputId": "efe74cef-afcf-4a82-8c67-3db4ae1fd045"
      },
      "source": [
        "#Dictionary\n",
        "playlist2      = {\n",
        "                 'payung teduh':'Akad', \n",
        "                 'fourtwnty':'Zona Nyaman',\n",
        "                 'Dialog dini hari':'Rumah Kuning',\n",
        "                 'Mr. Sanjaya':'Sang Filsuf',\n",
        "                 'Parahyena': 'Sindoro'\n",
        "                 }\n",
        "\n",
        "for i in playlist2.keys():\n",
        "    print(i)"
      ],
      "execution_count": null,
      "outputs": [
        {
          "output_type": "stream",
          "text": [
            "payung teduh\n",
            "fourtwnty\n",
            "Dialog dini hari\n",
            "Mr. Sanjaya\n",
            "Parahyena\n"
          ],
          "name": "stdout"
        }
      ]
    },
    {
      "cell_type": "code",
      "metadata": {
        "colab": {
          "base_uri": "https://localhost:8080/"
        },
        "id": "Bg3TaXKeAJRz",
        "outputId": "8f32d274-48c2-462f-b3d5-d99dcc5c118f"
      },
      "source": [
        "for i in playlist2.values():\n",
        "    print(i)"
      ],
      "execution_count": null,
      "outputs": [
        {
          "output_type": "stream",
          "text": [
            "Akad\n",
            "Zona Nyaman\n",
            "Rumah Kuning\n",
            "Sang Filsuf\n",
            "Sindoro\n"
          ],
          "name": "stdout"
        }
      ]
    },
    {
      "cell_type": "code",
      "metadata": {
        "colab": {
          "base_uri": "https://localhost:8080/"
        },
        "id": "e8oQlNBTALpG",
        "outputId": "2be9acad-e1f9-4be0-f971-9fe20e911067"
      },
      "source": [
        "for i in playlist2.items():\n",
        "    print(i)"
      ],
      "execution_count": null,
      "outputs": [
        {
          "output_type": "stream",
          "text": [
            "('payung teduh', 'Akad')\n",
            "('fourtwnty', 'Zona Nyaman')\n",
            "('Dialog dini hari', 'Rumah Kuning')\n",
            "('Mr. Sanjaya', 'Sang Filsuf')\n",
            "('Parahyena', 'Sindoro')\n"
          ],
          "name": "stdout"
        }
      ]
    },
    {
      "cell_type": "markdown",
      "metadata": {
        "id": "5A3NfxueAebE"
      },
      "source": [
        "## **While Looping**"
      ]
    },
    {
      "cell_type": "code",
      "metadata": {
        "colab": {
          "base_uri": "https://localhost:8080/"
        },
        "id": "vBv_VQBKnAUL",
        "outputId": "4da2a253-06f1-4a09-8748-5fd48b99438a"
      },
      "source": [
        "angka = 0\n",
        "\n",
        "while angka < 5: #saat argumen ini bernilai benar (bool) atau terpenuhi syaratnya\n",
        "    print(\"nilai angka adalah\", angka) #maka statemen ini akan terus dilaksanakan\n",
        "    angka += 1 #biar gak terjadi infinite looping, maka perlu didefinisikan sampe mencapai batas syarat yang ditentukan\n",
        "print(\"diluar while\")"
      ],
      "execution_count": null,
      "outputs": [
        {
          "output_type": "stream",
          "text": [
            "nilai angka adalah 0\n",
            "nilai angka adalah 1\n",
            "nilai angka adalah 2\n",
            "nilai angka adalah 3\n",
            "nilai angka adalah 4\n",
            "diluar while\n"
          ],
          "name": "stdout"
        }
      ]
    },
    {
      "cell_type": "code",
      "metadata": {
        "colab": {
          "base_uri": "https://localhost:8080/"
        },
        "id": "w4pKTLngoI_u",
        "outputId": "094881e8-0125-4ba1-e249-8ecec4e9cde6"
      },
      "source": [
        "# Tagihan\n",
        "tagihan = [50000, 75000, 125000, 300000, 200000]\n",
        "\n",
        "## menggunakan while_loop\n",
        "i = 0 #sebuah variabel untuk mengakses setiap elemen tagihan satu per satu\n",
        "jumlah_tagihan = len(tagihan) #panjang (jumlah elemen dalam) list tagihan\n",
        "\n",
        "total_tagihan = 0 #mula-mula, set total_tagihan ke 0\n",
        "while i < jumlah_tagihan: #selama nilai i kurang dari jumlah_tagihan\n",
        "    total_tagihan += tagihan[i] #tambahkan tagihan[i] ke total_tagihan\n",
        "    i += 1 #tambahkan nilai i dengan 1 untuk memproses tagihan selanjutnya.\n",
        "print(\"Total Tagihan anda adalah \", total_tagihan)"
      ],
      "execution_count": null,
      "outputs": [
        {
          "output_type": "stream",
          "text": [
            "Total Tagihan anda adalah  750000\n"
          ],
          "name": "stdout"
        }
      ]
    },
    {
      "cell_type": "markdown",
      "metadata": {
        "id": "a2cIRQPfnHwi"
      },
      "source": [
        "### **IF**"
      ]
    },
    {
      "cell_type": "code",
      "metadata": {
        "colab": {
          "base_uri": "https://localhost:8080/"
        },
        "id": "lFT5Bf2WnLvl",
        "outputId": "9bd54fa2-86e9-47aa-d6ac-43e16aa4928d"
      },
      "source": [
        "# IF\n",
        "start = True\n",
        "angka = 0\n",
        "while start:\n",
        "    print(\"ini di dalam while\")\n",
        "    if angka is 100:\n",
        "        start = False #jangan lupa didefinisikan jadi nilainya buat false\n",
        "        print(\"angka 100 berhasil ditemukan\")\n",
        "    angka += 1 #ini juga, definisikan looping ditambah satu biar gak infinite looping"
      ],
      "execution_count": null,
      "outputs": [
        {
          "output_type": "stream",
          "text": [
            "ini di dalam while\n",
            "ini di dalam while\n",
            "ini di dalam while\n",
            "ini di dalam while\n",
            "ini di dalam while\n",
            "ini di dalam while\n",
            "ini di dalam while\n",
            "ini di dalam while\n",
            "ini di dalam while\n",
            "ini di dalam while\n",
            "ini di dalam while\n",
            "ini di dalam while\n",
            "ini di dalam while\n",
            "ini di dalam while\n",
            "ini di dalam while\n",
            "ini di dalam while\n",
            "ini di dalam while\n",
            "ini di dalam while\n",
            "ini di dalam while\n",
            "ini di dalam while\n",
            "ini di dalam while\n",
            "ini di dalam while\n",
            "ini di dalam while\n",
            "ini di dalam while\n",
            "ini di dalam while\n",
            "ini di dalam while\n",
            "ini di dalam while\n",
            "ini di dalam while\n",
            "ini di dalam while\n",
            "ini di dalam while\n",
            "ini di dalam while\n",
            "ini di dalam while\n",
            "ini di dalam while\n",
            "ini di dalam while\n",
            "ini di dalam while\n",
            "ini di dalam while\n",
            "ini di dalam while\n",
            "ini di dalam while\n",
            "ini di dalam while\n",
            "ini di dalam while\n",
            "ini di dalam while\n",
            "ini di dalam while\n",
            "ini di dalam while\n",
            "ini di dalam while\n",
            "ini di dalam while\n",
            "ini di dalam while\n",
            "ini di dalam while\n",
            "ini di dalam while\n",
            "ini di dalam while\n",
            "ini di dalam while\n",
            "ini di dalam while\n",
            "ini di dalam while\n",
            "ini di dalam while\n",
            "ini di dalam while\n",
            "ini di dalam while\n",
            "ini di dalam while\n",
            "ini di dalam while\n",
            "ini di dalam while\n",
            "ini di dalam while\n",
            "ini di dalam while\n",
            "ini di dalam while\n",
            "ini di dalam while\n",
            "ini di dalam while\n",
            "ini di dalam while\n",
            "ini di dalam while\n",
            "ini di dalam while\n",
            "ini di dalam while\n",
            "ini di dalam while\n",
            "ini di dalam while\n",
            "ini di dalam while\n",
            "ini di dalam while\n",
            "ini di dalam while\n",
            "ini di dalam while\n",
            "ini di dalam while\n",
            "ini di dalam while\n",
            "ini di dalam while\n",
            "ini di dalam while\n",
            "ini di dalam while\n",
            "ini di dalam while\n",
            "ini di dalam while\n",
            "ini di dalam while\n",
            "ini di dalam while\n",
            "ini di dalam while\n",
            "ini di dalam while\n",
            "ini di dalam while\n",
            "ini di dalam while\n",
            "ini di dalam while\n",
            "ini di dalam while\n",
            "ini di dalam while\n",
            "ini di dalam while\n",
            "ini di dalam while\n",
            "ini di dalam while\n",
            "ini di dalam while\n",
            "ini di dalam while\n",
            "ini di dalam while\n",
            "ini di dalam while\n",
            "ini di dalam while\n",
            "ini di dalam while\n",
            "ini di dalam while\n",
            "ini di dalam while\n",
            "ini di dalam while\n",
            "angka 100 berhasil ditemukan\n"
          ],
          "name": "stdout"
        }
      ]
    },
    {
      "cell_type": "markdown",
      "metadata": {
        "id": "YrXmHd_EnjPV"
      },
      "source": [
        "### **Else**"
      ]
    },
    {
      "cell_type": "code",
      "metadata": {
        "colab": {
          "base_uri": "https://localhost:8080/"
        },
        "id": "RJoXuqhuniLf",
        "outputId": "4eabb2ef-0b51-492b-d46f-2395b93e0f49"
      },
      "source": [
        "# Else\n",
        "angka = 0\n",
        "\n",
        "while angka < 5: #saat argumen ini bernilai benar (bool) atau terpenuhi syaratnya\n",
        "    print(\"nilai angka adalah\", angka) #maka statemen ini akan terus dilaksanakan\n",
        "    angka += 1 #biar gak terjadi infinite looping, maka perlu didefinisikan sampe mencapai batas syarat yang ditentukan\n",
        "else:\n",
        "    print(\"nilai akhir looping adalah \", angka)"
      ],
      "execution_count": null,
      "outputs": [
        {
          "output_type": "stream",
          "text": [
            "nilai angka adalah 0\n",
            "nilai angka adalah 1\n",
            "nilai angka adalah 2\n",
            "nilai angka adalah 3\n",
            "nilai angka adalah 4\n",
            "nilai akhir looping adalah  5\n"
          ],
          "name": "stdout"
        }
      ]
    },
    {
      "cell_type": "markdown",
      "metadata": {
        "id": "_D2b8Q9BnwAp"
      },
      "source": [
        "### **Break**"
      ]
    },
    {
      "cell_type": "code",
      "metadata": {
        "colab": {
          "base_uri": "https://localhost:8080/"
        },
        "id": "NDdEYsk5nsDd",
        "outputId": "b6bc1dca-a1ff-468d-b848-9fff88f2dadd"
      },
      "source": [
        "# BREAK\n",
        "angka = 0\n",
        "\n",
        "while angka < 10: #saat argumen ini bernilai benar (bool) atau terpenuhi syaratnya\n",
        "    if angka is 5:\n",
        "        print(\"nilai angka 5 diketemukan\")\n",
        "        break\n",
        "    print(\"nilai angka adalah\", angka) #maka statemen ini akan terus dilaksanakan\n",
        "    angka += 1 #biar gak terjadi infinite looping, maka perlu didefinisikan sampe mencapai batas syarat yang ditentukan\n",
        "else:\n",
        "    print(\"nilai akhir looping adalah \", angka)\n",
        "print(\"di luar looping\")"
      ],
      "execution_count": null,
      "outputs": [
        {
          "output_type": "stream",
          "text": [
            "nilai angka adalah 0\n",
            "nilai angka adalah 1\n",
            "nilai angka adalah 2\n",
            "nilai angka adalah 3\n",
            "nilai angka adalah 4\n",
            "nilai angka 5 diketemukan\n",
            "di luar looping\n"
          ],
          "name": "stdout"
        }
      ]
    },
    {
      "cell_type": "code",
      "metadata": {
        "colab": {
          "base_uri": "https://localhost:8080/"
        },
        "id": "WZhamcUyn2pa",
        "outputId": "3b9d7712-e25f-4cc5-cd16-8f5b53dac3bf"
      },
      "source": [
        "# CONTINUE\n",
        "angka = 0\n",
        "while angka < 10: #saat argumen ini bernilai benar (bool) atau terpenuhi syaratnya\n",
        "    if angka is 5:\n",
        "        print(\"angka 5 diketemukan\")\n",
        "        angka += 1 #biar gak terjadi infinite looping, maka perlu didefinisikan sampe mencapai batas syarat yang ditentukan. \n",
        "        #Harus ditaro sebelum continue\n",
        "        continue\n",
        "    print(\"nilai angka adalah\", angka) #maka statemen ini akan terus dilaksanakan\n",
        "    angka +=1\n",
        "else:\n",
        "    print(\"nilai akhir looping adalah \", angka)\n",
        "print(\"di luar looping\")"
      ],
      "execution_count": null,
      "outputs": [
        {
          "output_type": "stream",
          "text": [
            "nilai angka adalah 0\n",
            "nilai angka adalah 1\n",
            "nilai angka adalah 2\n",
            "nilai angka adalah 3\n",
            "nilai angka adalah 4\n",
            "angka 5 diketemukan\n",
            "nilai angka adalah 6\n",
            "nilai angka adalah 7\n",
            "nilai angka adalah 8\n",
            "nilai angka adalah 9\n",
            "nilai akhir looping adalah  10\n",
            "di luar looping\n"
          ],
          "name": "stdout"
        }
      ]
    },
    {
      "cell_type": "markdown",
      "metadata": {
        "id": "qRUHbS00pCIB"
      },
      "source": [
        "## **Latihan Looping 1**"
      ]
    },
    {
      "cell_type": "code",
      "metadata": {
        "colab": {
          "base_uri": "https://localhost:8080/"
        },
        "id": "KPTuDA89pFMH",
        "outputId": "901efb48-e3ce-4e18-a346-728d059a4319"
      },
      "source": [
        "list_cash_flow = [\n",
        "2500000, 5000000, -1000000, -2500000, 5000000, 10000000,\n",
        "-5000000, 7500000, 10000000, -1500000, 25000000, -2500000\n",
        "]\n",
        "total_pengeluaran, total_pemasukan = 0, 0\n",
        "for dana in list_cash_flow:\n",
        "    if dana > 0:\n",
        "        total_pemasukan += dana\n",
        "    else:\n",
        "        total_pengeluaran += dana\n",
        "total_pengeluaran *= -1\n",
        "print(total_pengeluaran) \n",
        "print(total_pemasukan)"
      ],
      "execution_count": null,
      "outputs": [
        {
          "output_type": "stream",
          "text": [
            "12500000\n",
            "65000000\n"
          ],
          "name": "stdout"
        }
      ]
    },
    {
      "cell_type": "markdown",
      "metadata": {
        "id": "kAsvvULGpK2G"
      },
      "source": [
        "## **Latihan Looping 2**"
      ]
    },
    {
      "cell_type": "code",
      "metadata": {
        "colab": {
          "base_uri": "https://localhost:8080/"
        },
        "id": "eeQCWLlUpNiE",
        "outputId": "a49ce342-1e18-4864-ae63-f00de3bd1ba0"
      },
      "source": [
        "# Data\n",
        "uang_jalan = 1500000\n",
        "jumlah_hari = 31\n",
        "list_plat_nomor = [8993, 2198, 2501, 2735, 3772, 4837, 9152]\n",
        "# Pengecekan kendaraan dengan nomor pelat ganjil atau genap \n",
        "# Deklarasikan kendaraan_genap dan kendaraan_ganjil = 0\n",
        "kendaraan_genap = 0 \n",
        "kendaraan_ganjil = 0\n",
        "for plat_nomor in list_plat_nomor:\n",
        "    if plat_nomor % 2 == 0:\n",
        "        kendaraan_genap += 1\n",
        "    else:\n",
        "        kendaraan_ganjil += 1\n",
        "print('Jumlah kendaraan ganjil :', kendaraan_ganjil)\n",
        "print('Jumlah kendaraan genap :', kendaraan_genap)\n",
        "# Total pengeluaran untuk kendaraan dengan nomor pelat ganjil \n",
        "# dan genap dalam 1 bulan\n",
        "i = 1\n",
        "total_pengeluaran = 0\n",
        "while i <= jumlah_hari:\n",
        "    if i % 2 == 0:\n",
        "        total_pengeluaran += (kendaraan_genap * uang_jalan)\n",
        "    else:\n",
        "        total_pengeluaran += (kendaraan_ganjil * uang_jalan)  \n",
        "    i += 1\n",
        "# Cetak total pengeluaran\n",
        "print('Total Pengeluaran :', total_pengeluaran)"
      ],
      "execution_count": null,
      "outputs": [
        {
          "output_type": "stream",
          "text": [
            "Jumlah kendaraan ganjil : 4\n",
            "Jumlah kendaraan genap : 3\n",
            "Total Pengeluaran : 163500000\n"
          ],
          "name": "stdout"
        }
      ]
    },
    {
      "cell_type": "markdown",
      "metadata": {
        "id": "M_QR043SpgEb"
      },
      "source": [
        "# **Manipulasi String**"
      ]
    },
    {
      "cell_type": "code",
      "metadata": {
        "colab": {
          "base_uri": "https://localhost:8080/"
        },
        "id": "gQcJCLWappc-",
        "outputId": "7e9753ae-53a0-4a83-cd8f-0f38b158489f"
      },
      "source": [
        "nama_produk = \"Sepatu Niko\"\n",
        "nama_produk = nama_produk[:2] + \"P\" + nama_produk[3:9] + \"K\" + nama_produk[-1]\n",
        "print(\"Nama Produk = \", nama_produk)\n",
        "print(\"Nama Produk Urutan Kata 0 - 7 = \", nama_produk[:7])\n",
        "print(\"Nama Produk Urutan Kata 7 - (Akhir) = \", nama_produk[7:])\n",
        "print(\"Jumlah Kata dari Nama Produk = \", len(nama_produk))"
      ],
      "execution_count": null,
      "outputs": [
        {
          "output_type": "stream",
          "text": [
            "Nama Produk =  SePatu NiKo\n",
            "Nama Produk Urutan Kata 0 - 7 =  SePatu \n",
            "Nama Produk Urutan Kata 7 - (Akhir) =  NiKo\n",
            "Jumlah Kata dari Nama Produk =  11\n"
          ],
          "name": "stdout"
        }
      ]
    },
    {
      "cell_type": "markdown",
      "metadata": {
        "id": "3wk4hTOnpwu7"
      },
      "source": [
        "## **Operator \"+\" Untuk Tipe Data String**"
      ]
    },
    {
      "cell_type": "code",
      "metadata": {
        "colab": {
          "base_uri": "https://localhost:8080/"
        },
        "id": "sTm_7u_Zpv8z",
        "outputId": "5d017f3f-d1ec-463f-b04a-95ad149c11f8"
      },
      "source": [
        "# Operator “+” untuk Tipe Data String\n",
        "nama_depan = 'John'\n",
        "nama_belakang = 'Doee'\n",
        "nama_lengkap = nama_depan + ' ' + nama_belakang\n",
        "print(\"Nama Lengkap = \", nama_lengkap)\n",
        "umur = '27 tahun'\n",
        "alamat = 'Jl. Anggrek No. 100'\n",
        "nama_umur_alamat = 'Hi, saya ' + nama_lengkap + ' umur ' + umur + ', tinggal di ' + alamat + '.'\n",
        "print(\"Profil Saya:\\n\", nama_umur_alamat)"
      ],
      "execution_count": null,
      "outputs": [
        {
          "output_type": "stream",
          "text": [
            "Nama Lengkap =  John Doee\n",
            "Profil Saya:\n",
            " Hi, saya John Doee umur 27 tahun, tinggal di Jl. Anggrek No. 100.\n"
          ],
          "name": "stdout"
        }
      ]
    },
    {
      "cell_type": "markdown",
      "metadata": {
        "id": "3LgXrX17skJk"
      },
      "source": [
        "## **Menghitung Panjang Dari String**"
      ]
    },
    {
      "cell_type": "code",
      "metadata": {
        "colab": {
          "base_uri": "https://localhost:8080/"
        },
        "id": "jY7s0tR4sf9G",
        "outputId": "e7042f82-aeec-49a3-b3e2-dd482714be69"
      },
      "source": [
        "panjang = len(nama_lengkap)\n",
        "print('Jumlah karakter dari', nama_lengkap, 'adalah', str(panjang))"
      ],
      "execution_count": null,
      "outputs": [
        {
          "output_type": "stream",
          "text": [
            "Jumlah karakter dari John Doee adalah 9\n"
          ],
          "name": "stdout"
        }
      ]
    },
    {
      "cell_type": "markdown",
      "metadata": {
        "id": "lu8ybk-Sswsa"
      },
      "source": [
        "## **Mengecek apakah ada komponen char atau string di string**"
      ]
    },
    {
      "cell_type": "code",
      "metadata": {
        "colab": {
          "base_uri": "https://localhost:8080/"
        },
        "id": "9Hx62P-Osxbf",
        "outputId": "26b0415d-aeff-425a-f18b-434bd0efec34"
      },
      "source": [
        "d = 'D'\n",
        "status = d in nama_lengkap\n",
        "print('Huruf D ada di', nama_lengkap, ' = ', str(status))\n",
        "\n",
        "d = 'D'\n",
        "status = d not in nama_lengkap\n",
        "print('Huruf D tidak ada di', nama_lengkap, ' = ', str(status))"
      ],
      "execution_count": null,
      "outputs": [
        {
          "output_type": "stream",
          "text": [
            "Huruf D ada di John Doee  =  True\n",
            "Huruf D tidak ada di John Doee  =  False\n"
          ],
          "name": "stdout"
        }
      ]
    },
    {
      "cell_type": "markdown",
      "metadata": {
        "id": "ovjsHcXjs_bh"
      },
      "source": [
        "## **Mengulang string**"
      ]
    },
    {
      "cell_type": "code",
      "metadata": {
        "colab": {
          "base_uri": "https://localhost:8080/"
        },
        "id": "WfUv2zBYs9ZH",
        "outputId": "d12b29ae-bd4e-4939-f4d2-e23ed5b7f9cf"
      },
      "source": [
        "print('wk'*10)"
      ],
      "execution_count": null,
      "outputs": [
        {
          "output_type": "stream",
          "text": [
            "wkwkwkwkwkwkwkwkwkwk\n"
          ],
          "name": "stdout"
        }
      ]
    },
    {
      "cell_type": "markdown",
      "metadata": {
        "id": "GnXLR73EtMcw"
      },
      "source": [
        "## **Indexing**"
      ]
    },
    {
      "cell_type": "code",
      "metadata": {
        "colab": {
          "base_uri": "https://localhost:8080/"
        },
        "id": "KyyznFc7tNBd",
        "outputId": "f54fcc03-fa7b-4f70-f9c8-5ebc695126fb"
      },
      "source": [
        "print('index ke-0 : ' + nama_lengkap[0])\n",
        "print('index ke-1 : ' + nama_lengkap[1])\n",
        "print('index ke-6 : ' + nama_lengkap[6])\n",
        "print('index ke-(-1) : ' + nama_lengkap[-1])\n",
        "print('index ke-(-2) : ' + nama_lengkap[-2])\n",
        "print('index ke-(0, 3) : ' + nama_lengkap[0:4])\n",
        "print('index ke-(0, -4) : ' + nama_lengkap[0:-4])\n",
        "print('index ke-(:4) : ' + nama_lengkap[:4])\n",
        "print('index ke-(2,4,6,8,10) : ' + nama_lengkap[0:11:2])"
      ],
      "execution_count": null,
      "outputs": [
        {
          "output_type": "stream",
          "text": [
            "index ke-0 : J\n",
            "index ke-1 : o\n",
            "index ke-6 : o\n",
            "index ke-(-1) : e\n",
            "index ke-(-2) : e\n",
            "index ke-(0, 3) : John\n",
            "index ke-(0, -4) : John \n",
            "index ke-(:4) : John\n",
            "index ke-(2,4,6,8,10) : Jh oe\n"
          ],
          "name": "stdout"
        }
      ]
    },
    {
      "cell_type": "markdown",
      "metadata": {
        "id": "6Ybye6_8tVhh"
      },
      "source": [
        "## **Menentukan Urutan (Indexing) String Terbesar atau Terkecil**"
      ]
    },
    {
      "cell_type": "code",
      "metadata": {
        "colab": {
          "base_uri": "https://localhost:8080/"
        },
        "id": "aJqgZi1AtYqh",
        "outputId": "1d0ab74a-22e0-48a8-a9e2-ad5c6bbbe525"
      },
      "source": [
        "# item paling kecil\n",
        "print('paling kecil : ', min(nama_lengkap))\n",
        "# item paling besar\n",
        "print('paling besar : ', max(nama_lengkap))"
      ],
      "execution_count": null,
      "outputs": [
        {
          "output_type": "stream",
          "text": [
            "paling kecil :   \n",
            "paling besar :  o\n"
          ],
          "name": "stdout"
        }
      ]
    },
    {
      "cell_type": "markdown",
      "metadata": {
        "id": "bQYyx9b3p_s8"
      },
      "source": [
        "## **Menghilangkan Kelebihan Spasi**"
      ]
    },
    {
      "cell_type": "code",
      "metadata": {
        "colab": {
          "base_uri": "https://localhost:8080/"
        },
        "id": "Fd9ELbkVp9lN",
        "outputId": "2db35b3b-5c8b-4f9c-ca76-3a1b8a77e2ab"
      },
      "source": [
        "# Fitur .strip() ==> menghilangkan kelebihan spasi di awal dan tengah\n",
        "print(\">>> Fitur .strip()\")\n",
        "kata_sambutan = ' halo, selamat siang!   '\n",
        "kata_sambutan = kata_sambutan.strip()\n",
        "print(kata_sambutan)"
      ],
      "execution_count": null,
      "outputs": [
        {
          "output_type": "stream",
          "text": [
            ">>> Fitur .strip()\n",
            "halo, selamat siang!\n"
          ],
          "name": "stdout"
        }
      ]
    },
    {
      "cell_type": "code",
      "metadata": {
        "colab": {
          "base_uri": "https://localhost:8080/"
        },
        "id": "VyfSMVDUqLz5",
        "outputId": "253f1fb8-e312-4be8-9322-b08c8dfeb97b"
      },
      "source": [
        "# Fitur .lstrip() ==> menghilangkan kelebihan spasi di awal\n",
        "kata_sambutan = ' halo, selamat siang!   '\n",
        "kata_sambutan = kata_sambutan.lstrip()\n",
        "print(kata_sambutan)"
      ],
      "execution_count": null,
      "outputs": [
        {
          "output_type": "stream",
          "text": [
            "halo, selamat siang!   \n"
          ],
          "name": "stdout"
        }
      ]
    },
    {
      "cell_type": "code",
      "metadata": {
        "colab": {
          "base_uri": "https://localhost:8080/"
        },
        "id": "bjkjTU2HqSoM",
        "outputId": "c27fc6cc-a904-4456-b01e-2ee3b9946243"
      },
      "source": [
        "# Fitur .rstrip() ==> menghilangkan kelebihan spasi di akhir\n",
        "kata_sambutan = ' halo, selamat siang!   '\n",
        "kata_sambutan = kata_sambutan.rstrip()\n",
        "print(kata_sambutan)"
      ],
      "execution_count": null,
      "outputs": [
        {
          "output_type": "stream",
          "text": [
            " halo, selamat siang!\n"
          ],
          "name": "stdout"
        }
      ]
    },
    {
      "cell_type": "markdown",
      "metadata": {
        "id": "SzzyYj_cqawQ"
      },
      "source": [
        "## **Mengubah Caps Pada String**"
      ]
    },
    {
      "cell_type": "code",
      "metadata": {
        "colab": {
          "base_uri": "https://localhost:8080/"
        },
        "id": "yMKwI3r2qgH1",
        "outputId": "f0c27954-f82c-4f3f-80b1-42a059939517"
      },
      "source": [
        "# Fitur .capitalize() ==> ngubah elemen pertama jadi kapital\n",
        "print(\"\\n>>> Fitur .capitalize()\")\n",
        "judul_buku = 'belajar bahasa Python'\n",
        "print(judul_buku.capitalize())"
      ],
      "execution_count": null,
      "outputs": [
        {
          "output_type": "stream",
          "text": [
            "\n",
            ">>> Fitur .capitalize()\n",
            "Belajar bahasa python\n"
          ],
          "name": "stdout"
        }
      ]
    },
    {
      "cell_type": "code",
      "metadata": {
        "colab": {
          "base_uri": "https://localhost:8080/"
        },
        "id": "ZlhgEb1zqj15",
        "outputId": "adde01fe-aa82-412b-b69c-7ae169848efe"
      },
      "source": [
        "# Fitur .lower() ==> ngubah semuanya jadi huruf kecil\n",
        "judul_buku = 'Belajar Bahasa PYTHON.'\n",
        "print(judul_buku.lower())"
      ],
      "execution_count": null,
      "outputs": [
        {
          "output_type": "stream",
          "text": [
            "belajar bahasa python.\n"
          ],
          "name": "stdout"
        }
      ]
    },
    {
      "cell_type": "code",
      "metadata": {
        "colab": {
          "base_uri": "https://localhost:8080/"
        },
        "id": "bD9AVbqBqmgv",
        "outputId": "871f2689-339f-4185-c687-5ec0d4f01feb"
      },
      "source": [
        "# Fitur .upper() ==> ngubah semuanya jadi huruf besar\n",
        "judul_buku = 'Belajar Bahasa PYTHON.'\n",
        "print(judul_buku.upper())"
      ],
      "execution_count": null,
      "outputs": [
        {
          "output_type": "stream",
          "text": [
            "BELAJAR BAHASA PYTHON.\n"
          ],
          "name": "stdout"
        }
      ]
    },
    {
      "cell_type": "markdown",
      "metadata": {
        "id": "_vlay0CQquVJ"
      },
      "source": [
        "## **Mengubah String Menjadi List**"
      ]
    },
    {
      "cell_type": "code",
      "metadata": {
        "colab": {
          "base_uri": "https://localhost:8080/"
        },
        "id": "9iZfmG0Bqys8",
        "outputId": "45e802bb-a38b-48d7-898f-11d901ad072a"
      },
      "source": [
        "# Fitur .split() ==> ngubah string jadi list\n",
        "print(\"\\n>>> Fitur .split()\")\n",
        "bilangan = \"ani dan budi dan wati dan johan\"\n",
        "karakter = bilangan.split(\"dan\")\n",
        "print(\"Karakter: \", karakter)\n",
        "kata = bilangan.split(\" \")\n",
        "print(\"Kata:\", kata)"
      ],
      "execution_count": null,
      "outputs": [
        {
          "output_type": "stream",
          "text": [
            "\n",
            ">>> Fitur .split()\n",
            "Karakter:  ['ani ', ' budi ', ' wati ', ' johan']\n",
            "Kata: ['ani', 'dan', 'budi', 'dan', 'wati', 'dan', 'johan']\n"
          ],
          "name": "stdout"
        }
      ]
    },
    {
      "cell_type": "code",
      "metadata": {
        "colab": {
          "base_uri": "https://localhost:8080/"
        },
        "id": "tlxCZ2q8q3Eh",
        "outputId": "6893c781-4625-4a7d-9634-19c50443b599"
      },
      "source": [
        "# Fitur .join() ==> gabung list menjadi kalimat (string) dengan pemisah\n",
        "print(\"\\n>>> Fitur .join()\")\n",
        "pemisah = \" dan \"\n",
        "karakter = [\"Ricky\", \"Peter\", \"Jordan\"]\n",
        "kalimat = pemisah.join(karakter)\n",
        "print(\"Kalimat: \", kalimat)"
      ],
      "execution_count": null,
      "outputs": [
        {
          "output_type": "stream",
          "text": [
            "\n",
            ">>> Fitur .join()\n",
            "Kalimat:  Ricky dan Peter dan Jordan\n"
          ],
          "name": "stdout"
        }
      ]
    },
    {
      "cell_type": "markdown",
      "metadata": {
        "id": "SN9iGV0Zq-LZ"
      },
      "source": [
        "## **Mencari dan Mengubah Kata Tertentu**"
      ]
    },
    {
      "cell_type": "code",
      "metadata": {
        "colab": {
          "base_uri": "https://localhost:8080/"
        },
        "id": "BKkL01f5rERV",
        "outputId": "fb5fb924-7ef9-4b1d-f8dc-f24b9e934639"
      },
      "source": [
        "# Fitur .find()\n",
        "teks = \"Apel malang adalah apel termanis dibanding apel-apel lainnya\"\n",
        "print(\"Kata Apel muncul mulai di urutan kata ke-\", teks.find(\"Apel\"))\n",
        "print(\"Kata 'malang' muncul mulai di urutan kata ke-\", teks.find(\"malang\"))"
      ],
      "execution_count": null,
      "outputs": [
        {
          "output_type": "stream",
          "text": [
            "Kata Apel muncul mulai di urutan kata ke- 0\n",
            "Kata 'malang' muncul mulai di urutan kata ke- 5\n"
          ],
          "name": "stdout"
        }
      ]
    },
    {
      "cell_type": "code",
      "metadata": {
        "colab": {
          "base_uri": "https://localhost:8080/"
        },
        "id": "AzIQBlodrIPc",
        "outputId": "06fc670f-3525-41e3-ee11-4f71d2b68528"
      },
      "source": [
        "# Fitur .replace() ==> mengubah kata tertentu menjadi kata yang lain\n",
        "kalimat = \"apel malang apel yang paling segar, apel sehat, apel nikmat\"\n",
        "kalimat = kalimat.replace(\"apel\", \"jeruk\")\n",
        "print(\"Kalimat:\\n\", kalimat)"
      ],
      "execution_count": null,
      "outputs": [
        {
          "output_type": "stream",
          "text": [
            "Kalimat:\n",
            " jeruk malang jeruk yang paling segar, jeruk sehat, jeruk nikmat\n"
          ],
          "name": "stdout"
        }
      ]
    },
    {
      "cell_type": "markdown",
      "metadata": {
        "id": "0762No2RrNx0"
      },
      "source": [
        "## **Menghitung Jumlah Kemunculan Kata Tertentu**"
      ]
    },
    {
      "cell_type": "code",
      "metadata": {
        "colab": {
          "base_uri": "https://localhost:8080/"
        },
        "id": "yC9lQn6UrTeu",
        "outputId": "f2fb76e1-f030-4a43-cbcd-da05bbf3142e"
      },
      "source": [
        "# Fitur .count()\n",
        "teks = \"Apel malang adalah apel termanis dibanding apel-apel lainnya\"\n",
        "kemunculan_kata_apel = teks.count(\"apel\")\n",
        "print(\"Jumlah Kata 'Apel' Muncul = \", kemunculan_kata_apel)"
      ],
      "execution_count": null,
      "outputs": [
        {
          "output_type": "stream",
          "text": [
            "Jumlah Kata 'Apel' Muncul =  3\n"
          ],
          "name": "stdout"
        }
      ]
    },
    {
      "cell_type": "markdown",
      "metadata": {
        "id": "z1daKbogrcfC"
      },
      "source": [
        "## **Menentukan String Apakah Diawal/Diakhir Oleh Sub-String**"
      ]
    },
    {
      "cell_type": "code",
      "metadata": {
        "colab": {
          "base_uri": "https://localhost:8080/"
        },
        "id": "yz8uhG6BriCC",
        "outputId": "36f3136f-109b-4637-dd0e-3baae4b669bc"
      },
      "source": [
        "# Fitur .startswith()\n",
        "teks = \"Apel malang adalah apel termanis dibanding apel-apel lainnya\"\n",
        "print(\"Apakah text diawali dengan kata 'Apel'?\", teks.startswith(\"Apel\"))\n",
        "print(\"Apakah text diawali dengan kata 'apel'?\", teks.startswith(\"apel\"))"
      ],
      "execution_count": null,
      "outputs": [
        {
          "output_type": "stream",
          "text": [
            "Apakah text diawali dengan kata 'Apel'? True\n",
            "Apakah text diawali dengan kata 'apel'? False\n"
          ],
          "name": "stdout"
        }
      ]
    },
    {
      "cell_type": "code",
      "metadata": {
        "colab": {
          "base_uri": "https://localhost:8080/"
        },
        "id": "21xTDQoxrmNg",
        "outputId": "25d3d920-5a44-47a5-f61c-0c30fbb06831"
      },
      "source": [
        "# Fitur .endswith()\n",
        "print(\"Apakah text diakhiri dengan kata 'lainnya'?\", teks.endswith(\"lainnya\"))\n",
        "print(\"Apakah text diakhiri dengan kata 'apel'?\", teks.endswith(\"apel\"))"
      ],
      "execution_count": null,
      "outputs": [
        {
          "output_type": "stream",
          "text": [
            "Apakah text diakhiri dengan kata 'lainnya'? True\n",
            "Apakah text diakhiri dengan kata 'apel'? False\n"
          ],
          "name": "stdout"
        }
      ]
    },
    {
      "cell_type": "markdown",
      "metadata": {
        "id": "78FwcjvPuU_f"
      },
      "source": [
        "# **Fungsi**"
      ]
    },
    {
      "cell_type": "code",
      "metadata": {
        "colab": {
          "base_uri": "https://localhost:8080/"
        },
        "id": "K5NFq0O_ubpQ",
        "outputId": "67518889-d0e2-4bd6-db50-a16c324afb42"
      },
      "source": [
        "# Definisikan fungsi\n",
        "def contoh_fungsi():\n",
        "    print(\"Halo Dunia\")\n",
        "    print(\"Aku sedang belajar bahasa Python\")\n",
        "\n",
        "# Panggil fungsi yang telah didefinisikan\n",
        "contoh_fungsi()"
      ],
      "execution_count": null,
      "outputs": [
        {
          "output_type": "stream",
          "text": [
            "Halo Dunia\n",
            "Aku sedang belajar bahasa Python\n"
          ],
          "name": "stdout"
        }
      ]
    },
    {
      "cell_type": "markdown",
      "metadata": {
        "id": "yd1tohNSuhRe"
      },
      "source": [
        "## **Mendefinisikan Fungsi Dengan Argumen**"
      ]
    },
    {
      "cell_type": "code",
      "metadata": {
        "colab": {
          "base_uri": "https://localhost:8080/"
        },
        "id": "m818M-yNumZt",
        "outputId": "1dce8d9b-8bcf-4a7b-bbec-3576a07999ee"
      },
      "source": [
        "# Definsikan fungsi dengan argumen\n",
        "def fungsi_dengan_argumen(nama_depan, nama_belakang):\n",
        "    print(nama_depan+\" \"+nama_belakang) \n",
        "\n",
        "# Panggil fungsi dengan memasukkan argumen\n",
        "# nama_depan yaitu \"John\" dan nama_belakang \"Doe\"\n",
        "fungsi_dengan_argumen(\"John\", \"Doe\")"
      ],
      "execution_count": null,
      "outputs": [
        {
          "output_type": "stream",
          "text": [
            "John Doe\n"
          ],
          "name": "stdout"
        }
      ]
    },
    {
      "cell_type": "markdown",
      "metadata": {
        "id": "VsXyLp-8u4gJ"
      },
      "source": [
        "## **Mendefinisikan Fungsi Dengan Nilai Default Argument Kedua Adalah \" \"**"
      ]
    },
    {
      "cell_type": "code",
      "metadata": {
        "colab": {
          "base_uri": "https://localhost:8080/"
        },
        "id": "o0KIcdksuXNB",
        "outputId": "f73f45b3-a972-4dac-9ba6-c3963def7aa3"
      },
      "source": [
        "# Definsikan fungsi dengan nilai default argument kedua adalah \"\".\n",
        "def fungsi_dengan_argumen(nama_depan, nama_belakang = \"\"):\n",
        "\tprint(nama_depan+\" \"+nama_belakang)\n",
        "\n",
        "# Panggil fungsi dengan memasukkan argumen nama_depan \"John\"\n",
        "fungsi_dengan_argumen(\"John\")\n",
        "\n",
        "# Panggil fungsi dengan memasukkan argumen\n",
        "# nama_depan yaitu \"John\" dan nama_belakang \"Doe\"\n",
        "fungsi_dengan_argumen(\"John\", \"Doe\")"
      ],
      "execution_count": null,
      "outputs": [
        {
          "output_type": "stream",
          "text": [
            "John \n",
            "John Doe\n"
          ],
          "name": "stdout"
        }
      ]
    },
    {
      "cell_type": "markdown",
      "metadata": {
        "id": "R_VT69v8vNiC"
      },
      "source": [
        "## **Latihan Fungsi**"
      ]
    },
    {
      "cell_type": "code",
      "metadata": {
        "colab": {
          "base_uri": "https://localhost:8080/"
        },
        "id": "2wkw4nx-vVG4",
        "outputId": "2bca481d-bbca-4838-af0e-c22818052c05"
      },
      "source": [
        "# Dua buah data yang tersimpan dalam tipe list\n",
        "data1 = [70, 70, 70, 100, 100, 100, 120, 120, 150, 150]\n",
        "data2 = [50, 60, 60, 50, 70, 70, 100, 80, 100, 90]\n",
        "\n",
        "# Definisikan fungsi hitng_rata_rata\n",
        "def hitung_rata_rata(data):\n",
        "    jumlah = 0\n",
        "    for item in data:\n",
        "        jumlah += item\n",
        "    rata_rata = jumlah/len(data)\n",
        "    return rata_rata\n",
        "\n",
        "# Hitung nilai rata-rata dari kedua data yang dimiliki\n",
        "print('Rata-rata data1:')\n",
        "print(hitung_rata_rata(data1))\n",
        "print('Rata-rata data2:')\n",
        "print(hitung_rata_rata(data2))"
      ],
      "execution_count": null,
      "outputs": [
        {
          "output_type": "stream",
          "text": [
            "Rata-rata data1:\n",
            "105.0\n",
            "Rata-rata data2:\n",
            "73.0\n"
          ],
          "name": "stdout"
        }
      ]
    },
    {
      "cell_type": "code",
      "metadata": {
        "colab": {
          "base_uri": "https://localhost:8080/"
        },
        "id": "lR9U9Pd2vgxG",
        "outputId": "68b5f0ce-e87f-47ab-c328-3b90ffbc1669"
      },
      "source": [
        "# Dua buah data yang tersimpan dalam tipe list\n",
        "data1 = [70, 70, 70, 100, 100, 100, 120, 120, 150, 150]\n",
        "data2 = [50, 60, 60, 50, 70, 70, 100, 80, 100, 90]\n",
        "\n",
        "# Fungsi rata-rata data\n",
        "def hitung_rata_rata(data):\n",
        "    jumlah = 0\n",
        "    for item in data:\n",
        "        jumlah += item\n",
        "    rata_rata = jumlah/len(data)\n",
        "    return rata_rata\n",
        "\n",
        "# Definisikan fungsi hitung_standar_deviasi\n",
        "def hitung_standar_deviasi(data):\n",
        "    rata_rata_data = hitung_rata_rata(data)\n",
        "    varians = 0\n",
        "    for item in data:\n",
        "        varians += (item - rata_rata_data) ** 2\n",
        "    varians /= len(data)\n",
        "    standar_deviasi = varians ** (1/2)\n",
        "    return standar_deviasi\n",
        "\n",
        "# Hitung nilai standar deviasi dari kedua data yang dimiliki\n",
        "print('Standar deviasi data1:')\n",
        "print(hitung_standar_deviasi(data1))\n",
        "print('Standar deviasi data2:')\n",
        "print(hitung_standar_deviasi(data2))"
      ],
      "execution_count": null,
      "outputs": [
        {
          "output_type": "stream",
          "text": [
            "Standar deviasi data1:\n",
            "28.722813232690143\n",
            "Standar deviasi data2:\n",
            "17.916472867168917\n"
          ],
          "name": "stdout"
        }
      ]
    },
    {
      "cell_type": "markdown",
      "metadata": {
        "id": "nLEkJUIFvpIy"
      },
      "source": [
        "## **Latihan Fungsi 2**"
      ]
    },
    {
      "cell_type": "code",
      "metadata": {
        "colab": {
          "base_uri": "https://localhost:8080/"
        },
        "id": "LKmuimnRvsFG",
        "outputId": "5d6b4bfc-2b04-4a42-869f-b6a20133f325"
      },
      "source": [
        "# Data properti\n",
        "tabel_properti = {\n",
        "'luas_tanah': [70, 70, 70, 100, 100, 100, 120, 120, 150, 150],\n",
        "'luas_bangunan': [50, 60, 60, 50, 70, 70, 100, 80, 100, 90],\n",
        "'jarak': [15, 30, 55, 30, 25, 50, 20, 50, 50, 15],\n",
        "'harga': [500, 400, 300, 700, 1000, 650, 2000, 1200, 1800, 3000]\n",
        "}\n",
        " \n",
        "# Fungsi rata-rata data\n",
        "def hitung_rata_rata(data):\n",
        "    jumlah = 0\n",
        "    for item in data:\n",
        "        jumlah += item\n",
        "    rata_rata = jumlah/len(data)\n",
        "    return rata_rata\n",
        " \n",
        "# Fungsi hitung_standar_deviasi\n",
        "def hitung_standar_deviasi(data):\n",
        "    rata_rata_data = hitung_rata_rata(data)\n",
        "    varians = 0\n",
        "    for item in data:\n",
        "        varians += (item - rata_rata_data) ** 2\n",
        "        varians /= len(data)\n",
        "    standar_deviasi = varians ** (1/2)\n",
        "    return standar_deviasi\n",
        " \n",
        "# Definisikan fungsi untuk menghitung rata-rata dan standar deviasi\n",
        "# setiap kolom pada tabel_properti yang diberikan oleh key dict.\n",
        "def deskripsi_properti(tabel):\n",
        "    for key in tabel.keys():\n",
        "        print('Rata-rata ' + key + ':')\n",
        "        print(hitung_rata_rata(tabel[key])) \n",
        "        print('Standar deviasi ' + key + ':')\n",
        "        print(hitung_standar_deviasi(tabel[key]))\n",
        "        print('')\n",
        " \n",
        "# Panggil fungsi deskripsi_properti untuk menghitung rata-rata \n",
        "# dan standar deviasi setiap kolom pada tabel_properti\n",
        "deskripsi_properti(tabel_properti)"
      ],
      "execution_count": null,
      "outputs": [
        {
          "output_type": "stream",
          "text": [
            "Rata-rata luas_tanah:\n",
            "105.0\n",
            "Standar deviasi luas_tanah:\n",
            "14.93311056335886\n",
            "\n",
            "Rata-rata luas_bangunan:\n",
            "73.0\n",
            "Standar deviasi luas_bangunan:\n",
            "6.025948374480153\n",
            "\n",
            "Rata-rata jarak:\n",
            "34.0\n",
            "Standar deviasi jarak:\n",
            "6.24005184770928\n",
            "\n",
            "Rata-rata harga:\n",
            "1155.0\n",
            "Standar deviasi harga:\n",
            "587.0594351517378\n",
            "\n"
          ],
          "name": "stdout"
        }
      ]
    },
    {
      "cell_type": "markdown",
      "metadata": {
        "id": "idLnAo8lzgSj"
      },
      "source": [
        "# **Import Module**"
      ]
    },
    {
      "cell_type": "markdown",
      "metadata": {
        "id": "QJBs5hfWzjIx"
      },
      "source": [
        "Kalau kita punya program yang didefinisikan dalam bentuk function dan disimpan dalam satu file, maka kita bisa menyebutnya module"
      ]
    },
    {
      "cell_type": "code",
      "metadata": {
        "colab": {
          "base_uri": "https://localhost:8080/"
        },
        "id": "M5BTWYlHzvy4",
        "outputId": "05658611-ae42-4588-905d-4b2959d648ba"
      },
      "source": [
        "data = 'apa kabar?'\n",
        "\n",
        "def cek_modul():\n",
        "    print('Haloo bro')\n",
        "\n",
        "print(\"ini adalah module saya\")"
      ],
      "execution_count": null,
      "outputs": [
        {
          "output_type": "stream",
          "text": [
            "ini adalah module saya\n"
          ],
          "name": "stdout"
        }
      ]
    },
    {
      "cell_type": "markdown",
      "metadata": {
        "id": "gQDx2HUXzyEz"
      },
      "source": [
        "Ketika kumpulan kode diatas disimpan dalam sebuah file, misal dalam format `.py`, maka kita bisa menggunakan function yang diterapkan di file tersebut"
      ]
    },
    {
      "cell_type": "code",
      "metadata": {
        "id": "pUDAOmqh0Ea5"
      },
      "source": [
        "import modul\n",
        "\n",
        "print(modul.data)\n",
        "\n",
        "modul.cek_modul()"
      ],
      "execution_count": null,
      "outputs": []
    },
    {
      "cell_type": "markdown",
      "metadata": {
        "id": "EYBMCgx00S1Q"
      },
      "source": [
        "**Contoh Lain:**"
      ]
    },
    {
      "cell_type": "code",
      "metadata": {
        "id": "s9WmOZ6V0VDh"
      },
      "source": [
        "def tambah(a,b):\n",
        "    print('Fungsi Tambah')\n",
        "    print(a,\"+\",b,\"=\", a + b)\n",
        "\n",
        "def kurang(a,b):\n",
        "    print('Fungsi Kurang')\n",
        "    print(a,\"-\",b,\"=\", a - b)\n",
        "\n",
        "tambah(3,4)\n",
        "kurang(4,3)"
      ],
      "execution_count": null,
      "outputs": []
    },
    {
      "cell_type": "markdown",
      "metadata": {
        "id": "kdYuGyAN0YQj"
      },
      "source": [
        "Simpan dengan nama `matematika_modul2.py`, kemudian kita import module diatas"
      ]
    },
    {
      "cell_type": "code",
      "metadata": {
        "id": "RmBVdMYc0bno"
      },
      "source": [
        "import matematika_modul2 as math #buat ganti nama panggilan pake as\n",
        "\n",
        "math.tambah(7,1)\n",
        "math.kurang(7,1)\n",
        "\n",
        "#Kita bisa mengimport hanya spesifik fungsinya ajah\n",
        "from matematika_modul2 import tambah, kurang #buat ngambil fungsi sebagian\n",
        "\n",
        "tambah(3,4)\n",
        "kurang(4,1)\n",
        "\n",
        "from matematika_modul2 import * #ini buat ambil fungsi semuanya\n",
        "\n",
        "from matematika_modul2 import tambah as t \n",
        "t(4,5)"
      ],
      "execution_count": null,
      "outputs": []
    },
    {
      "cell_type": "markdown",
      "metadata": {
        "id": "KkcLDL4v1Jyv"
      },
      "source": [
        "# **Package**"
      ]
    },
    {
      "cell_type": "markdown",
      "metadata": {
        "id": "K5jxU4qJ1MqS"
      },
      "source": [
        "Package adalah kumpulan dari module"
      ]
    },
    {
      "cell_type": "markdown",
      "metadata": {
        "id": "nfa8PKg21Ttv"
      },
      "source": [
        "**Contoh:**"
      ]
    },
    {
      "cell_type": "code",
      "metadata": {
        "id": "o7PxUAdC1Xmw"
      },
      "source": [
        "from Sains import matematika_module as matematika #Sains itu foldernya. Folder Sains adalah package \n",
        "from Sains import fisika_module as fisika\n",
        "\n",
        "matematika.tambah(3,4)"
      ],
      "execution_count": null,
      "outputs": []
    },
    {
      "cell_type": "markdown",
      "metadata": {
        "id": "0QzG6ivX1uLD"
      },
      "source": [
        "Kita bisa menganggap `Sains` sama seperti `matematika` dan `fisika`. Dianggap sebagai module tapi sebenarnya dia itu package"
      ]
    },
    {
      "cell_type": "markdown",
      "metadata": {
        "id": "Cyz-SZ6M13_q"
      },
      "source": [
        "Kalau kita import `Sains`, dia akan dieksekusi sebagai `__init__.py`"
      ]
    },
    {
      "cell_type": "markdown",
      "metadata": {
        "id": "Z1FQ37Gh2Dl7"
      },
      "source": [
        "Apa kegunaannya? Bagaimana caranya import `Sains` ini kita bisa mengakses semua yang ada di `matematika`, dan `fisika` dalam folder `Sains` lebih mudah. Caranya:"
      ]
    },
    {
      "cell_type": "code",
      "metadata": {
        "id": "Q6Oa4XKB2eU9"
      },
      "source": [
        "from Sains import tambah\n",
        "tambah(3,4)\n",
        "\n",
        "from Sains import waktu_tempuh\n",
        "waktu_tempuh(60,120)"
      ],
      "execution_count": null,
      "outputs": []
    },
    {
      "cell_type": "code",
      "metadata": {
        "colab": {
          "base_uri": "https://localhost:8080/"
        },
        "id": "nfFrtOv12hvF",
        "outputId": "2decfdb6-f2eb-4412-830c-2bda152c3f38"
      },
      "source": [
        "#contoh gunain package, kita bisa pake package built in di python\n",
        "import math\n",
        "print(math.cos(3.14))"
      ],
      "execution_count": null,
      "outputs": [
        {
          "output_type": "stream",
          "text": [
            "-0.9999987317275395\n"
          ],
          "name": "stdout"
        }
      ]
    },
    {
      "cell_type": "markdown",
      "metadata": {
        "id": "gRw_uPjC6k2t"
      },
      "source": [
        "# **Input Output File**"
      ]
    },
    {
      "cell_type": "markdown",
      "metadata": {
        "id": "9Zk04uNv6qF0"
      },
      "source": [
        "## **Membuat File Text**"
      ]
    },
    {
      "cell_type": "code",
      "metadata": {
        "id": "4kmodhuB60gH"
      },
      "source": [
        "file = open(\"data.txt\", '(mode)') #pertama nama filenya, kedua nama modenya"
      ],
      "execution_count": null,
      "outputs": []
    },
    {
      "cell_type": "markdown",
      "metadata": {
        "id": "BX0jg77q632W"
      },
      "source": [
        "- Mode 1: Write mode (w)/ mode menulis dan menghapus file lama, jika file tidak ada maka file akan dibuat baru\n",
        "- Mode 2: read mode only (r)/ hanya bisa baca doank\n",
        "- Mode 3: appending mode (a)/ menambahkan data di akhir baris\n",
        "- Mode 4: write and read mode "
      ]
    },
    {
      "cell_type": "code",
      "metadata": {
        "id": "4ElupSS07FYi"
      },
      "source": [
        "# membuat file text\n",
        "file = open(\"data.txt\", 'w')\n",
        "file.write(\"ini adalah data text yang dibuat oleh python\")\n",
        "file.write(\"\\nini baris kedua\")\n",
        "file.write(\"\\nini baris ketiga\")\n",
        "file.write(\"\\nini baris keempat\")\n",
        "file.write(\"\\nini baris kelima\")\n",
        "file.close()"
      ],
      "execution_count": null,
      "outputs": []
    },
    {
      "cell_type": "markdown",
      "metadata": {
        "id": "ZgGrzynq7KgK"
      },
      "source": [
        "Jangan lupa harus selalu di close, karena kalo gak ditutup. bisa jadi gak bakal ke save dan bisa jadi bakal kegantung"
      ]
    },
    {
      "cell_type": "markdown",
      "metadata": {
        "id": "cQwz3M418K_K"
      },
      "source": [
        "## **Membaca File Text**"
      ]
    },
    {
      "cell_type": "code",
      "metadata": {
        "colab": {
          "base_uri": "https://localhost:8080/"
        },
        "id": "Im7nyWQQ7O00",
        "outputId": "392c3cbb-3432-4e40-cfd4-90b0e99bd843"
      },
      "source": [
        "# membaca file text\n",
        "file2 = open(\"data.txt\", 'r')\n",
        "print(file2.read())\n",
        "#Gak usah di close, karena cuman read doank\n",
        "file2.close()"
      ],
      "execution_count": null,
      "outputs": [
        {
          "output_type": "stream",
          "text": [
            "ini adalah data text yang dibuat oleh python\n",
            "ini baris kedua\n",
            "ini baris ketiga\n",
            "ini baris keempat\n",
            "ini baris kelima\n"
          ],
          "name": "stdout"
        }
      ]
    },
    {
      "cell_type": "code",
      "metadata": {
        "colab": {
          "base_uri": "https://localhost:8080/"
        },
        "id": "51eu5VZQ7WhD",
        "outputId": "3aca6944-14b7-4fc0-d1bf-75da225d1e3d"
      },
      "source": [
        "# membaca file text\n",
        "file2 = open(\"data.txt\", 'r')\n",
        "print(file2.read(10)) #cuman nampilin 10 karakter ajah\n",
        "file2.close()"
      ],
      "execution_count": null,
      "outputs": [
        {
          "output_type": "stream",
          "text": [
            "ini adalah\n"
          ],
          "name": "stdout"
        }
      ]
    },
    {
      "cell_type": "code",
      "metadata": {
        "colab": {
          "base_uri": "https://localhost:8080/"
        },
        "id": "PRgZbiJ37fqA",
        "outputId": "c5bcfaee-93e0-45d2-ad33-201a98ad8246"
      },
      "source": [
        "# membaca file text\n",
        "file2 = open(\"data.txt\", 'r')\n",
        "print(file2.readline())\n",
        "file2.close()"
      ],
      "execution_count": null,
      "outputs": [
        {
          "output_type": "stream",
          "text": [
            "ini adalah data text yang dibuat oleh python\n",
            "\n"
          ],
          "name": "stdout"
        }
      ]
    },
    {
      "cell_type": "code",
      "metadata": {
        "colab": {
          "base_uri": "https://localhost:8080/"
        },
        "id": "FVtY_5o573vg",
        "outputId": "8dd95033-e7b2-4dc2-8d2e-bf9900e2ca3f"
      },
      "source": [
        "# membaca file text\n",
        "file2 = open(\"data.txt\", 'r')\n",
        "print(file2.readline())\n",
        "print(file2.readline()) #kalo pengen baca baris yang selanjutnya, bikin lagi baris selanjutnya dibawah\n",
        "file2.close()"
      ],
      "execution_count": null,
      "outputs": [
        {
          "output_type": "stream",
          "text": [
            "ini adalah data text yang dibuat oleh python\n",
            "\n",
            "ini baris kedua\n",
            "\n"
          ],
          "name": "stdout"
        }
      ]
    },
    {
      "cell_type": "markdown",
      "metadata": {
        "id": "fHC3MWpG8XG-"
      },
      "source": [
        "## **Appending Mode**"
      ]
    },
    {
      "cell_type": "code",
      "metadata": {
        "id": "PDXH45nI8FX3"
      },
      "source": [
        "# appending mode\n",
        "file3 = open(\"data.txt\", 'a')\n",
        "file3.write(\"\\nini baris yang dibuat pake mode append\")\n",
        "file3.close()"
      ],
      "execution_count": null,
      "outputs": []
    },
    {
      "cell_type": "code",
      "metadata": {
        "colab": {
          "base_uri": "https://localhost:8080/"
        },
        "id": "LZgrUTYL6jP1",
        "outputId": "60307f4b-e9bf-4646-8323-ab96950771ec"
      },
      "source": [
        " # membaca file text\n",
        "file2 = open(\"data.txt\", 'r')\n",
        "print(file2.read())\n",
        "#Gak usah di close, karena cuman read doank\n",
        "file2.close()"
      ],
      "execution_count": null,
      "outputs": [
        {
          "output_type": "stream",
          "text": [
            "ini adalah data text yang dibuat oleh python\n",
            "ini baris kedua\n",
            "ini baris ketiga\n",
            "ini baris keempat\n",
            "ini baris kelima\n",
            "ini baris yang dibuat pake mode append\n",
            "ini baris yang dibuat pake mode append\n"
          ],
          "name": "stdout"
        }
      ]
    },
    {
      "cell_type": "markdown",
      "metadata": {
        "id": "gYgYlutM87iL"
      },
      "source": [
        "# **Install Package**"
      ]
    },
    {
      "cell_type": "markdown",
      "metadata": {
        "id": "0M-JA1-u8-L0"
      },
      "source": [
        "Basic Tutorial install package\n",
        "1. `pip install` (package)\n",
        "2. `pip list --format=columns`\n",
        "3. `python --version`\n",
        "4. `pip uninstall` (package)"
      ]
    },
    {
      "cell_type": "markdown",
      "metadata": {
        "id": "qav3Sszl9XtY"
      },
      "source": [
        "# **Try & Exception**"
      ]
    },
    {
      "cell_type": "markdown",
      "metadata": {
        "id": "uXiKKtCz_Izy"
      },
      "source": [
        "Tipe2 exception error:\n",
        "- IOError ==> untuk input output. kalo misal kita buka file terus ada errornya. mengetahui kalo misal ada corrupted file\n",
        "- ImportError ==> misal gaada package di server kita\n",
        "- ValueError\n",
        "- ZeroDivisionError\n",
        "- KeyboardInterupted\n",
        "- EDFError\n",
        "- TypeError"
      ]
    },
    {
      "cell_type": "markdown",
      "metadata": {
        "id": "mbtdxjSB9fM_"
      },
      "source": [
        "## **Syntax Error**"
      ]
    },
    {
      "cell_type": "code",
      "metadata": {
        "colab": {
          "base_uri": "https://localhost:8080/",
          "height": 129
        },
        "id": "IBH7U0TN9h10",
        "outputId": "c8c3ca5f-c8a8-4a40-d06d-bf2522f0564e"
      },
      "source": [
        "print(nama saya Diko) #Syntax Error. Kesalahan kode atau fungsi"
      ],
      "execution_count": null,
      "outputs": [
        {
          "output_type": "error",
          "ename": "SyntaxError",
          "evalue": "ignored",
          "traceback": [
            "\u001b[0;36m  File \u001b[0;32m\"<ipython-input-67-beed13cc4b46>\"\u001b[0;36m, line \u001b[0;32m1\u001b[0m\n\u001b[0;31m    print(nama saya Diko) #Syntax Error. Kesalahan kode atau fungsi\u001b[0m\n\u001b[0m                  ^\u001b[0m\n\u001b[0;31mSyntaxError\u001b[0m\u001b[0;31m:\u001b[0m invalid syntax\n"
          ]
        }
      ]
    },
    {
      "cell_type": "markdown",
      "metadata": {
        "id": "Yprfbk3r9nip"
      },
      "source": [
        "## **Value Error**"
      ]
    },
    {
      "cell_type": "code",
      "metadata": {
        "colab": {
          "base_uri": "https://localhost:8080/",
          "height": 214
        },
        "id": "iOHReMpJ9t8X",
        "outputId": "5b4f322c-1dd3-4e6e-ca57-0626261261c2"
      },
      "source": [
        "angka = int(input(\"masukan angka sembarang\\n\")) #Kalo dimasukkin bukan angka, bakal jadi ValueError\n",
        "print(angka)"
      ],
      "execution_count": null,
      "outputs": [
        {
          "output_type": "stream",
          "text": [
            "masukan angka sembarang\n",
            "diko\n"
          ],
          "name": "stdout"
        },
        {
          "output_type": "error",
          "ename": "ValueError",
          "evalue": "ignored",
          "traceback": [
            "\u001b[0;31m---------------------------------------------------------------------------\u001b[0m",
            "\u001b[0;31mValueError\u001b[0m                                Traceback (most recent call last)",
            "\u001b[0;32m<ipython-input-68-44956a95a9e0>\u001b[0m in \u001b[0;36m<module>\u001b[0;34m()\u001b[0m\n\u001b[0;32m----> 1\u001b[0;31m \u001b[0mangka\u001b[0m \u001b[0;34m=\u001b[0m \u001b[0mint\u001b[0m\u001b[0;34m(\u001b[0m\u001b[0minput\u001b[0m\u001b[0;34m(\u001b[0m\u001b[0;34m\"masukan angka sembarang\\n\"\u001b[0m\u001b[0;34m)\u001b[0m\u001b[0;34m)\u001b[0m \u001b[0;31m#Kalo dimasukkin bukan angka, bakal jadi ValueError\u001b[0m\u001b[0;34m\u001b[0m\u001b[0;34m\u001b[0m\u001b[0m\n\u001b[0m\u001b[1;32m      2\u001b[0m \u001b[0mprint\u001b[0m\u001b[0;34m(\u001b[0m\u001b[0mangka\u001b[0m\u001b[0;34m)\u001b[0m\u001b[0;34m\u001b[0m\u001b[0;34m\u001b[0m\u001b[0m\n",
            "\u001b[0;31mValueError\u001b[0m: invalid literal for int() with base 10: 'diko'"
          ]
        }
      ]
    },
    {
      "cell_type": "markdown",
      "metadata": {
        "id": "BBs2BGnI90S6"
      },
      "source": [
        "## **Zero Division Error**"
      ]
    },
    {
      "cell_type": "code",
      "metadata": {
        "colab": {
          "base_uri": "https://localhost:8080/",
          "height": 384
        },
        "id": "7rrHliWx9546",
        "outputId": "a634a674-a08c-4af1-fad7-277f4731ca20"
      },
      "source": [
        "def pembagian (a,b):\n",
        "    return a/b\n",
        "\n",
        "Penyebut = int(input(\"Masukkan Angka Penyebut\\n\"))\n",
        "Pembilang = int(input(\"Masukkan Angka Pembilang?\\n\")) #Kalo misal dimasukkin 0, maka terjadi ZeroDivisionError\n",
        "\n",
        "print(pembagian(Penyebut,Pembilang)) #TypeError. Error rantai, kesalahan tipe data. harus dikonversi"
      ],
      "execution_count": null,
      "outputs": [
        {
          "output_type": "stream",
          "text": [
            "Masukkan Angka Penyebut\n",
            "12\n",
            "Masukkan Angka Pembilang?\n",
            "0\n"
          ],
          "name": "stdout"
        },
        {
          "output_type": "error",
          "ename": "ZeroDivisionError",
          "evalue": "ignored",
          "traceback": [
            "\u001b[0;31m---------------------------------------------------------------------------\u001b[0m",
            "\u001b[0;31mZeroDivisionError\u001b[0m                         Traceback (most recent call last)",
            "\u001b[0;32m<ipython-input-73-9b8454a94c2c>\u001b[0m in \u001b[0;36m<module>\u001b[0;34m()\u001b[0m\n\u001b[1;32m      5\u001b[0m \u001b[0mPembilang\u001b[0m \u001b[0;34m=\u001b[0m \u001b[0mint\u001b[0m\u001b[0;34m(\u001b[0m\u001b[0minput\u001b[0m\u001b[0;34m(\u001b[0m\u001b[0;34m\"Masukkan Angka Pembilang?\\n\"\u001b[0m\u001b[0;34m)\u001b[0m\u001b[0;34m)\u001b[0m \u001b[0;31m#Kalo misal dimasukkin 0, maka terjadi ZeroDivisionError\u001b[0m\u001b[0;34m\u001b[0m\u001b[0;34m\u001b[0m\u001b[0m\n\u001b[1;32m      6\u001b[0m \u001b[0;34m\u001b[0m\u001b[0m\n\u001b[0;32m----> 7\u001b[0;31m \u001b[0mprint\u001b[0m\u001b[0;34m(\u001b[0m\u001b[0mpembagian\u001b[0m\u001b[0;34m(\u001b[0m\u001b[0mPenyebut\u001b[0m\u001b[0;34m,\u001b[0m\u001b[0mPembilang\u001b[0m\u001b[0;34m)\u001b[0m\u001b[0;34m)\u001b[0m \u001b[0;31m#TypeError. Error rantai, kesalahan tipe data. harus dikonversi\u001b[0m\u001b[0;34m\u001b[0m\u001b[0;34m\u001b[0m\u001b[0m\n\u001b[0m",
            "\u001b[0;32m<ipython-input-73-9b8454a94c2c>\u001b[0m in \u001b[0;36mpembagian\u001b[0;34m(a, b)\u001b[0m\n\u001b[1;32m      1\u001b[0m \u001b[0;32mdef\u001b[0m \u001b[0mpembagian\u001b[0m \u001b[0;34m(\u001b[0m\u001b[0ma\u001b[0m\u001b[0;34m,\u001b[0m\u001b[0mb\u001b[0m\u001b[0;34m)\u001b[0m\u001b[0;34m:\u001b[0m\u001b[0;34m\u001b[0m\u001b[0;34m\u001b[0m\u001b[0m\n\u001b[0;32m----> 2\u001b[0;31m     \u001b[0;32mreturn\u001b[0m \u001b[0ma\u001b[0m\u001b[0;34m/\u001b[0m\u001b[0mb\u001b[0m\u001b[0;34m\u001b[0m\u001b[0;34m\u001b[0m\u001b[0m\n\u001b[0m\u001b[1;32m      3\u001b[0m \u001b[0;34m\u001b[0m\u001b[0m\n\u001b[1;32m      4\u001b[0m \u001b[0mPenyebut\u001b[0m \u001b[0;34m=\u001b[0m \u001b[0mint\u001b[0m\u001b[0;34m(\u001b[0m\u001b[0minput\u001b[0m\u001b[0;34m(\u001b[0m\u001b[0;34m\"Masukkan Angka Penyebut\\n\"\u001b[0m\u001b[0;34m)\u001b[0m\u001b[0;34m)\u001b[0m\u001b[0;34m\u001b[0m\u001b[0;34m\u001b[0m\u001b[0m\n\u001b[1;32m      5\u001b[0m \u001b[0mPembilang\u001b[0m \u001b[0;34m=\u001b[0m \u001b[0mint\u001b[0m\u001b[0;34m(\u001b[0m\u001b[0minput\u001b[0m\u001b[0;34m(\u001b[0m\u001b[0;34m\"Masukkan Angka Pembilang?\\n\"\u001b[0m\u001b[0;34m)\u001b[0m\u001b[0;34m)\u001b[0m \u001b[0;31m#Kalo misal dimasukkin 0, maka terjadi ZeroDivisionError\u001b[0m\u001b[0;34m\u001b[0m\u001b[0;34m\u001b[0m\u001b[0m\n",
            "\u001b[0;31mZeroDivisionError\u001b[0m: division by zero"
          ]
        }
      ]
    },
    {
      "cell_type": "markdown",
      "metadata": {
        "id": "KkkefCLh95Ti"
      },
      "source": [
        "Error berbahaya kalo kita bikin program. Kenapa berbahaya?\n",
        "karna kalo ada error di tengah2 program, program kita langsung close\n",
        "\n",
        "Misal kita ada looping, tiba-tiba ada error di tengah-tengah proses\n",
        "\n",
        "Bagaimana caranya kita mengabaikan error dan terus lanjut?\n",
        "ada namanya try and exception"
      ]
    },
    {
      "cell_type": "code",
      "metadata": {
        "colab": {
          "base_uri": "https://localhost:8080/"
        },
        "id": "G6s4bW5T-qFF",
        "outputId": "b2168212-da8e-42e6-a827-01c9c7384e39"
      },
      "source": [
        "#Try and Exception\n",
        "try:\n",
        "    a = 1/0\n",
        "except:\n",
        "    print(\"error pembagi nol\")\n",
        "\n",
        "print(\"Akhir dari Program\")"
      ],
      "execution_count": null,
      "outputs": [
        {
          "output_type": "stream",
          "text": [
            "error pembagi nol\n",
            "Akhir dari Program\n"
          ],
          "name": "stdout"
        }
      ]
    },
    {
      "cell_type": "code",
      "metadata": {
        "colab": {
          "base_uri": "https://localhost:8080/"
        },
        "id": "mAr-XbXl-w0b",
        "outputId": "73024350-f9c1-4077-f428-5640ed04e5fa"
      },
      "source": [
        "#Contoh lain\n",
        "while True:\n",
        "    try:\n",
        "        penyebut = int(input(\"Masukkan Penyebut:\\n\"))\n",
        "        pembilang = int(input(\"Masukkan Pembilang:\\n\"))\n",
        "        hasil = penyebut/pembilang\n",
        "        break\n",
        "    except ValueError:\n",
        "        print(\"Yang anda masukkan bukan angka\")\n",
        "    except ZeroDivisionError:\n",
        "        print(\"Angka pembilang yang anda masukan adalah 0\")\n",
        "\n",
        "print(\"Hasil Pembagian dari\", penyebut, \"dan\", pembilang, \"adalah: \", hasil)"
      ],
      "execution_count": null,
      "outputs": [
        {
          "output_type": "stream",
          "text": [
            "Masukkan Penyebut:\n",
            "12\n",
            "Masukkan Pembilang:\n",
            "0\n",
            "Angka pembilang yang anda masukan adalah 0\n",
            "Masukkan Penyebut:\n",
            "12\n",
            "Masukkan Pembilang:\n",
            "12\n",
            "Hasil Pembagian dari 12 dan 12 adalah:  1.0\n"
          ],
          "name": "stdout"
        }
      ]
    },
    {
      "cell_type": "markdown",
      "metadata": {
        "id": "Ib2R6cLf-7_6"
      },
      "source": [
        "Jadi ada 3 cara:\n",
        "1. except ajah, tanpa tau jenis errornya apa. print keterangan tertentu\n",
        "2. except (Jenis Error), buat ngasih keterangan pada jenis error tertentu\n",
        "3. except Exception as err:\n",
        "`print(err)`"
      ]
    },
    {
      "cell_type": "markdown",
      "metadata": {
        "id": "s0ZYXMPD_XL9"
      },
      "source": [
        "# **Virtual Environment**"
      ]
    },
    {
      "cell_type": "markdown",
      "metadata": {
        "id": "qyIzUVkI_bh9"
      },
      "source": [
        "Cara Membuat Virtual Environment:\n",
        "- `python -m venv` (project1) ==> Dibikin dulu virtual environment nyq sebelum bikin project\n",
        "- `dir` ==> ngecek project 1 nya udah ada apa belom\n",
        "- `project1\\Scripts\\activate.bat` ==> mengaktivasi virtual environment\n",
        "- `deactivate` ==> keluar dari virtual environment\n",
        "- Kalau mau ganti virtual environment di VSCode ==> `Ctrl + Shift + P` ==> Python: Select Interpreter ==> pilih interpreternya\n",
        "- `CD` (nama interpreter) ==> pindah environment\n",
        "`venv\\Scripts\\activate.bat`"
      ]
    },
    {
      "cell_type": "markdown",
      "metadata": {
        "id": "fkofXhUD_2op"
      },
      "source": [
        "Migrasi ke Environment Lain:\n",
        "- `pip freeze --local` > `requirement.txt` ==> migrasi ke virtual environment ke cloud server. taro semua yg ada dienvironment satu ke lain\n",
        "- `ls` ==> list \n",
        "- `deactivate`\n",
        "- `cd ../Environment/` ==> pindah ke environment\n",
        "- `source project/bin/activate`\n",
        "- copy requirement environment ke environment lain\n",
        "- `pip install -r requirement.txt` ==> menginstall requirement ke server kita semua projeknya install packagenya sesuai versinya\n",
        "- `pip list --format=columns`"
      ]
    }
  ]
}